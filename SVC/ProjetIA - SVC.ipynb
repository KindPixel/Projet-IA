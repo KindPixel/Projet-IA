{
 "cells": [
  {
   "cell_type": "markdown",
   "metadata": {},
   "source": [
    "# Preparation des données\n",
    "### Initialisation du projet\n",
    "\n"
   ]
  },
  {
   "cell_type": "code",
   "execution_count": 1,
   "metadata": {},
   "outputs": [],
   "source": [
    "# imports\n",
    "import numpy as np\n",
    "import os\n",
    "\n",
    "from numpy.random import default_rng\n",
    "# stabilité du notebook d'une exécution à l'autre\n",
    "random=default_rng(420) \n",
    "\n",
    "# jolies figures directement dans le notebook\n",
    "%matplotlib inline\n",
    "import matplotlib\n",
    "import matplotlib.pyplot as plt\n",
    "plt.rcParams['axes.labelsize'] = 14\n",
    "plt.rcParams['xtick.labelsize'] = 12\n",
    "plt.rcParams['ytick.labelsize'] = 12\n",
    "\n",
    "# où sauver les figures\n",
    "PROJECT_ROOT_DIR = \".\"\n",
    "CHAPTER_ID = \"projet\"\n",
    "IMAGES_PATH = os.path.join(PROJECT_ROOT_DIR, \"img\") # le dossier doit exister\n",
    "\n",
    "def save_fig(fig_id, tight_layout=True, fig_extension=\"png\", resolution=500):\n",
    "    path = os.path.join(IMAGES_PATH, fig_id + \".\" + fig_extension)\n",
    "    print(\"Saving figure\", fig_id)\n",
    "    if tight_layout:\n",
    "        plt.tight_layout()\n",
    "    plt.savefig(path, format=fig_extension, dpi=resolution)\n"
   ]
  },
  {
   "cell_type": "markdown",
   "metadata": {},
   "source": [
    "### Importation des données (csv)"
   ]
  },
  {
   "cell_type": "code",
   "execution_count": 2,
   "metadata": {},
   "outputs": [],
   "source": [
    "import os\n",
    "import pandas as pd\n",
    "\n",
    "DATASETS_PATH = os.path.join(\"..\\datasets\")\n",
    "\n",
    "def load_datasets_data(dataset_path=DATASETS_PATH):\n",
    "\tcsv_general = pd.read_csv(os.path.join(dataset_path, \"general_data.csv\"))\n",
    "\tcsv_manager = pd.read_csv(os.path.join(dataset_path, \"manager_survey_data.csv\"))\n",
    "\tcsv_employee = pd.read_csv(os.path.join(dataset_path, \"employee_survey_data.csv\"))\n",
    "\tcsv_intime = pd.read_csv(os.path.join(dataset_path, \"in_time.csv\"))\n",
    "\tcsv_outtime = pd.read_csv(os.path.join(dataset_path, \"out_time.csv\"))\n",
    "\treturn csv_general, csv_manager, csv_employee, csv_intime, csv_outtime"
   ]
  },
  {
   "cell_type": "code",
   "execution_count": 3,
   "metadata": {},
   "outputs": [],
   "source": [
    "general_set, manager_set, employee_set, intime_set, outtime_set = load_datasets_data()"
   ]
  },
  {
   "cell_type": "markdown",
   "metadata": {},
   "source": [
    "### Fusion des donnée indexé sur EmployeeID"
   ]
  },
  {
   "cell_type": "code",
   "execution_count": 4,
   "metadata": {},
   "outputs": [],
   "source": [
    "dataset_merge = general_set.merge(employee_set.merge(manager_set, on=\"EmployeeID\"), on=\"EmployeeID\")\n",
    "dataset = dataset_merge.copy()"
   ]
  },
  {
   "cell_type": "markdown",
   "metadata": {},
   "source": [
    "### Traitement des informations d'entrée et de sortie"
   ]
  },
  {
   "cell_type": "code",
   "execution_count": 5,
   "metadata": {},
   "outputs": [
    {
     "name": "stdout",
     "output_type": "stream",
     "text": [
      "<class 'pandas.core.frame.DataFrame'>\n",
      "RangeIndex: 4410 entries, 0 to 4409\n",
      "Columns: 262 entries, Unnamed: 0 to 2015-12-31\n",
      "dtypes: float64(12), int64(1), object(249)\n",
      "memory usage: 8.8+ MB\n"
     ]
    }
   ],
   "source": [
    "intime_set.info()"
   ]
  },
  {
   "cell_type": "code",
   "execution_count": 6,
   "metadata": {},
   "outputs": [
    {
     "name": "stdout",
     "output_type": "stream",
     "text": [
      "<class 'pandas.core.frame.DataFrame'>\n",
      "RangeIndex: 4410 entries, 0 to 4409\n",
      "Columns: 262 entries, Unnamed: 0 to 2015-12-31\n",
      "dtypes: float64(12), int64(1), object(249)\n",
      "memory usage: 8.8+ MB\n"
     ]
    }
   ],
   "source": [
    "outtime_set.info()\n"
   ]
  },
  {
   "cell_type": "code",
   "execution_count": 7,
   "metadata": {},
   "outputs": [],
   "source": [
    "intime_set = intime_set.replace(np.nan, 0)"
   ]
  },
  {
   "cell_type": "code",
   "execution_count": 8,
   "metadata": {},
   "outputs": [
    {
     "name": "stdout",
     "output_type": "stream",
     "text": [
      "<class 'pandas.core.frame.DataFrame'>\n",
      "RangeIndex: 4410 entries, 0 to 4409\n",
      "Columns: 262 entries, Unnamed: 0 to 2015-12-31\n",
      "dtypes: datetime64[ns](261), int64(1)\n",
      "memory usage: 8.8 MB\n"
     ]
    }
   ],
   "source": [
    "intime_set.iloc[:, 1:] = intime_set.iloc[:, 1:].apply(pd.to_datetime, errors='coerce')\n",
    "intime_set.info()"
   ]
  },
  {
   "cell_type": "code",
   "execution_count": 9,
   "metadata": {},
   "outputs": [
    {
     "name": "stdout",
     "output_type": "stream",
     "text": [
      "<class 'pandas.core.frame.DataFrame'>\n",
      "RangeIndex: 4410 entries, 0 to 4409\n",
      "Columns: 262 entries, Unnamed: 0 to 2015-12-31\n",
      "dtypes: float64(12), int64(1), object(249)\n",
      "memory usage: 8.8+ MB\n"
     ]
    }
   ],
   "source": [
    "outtime_set = outtime_set.replace(np.nan, 0)\n",
    "outtime_set.info()"
   ]
  },
  {
   "cell_type": "code",
   "execution_count": 10,
   "metadata": {},
   "outputs": [],
   "source": [
    "outtime_set.iloc[:, 1:] = outtime_set.iloc[:, 1:].apply(pd.to_datetime, errors='coerce')\n"
   ]
  },
  {
   "cell_type": "markdown",
   "metadata": {},
   "source": [
    "Fusion de outime et de intime"
   ]
  },
  {
   "cell_type": "code",
   "execution_count": 11,
   "metadata": {},
   "outputs": [
    {
     "name": "stdout",
     "output_type": "stream",
     "text": [
      "<class 'pandas.core.frame.DataFrame'>\n",
      "Int64Index: 8820 entries, 0 to 4409\n",
      "Columns: 262 entries, Unnamed: 0 to 2015-12-31\n",
      "dtypes: datetime64[ns](261), int64(1)\n",
      "memory usage: 17.7 MB\n"
     ]
    }
   ],
   "source": [
    "intime_set = intime_set.append(outtime_set)\n",
    "intime_set.info()"
   ]
  },
  {
   "cell_type": "code",
   "execution_count": 12,
   "metadata": {},
   "outputs": [
    {
     "name": "stderr",
     "output_type": "stream",
     "text": [
      "C:\\Users\\cruel\\AppData\\Local\\Temp/ipykernel_11676/687009886.py:3: PerformanceWarning: DataFrame is highly fragmented.  This is usually the result of calling `frame.insert` many times, which has poor performance.  Consider joining all columns at once using pd.concat(axis=1) instead.  To get a de-fragmented frame, use `newframe = frame.copy()`\n",
      "  intime_set.reset_index(inplace=True)\n"
     ]
    }
   ],
   "source": [
    "intime_set = intime_set.diff(periods=4410)\n",
    "intime_set = intime_set.iloc[4410:]\n",
    "intime_set.reset_index(inplace=True)"
   ]
  },
  {
   "cell_type": "code",
   "execution_count": 13,
   "metadata": {},
   "outputs": [],
   "source": [
    "intime_set.drop(columns=['index', 'Unnamed: 0'],axis=1, inplace=True)"
   ]
  },
  {
   "cell_type": "code",
   "execution_count": 14,
   "metadata": {},
   "outputs": [
    {
     "data": {
      "text/plain": [
       "(4410, 261)"
      ]
     },
     "execution_count": 14,
     "metadata": {},
     "output_type": "execute_result"
    }
   ],
   "source": [
    "intime_set.shape"
   ]
  },
  {
   "cell_type": "code",
   "execution_count": 15,
   "metadata": {},
   "outputs": [],
   "source": [
    "intime_set.drop(['2015-01-01', '2015-01-14','2015-01-26','2015-03-05',\n",
    "             '2015-05-01','2015-07-17','2015-09-17','2015-10-02',\n",
    "              '2015-11-09','2015-11-10','2015-11-11','2015-12-25'\n",
    "             ], axis = 1,inplace=True)"
   ]
  },
  {
   "cell_type": "code",
   "execution_count": 16,
   "metadata": {},
   "outputs": [
    {
     "data": {
      "text/html": [
       "<div>\n",
       "<style scoped>\n",
       "    .dataframe tbody tr th:only-of-type {\n",
       "        vertical-align: middle;\n",
       "    }\n",
       "\n",
       "    .dataframe tbody tr th {\n",
       "        vertical-align: top;\n",
       "    }\n",
       "\n",
       "    .dataframe thead th {\n",
       "        text-align: right;\n",
       "    }\n",
       "</style>\n",
       "<table border=\"1\" class=\"dataframe\">\n",
       "  <thead>\n",
       "    <tr style=\"text-align: right;\">\n",
       "      <th></th>\n",
       "      <th>2015-01-02</th>\n",
       "      <th>2015-01-05</th>\n",
       "      <th>2015-01-06</th>\n",
       "      <th>2015-01-07</th>\n",
       "      <th>2015-01-08</th>\n",
       "      <th>2015-01-09</th>\n",
       "      <th>2015-01-12</th>\n",
       "      <th>2015-01-13</th>\n",
       "      <th>2015-01-15</th>\n",
       "      <th>2015-01-16</th>\n",
       "      <th>...</th>\n",
       "      <th>2015-12-17</th>\n",
       "      <th>2015-12-18</th>\n",
       "      <th>2015-12-21</th>\n",
       "      <th>2015-12-22</th>\n",
       "      <th>2015-12-23</th>\n",
       "      <th>2015-12-24</th>\n",
       "      <th>2015-12-28</th>\n",
       "      <th>2015-12-29</th>\n",
       "      <th>2015-12-30</th>\n",
       "      <th>2015-12-31</th>\n",
       "    </tr>\n",
       "  </thead>\n",
       "  <tbody>\n",
       "    <tr>\n",
       "      <th>0</th>\n",
       "      <td>0 days 07:12:30</td>\n",
       "      <td>0 days 07:11:23</td>\n",
       "      <td>0 days 07:24:39</td>\n",
       "      <td>0 days 07:00:24</td>\n",
       "      <td>0 days 07:17:23</td>\n",
       "      <td>0 days 07:29:04</td>\n",
       "      <td>0 days 07:15:46</td>\n",
       "      <td>0 days 07:49:52</td>\n",
       "      <td>0 days 07:20:49</td>\n",
       "      <td>0 days 07:16:03</td>\n",
       "      <td>...</td>\n",
       "      <td>0 days 00:00:00</td>\n",
       "      <td>0 days 00:00:00</td>\n",
       "      <td>0 days 07:20:21</td>\n",
       "      <td>0 days 07:23:45</td>\n",
       "      <td>0 days 06:30:17</td>\n",
       "      <td>0 days 07:35:47</td>\n",
       "      <td>0 days 07:46:26</td>\n",
       "      <td>0 days 07:18:54</td>\n",
       "      <td>0 days 07:46:44</td>\n",
       "      <td>0 days 07:04:49</td>\n",
       "    </tr>\n",
       "    <tr>\n",
       "      <th>1</th>\n",
       "      <td>0 days 08:06:33</td>\n",
       "      <td>0 days 07:27:17</td>\n",
       "      <td>0 days 00:00:00</td>\n",
       "      <td>0 days 07:23:49</td>\n",
       "      <td>0 days 07:25:00</td>\n",
       "      <td>0 days 07:09:03</td>\n",
       "      <td>0 days 07:36:41</td>\n",
       "      <td>0 days 07:16:44</td>\n",
       "      <td>0 days 07:36:47</td>\n",
       "      <td>0 days 07:43:39</td>\n",
       "      <td>...</td>\n",
       "      <td>0 days 07:55:42</td>\n",
       "      <td>0 days 07:54:11</td>\n",
       "      <td>0 days 07:45:14</td>\n",
       "      <td>0 days 07:42:44</td>\n",
       "      <td>0 days 07:26:08</td>\n",
       "      <td>0 days 00:00:00</td>\n",
       "      <td>0 days 07:36:53</td>\n",
       "      <td>0 days 07:58:57</td>\n",
       "      <td>0 days 07:59:10</td>\n",
       "      <td>0 days 08:13:38</td>\n",
       "    </tr>\n",
       "    <tr>\n",
       "      <th>2</th>\n",
       "      <td>0 days 06:41:33</td>\n",
       "      <td>0 days 07:15:56</td>\n",
       "      <td>0 days 06:24:19</td>\n",
       "      <td>0 days 06:45:54</td>\n",
       "      <td>0 days 07:20:42</td>\n",
       "      <td>0 days 06:51:41</td>\n",
       "      <td>0 days 07:25:07</td>\n",
       "      <td>0 days 06:59:59</td>\n",
       "      <td>0 days 07:26:18</td>\n",
       "      <td>0 days 07:12:37</td>\n",
       "      <td>...</td>\n",
       "      <td>0 days 07:13:06</td>\n",
       "      <td>0 days 06:47:09</td>\n",
       "      <td>0 days 07:09:49</td>\n",
       "      <td>0 days 06:48:06</td>\n",
       "      <td>0 days 06:43:49</td>\n",
       "      <td>0 days 06:50:59</td>\n",
       "      <td>0 days 07:01:26</td>\n",
       "      <td>0 days 07:26:20</td>\n",
       "      <td>0 days 07:32:20</td>\n",
       "      <td>0 days 06:47:11</td>\n",
       "    </tr>\n",
       "    <tr>\n",
       "      <th>3</th>\n",
       "      <td>0 days 07:20:18</td>\n",
       "      <td>0 days 07:17:31</td>\n",
       "      <td>0 days 06:56:35</td>\n",
       "      <td>0 days 06:55:10</td>\n",
       "      <td>0 days 06:51:03</td>\n",
       "      <td>0 days 07:11:35</td>\n",
       "      <td>0 days 06:59:55</td>\n",
       "      <td>0 days 07:18:23</td>\n",
       "      <td>0 days 06:52:36</td>\n",
       "      <td>0 days 06:54:28</td>\n",
       "      <td>...</td>\n",
       "      <td>0 days 07:27:21</td>\n",
       "      <td>0 days 07:37:45</td>\n",
       "      <td>0 days 06:50:48</td>\n",
       "      <td>0 days 07:19:35</td>\n",
       "      <td>0 days 07:24:49</td>\n",
       "      <td>0 days 07:05:06</td>\n",
       "      <td>0 days 07:26:50</td>\n",
       "      <td>0 days 07:25:00</td>\n",
       "      <td>0 days 07:21:59</td>\n",
       "      <td>0 days 07:07:59</td>\n",
       "    </tr>\n",
       "    <tr>\n",
       "      <th>4</th>\n",
       "      <td>0 days 08:03:20</td>\n",
       "      <td>0 days 07:59:17</td>\n",
       "      <td>0 days 07:40:57</td>\n",
       "      <td>0 days 07:48:22</td>\n",
       "      <td>0 days 07:39:44</td>\n",
       "      <td>0 days 07:43:18</td>\n",
       "      <td>0 days 08:21:54</td>\n",
       "      <td>0 days 08:15:26</td>\n",
       "      <td>0 days 08:15:36</td>\n",
       "      <td>0 days 08:24:13</td>\n",
       "      <td>...</td>\n",
       "      <td>0 days 08:19:12</td>\n",
       "      <td>0 days 07:54:13</td>\n",
       "      <td>0 days 07:39:54</td>\n",
       "      <td>0 days 07:57:27</td>\n",
       "      <td>0 days 07:47:13</td>\n",
       "      <td>0 days 08:14:58</td>\n",
       "      <td>0 days 07:39:44</td>\n",
       "      <td>0 days 08:16:07</td>\n",
       "      <td>0 days 07:57:12</td>\n",
       "      <td>0 days 08:01:05</td>\n",
       "    </tr>\n",
       "  </tbody>\n",
       "</table>\n",
       "<p>5 rows × 249 columns</p>\n",
       "</div>"
      ],
      "text/plain": [
       "       2015-01-02      2015-01-05      2015-01-06      2015-01-07  \\\n",
       "0 0 days 07:12:30 0 days 07:11:23 0 days 07:24:39 0 days 07:00:24   \n",
       "1 0 days 08:06:33 0 days 07:27:17 0 days 00:00:00 0 days 07:23:49   \n",
       "2 0 days 06:41:33 0 days 07:15:56 0 days 06:24:19 0 days 06:45:54   \n",
       "3 0 days 07:20:18 0 days 07:17:31 0 days 06:56:35 0 days 06:55:10   \n",
       "4 0 days 08:03:20 0 days 07:59:17 0 days 07:40:57 0 days 07:48:22   \n",
       "\n",
       "       2015-01-08      2015-01-09      2015-01-12      2015-01-13  \\\n",
       "0 0 days 07:17:23 0 days 07:29:04 0 days 07:15:46 0 days 07:49:52   \n",
       "1 0 days 07:25:00 0 days 07:09:03 0 days 07:36:41 0 days 07:16:44   \n",
       "2 0 days 07:20:42 0 days 06:51:41 0 days 07:25:07 0 days 06:59:59   \n",
       "3 0 days 06:51:03 0 days 07:11:35 0 days 06:59:55 0 days 07:18:23   \n",
       "4 0 days 07:39:44 0 days 07:43:18 0 days 08:21:54 0 days 08:15:26   \n",
       "\n",
       "       2015-01-15      2015-01-16  ...      2015-12-17      2015-12-18  \\\n",
       "0 0 days 07:20:49 0 days 07:16:03  ... 0 days 00:00:00 0 days 00:00:00   \n",
       "1 0 days 07:36:47 0 days 07:43:39  ... 0 days 07:55:42 0 days 07:54:11   \n",
       "2 0 days 07:26:18 0 days 07:12:37  ... 0 days 07:13:06 0 days 06:47:09   \n",
       "3 0 days 06:52:36 0 days 06:54:28  ... 0 days 07:27:21 0 days 07:37:45   \n",
       "4 0 days 08:15:36 0 days 08:24:13  ... 0 days 08:19:12 0 days 07:54:13   \n",
       "\n",
       "       2015-12-21      2015-12-22      2015-12-23      2015-12-24  \\\n",
       "0 0 days 07:20:21 0 days 07:23:45 0 days 06:30:17 0 days 07:35:47   \n",
       "1 0 days 07:45:14 0 days 07:42:44 0 days 07:26:08 0 days 00:00:00   \n",
       "2 0 days 07:09:49 0 days 06:48:06 0 days 06:43:49 0 days 06:50:59   \n",
       "3 0 days 06:50:48 0 days 07:19:35 0 days 07:24:49 0 days 07:05:06   \n",
       "4 0 days 07:39:54 0 days 07:57:27 0 days 07:47:13 0 days 08:14:58   \n",
       "\n",
       "       2015-12-28      2015-12-29      2015-12-30      2015-12-31  \n",
       "0 0 days 07:46:26 0 days 07:18:54 0 days 07:46:44 0 days 07:04:49  \n",
       "1 0 days 07:36:53 0 days 07:58:57 0 days 07:59:10 0 days 08:13:38  \n",
       "2 0 days 07:01:26 0 days 07:26:20 0 days 07:32:20 0 days 06:47:11  \n",
       "3 0 days 07:26:50 0 days 07:25:00 0 days 07:21:59 0 days 07:07:59  \n",
       "4 0 days 07:39:44 0 days 08:16:07 0 days 07:57:12 0 days 08:01:05  \n",
       "\n",
       "[5 rows x 249 columns]"
      ]
     },
     "execution_count": 16,
     "metadata": {},
     "output_type": "execute_result"
    }
   ],
   "source": [
    "intime_set.head()"
   ]
  },
  {
   "cell_type": "code",
   "execution_count": 17,
   "metadata": {},
   "outputs": [],
   "source": [
    "intime_set['Actual Time']=intime_set.mean(axis=1)"
   ]
  },
  {
   "cell_type": "code",
   "execution_count": 18,
   "metadata": {},
   "outputs": [
    {
     "data": {
      "text/plain": [
       "0   0 days 06:52:12.823293172\n",
       "1   0 days 07:18:57.493975903\n",
       "2   0 days 06:48:57.891566265\n",
       "3   0 days 06:47:21.172690763\n",
       "4   0 days 07:52:39.220883534\n",
       "Name: Actual Time, dtype: timedelta64[ns]"
      ]
     },
     "execution_count": 18,
     "metadata": {},
     "output_type": "execute_result"
    }
   ],
   "source": [
    "intime_set['Actual Time'].head()"
   ]
  },
  {
   "cell_type": "code",
   "execution_count": 19,
   "metadata": {},
   "outputs": [],
   "source": [
    "intime_set['hrs']=intime_set['Actual Time']/np.timedelta64(1,'h')\n"
   ]
  },
  {
   "cell_type": "code",
   "execution_count": 20,
   "metadata": {},
   "outputs": [
    {
     "data": {
      "text/html": [
       "<div>\n",
       "<style scoped>\n",
       "    .dataframe tbody tr th:only-of-type {\n",
       "        vertical-align: middle;\n",
       "    }\n",
       "\n",
       "    .dataframe tbody tr th {\n",
       "        vertical-align: top;\n",
       "    }\n",
       "\n",
       "    .dataframe thead th {\n",
       "        text-align: right;\n",
       "    }\n",
       "</style>\n",
       "<table border=\"1\" class=\"dataframe\">\n",
       "  <thead>\n",
       "    <tr style=\"text-align: right;\">\n",
       "      <th></th>\n",
       "      <th>index</th>\n",
       "      <th>2015-01-02</th>\n",
       "      <th>2015-01-05</th>\n",
       "      <th>2015-01-06</th>\n",
       "      <th>2015-01-07</th>\n",
       "      <th>2015-01-08</th>\n",
       "      <th>2015-01-09</th>\n",
       "      <th>2015-01-12</th>\n",
       "      <th>2015-01-13</th>\n",
       "      <th>2015-01-15</th>\n",
       "      <th>...</th>\n",
       "      <th>2015-12-21</th>\n",
       "      <th>2015-12-22</th>\n",
       "      <th>2015-12-23</th>\n",
       "      <th>2015-12-24</th>\n",
       "      <th>2015-12-28</th>\n",
       "      <th>2015-12-29</th>\n",
       "      <th>2015-12-30</th>\n",
       "      <th>2015-12-31</th>\n",
       "      <th>Actual Time</th>\n",
       "      <th>hrs</th>\n",
       "    </tr>\n",
       "  </thead>\n",
       "  <tbody>\n",
       "    <tr>\n",
       "      <th>0</th>\n",
       "      <td>0</td>\n",
       "      <td>0 days 07:12:30</td>\n",
       "      <td>0 days 07:11:23</td>\n",
       "      <td>0 days 07:24:39</td>\n",
       "      <td>0 days 07:00:24</td>\n",
       "      <td>0 days 07:17:23</td>\n",
       "      <td>0 days 07:29:04</td>\n",
       "      <td>0 days 07:15:46</td>\n",
       "      <td>0 days 07:49:52</td>\n",
       "      <td>0 days 07:20:49</td>\n",
       "      <td>...</td>\n",
       "      <td>0 days 07:20:21</td>\n",
       "      <td>0 days 07:23:45</td>\n",
       "      <td>0 days 06:30:17</td>\n",
       "      <td>0 days 07:35:47</td>\n",
       "      <td>0 days 07:46:26</td>\n",
       "      <td>0 days 07:18:54</td>\n",
       "      <td>0 days 07:46:44</td>\n",
       "      <td>0 days 07:04:49</td>\n",
       "      <td>0 days 06:52:12.823293172</td>\n",
       "      <td>6.870229</td>\n",
       "    </tr>\n",
       "    <tr>\n",
       "      <th>1</th>\n",
       "      <td>1</td>\n",
       "      <td>0 days 08:06:33</td>\n",
       "      <td>0 days 07:27:17</td>\n",
       "      <td>0 days 00:00:00</td>\n",
       "      <td>0 days 07:23:49</td>\n",
       "      <td>0 days 07:25:00</td>\n",
       "      <td>0 days 07:09:03</td>\n",
       "      <td>0 days 07:36:41</td>\n",
       "      <td>0 days 07:16:44</td>\n",
       "      <td>0 days 07:36:47</td>\n",
       "      <td>...</td>\n",
       "      <td>0 days 07:45:14</td>\n",
       "      <td>0 days 07:42:44</td>\n",
       "      <td>0 days 07:26:08</td>\n",
       "      <td>0 days 00:00:00</td>\n",
       "      <td>0 days 07:36:53</td>\n",
       "      <td>0 days 07:58:57</td>\n",
       "      <td>0 days 07:59:10</td>\n",
       "      <td>0 days 08:13:38</td>\n",
       "      <td>0 days 07:18:57.493975903</td>\n",
       "      <td>7.315971</td>\n",
       "    </tr>\n",
       "    <tr>\n",
       "      <th>2</th>\n",
       "      <td>2</td>\n",
       "      <td>0 days 06:41:33</td>\n",
       "      <td>0 days 07:15:56</td>\n",
       "      <td>0 days 06:24:19</td>\n",
       "      <td>0 days 06:45:54</td>\n",
       "      <td>0 days 07:20:42</td>\n",
       "      <td>0 days 06:51:41</td>\n",
       "      <td>0 days 07:25:07</td>\n",
       "      <td>0 days 06:59:59</td>\n",
       "      <td>0 days 07:26:18</td>\n",
       "      <td>...</td>\n",
       "      <td>0 days 07:09:49</td>\n",
       "      <td>0 days 06:48:06</td>\n",
       "      <td>0 days 06:43:49</td>\n",
       "      <td>0 days 06:50:59</td>\n",
       "      <td>0 days 07:01:26</td>\n",
       "      <td>0 days 07:26:20</td>\n",
       "      <td>0 days 07:32:20</td>\n",
       "      <td>0 days 06:47:11</td>\n",
       "      <td>0 days 06:48:57.891566265</td>\n",
       "      <td>6.816081</td>\n",
       "    </tr>\n",
       "    <tr>\n",
       "      <th>3</th>\n",
       "      <td>3</td>\n",
       "      <td>0 days 07:20:18</td>\n",
       "      <td>0 days 07:17:31</td>\n",
       "      <td>0 days 06:56:35</td>\n",
       "      <td>0 days 06:55:10</td>\n",
       "      <td>0 days 06:51:03</td>\n",
       "      <td>0 days 07:11:35</td>\n",
       "      <td>0 days 06:59:55</td>\n",
       "      <td>0 days 07:18:23</td>\n",
       "      <td>0 days 06:52:36</td>\n",
       "      <td>...</td>\n",
       "      <td>0 days 06:50:48</td>\n",
       "      <td>0 days 07:19:35</td>\n",
       "      <td>0 days 07:24:49</td>\n",
       "      <td>0 days 07:05:06</td>\n",
       "      <td>0 days 07:26:50</td>\n",
       "      <td>0 days 07:25:00</td>\n",
       "      <td>0 days 07:21:59</td>\n",
       "      <td>0 days 07:07:59</td>\n",
       "      <td>0 days 06:47:21.172690763</td>\n",
       "      <td>6.789215</td>\n",
       "    </tr>\n",
       "    <tr>\n",
       "      <th>4</th>\n",
       "      <td>4</td>\n",
       "      <td>0 days 08:03:20</td>\n",
       "      <td>0 days 07:59:17</td>\n",
       "      <td>0 days 07:40:57</td>\n",
       "      <td>0 days 07:48:22</td>\n",
       "      <td>0 days 07:39:44</td>\n",
       "      <td>0 days 07:43:18</td>\n",
       "      <td>0 days 08:21:54</td>\n",
       "      <td>0 days 08:15:26</td>\n",
       "      <td>0 days 08:15:36</td>\n",
       "      <td>...</td>\n",
       "      <td>0 days 07:39:54</td>\n",
       "      <td>0 days 07:57:27</td>\n",
       "      <td>0 days 07:47:13</td>\n",
       "      <td>0 days 08:14:58</td>\n",
       "      <td>0 days 07:39:44</td>\n",
       "      <td>0 days 08:16:07</td>\n",
       "      <td>0 days 07:57:12</td>\n",
       "      <td>0 days 08:01:05</td>\n",
       "      <td>0 days 07:52:39.220883534</td>\n",
       "      <td>7.877561</td>\n",
       "    </tr>\n",
       "  </tbody>\n",
       "</table>\n",
       "<p>5 rows × 252 columns</p>\n",
       "</div>"
      ],
      "text/plain": [
       "   index      2015-01-02      2015-01-05      2015-01-06      2015-01-07  \\\n",
       "0      0 0 days 07:12:30 0 days 07:11:23 0 days 07:24:39 0 days 07:00:24   \n",
       "1      1 0 days 08:06:33 0 days 07:27:17 0 days 00:00:00 0 days 07:23:49   \n",
       "2      2 0 days 06:41:33 0 days 07:15:56 0 days 06:24:19 0 days 06:45:54   \n",
       "3      3 0 days 07:20:18 0 days 07:17:31 0 days 06:56:35 0 days 06:55:10   \n",
       "4      4 0 days 08:03:20 0 days 07:59:17 0 days 07:40:57 0 days 07:48:22   \n",
       "\n",
       "       2015-01-08      2015-01-09      2015-01-12      2015-01-13  \\\n",
       "0 0 days 07:17:23 0 days 07:29:04 0 days 07:15:46 0 days 07:49:52   \n",
       "1 0 days 07:25:00 0 days 07:09:03 0 days 07:36:41 0 days 07:16:44   \n",
       "2 0 days 07:20:42 0 days 06:51:41 0 days 07:25:07 0 days 06:59:59   \n",
       "3 0 days 06:51:03 0 days 07:11:35 0 days 06:59:55 0 days 07:18:23   \n",
       "4 0 days 07:39:44 0 days 07:43:18 0 days 08:21:54 0 days 08:15:26   \n",
       "\n",
       "       2015-01-15  ...      2015-12-21      2015-12-22      2015-12-23  \\\n",
       "0 0 days 07:20:49  ... 0 days 07:20:21 0 days 07:23:45 0 days 06:30:17   \n",
       "1 0 days 07:36:47  ... 0 days 07:45:14 0 days 07:42:44 0 days 07:26:08   \n",
       "2 0 days 07:26:18  ... 0 days 07:09:49 0 days 06:48:06 0 days 06:43:49   \n",
       "3 0 days 06:52:36  ... 0 days 06:50:48 0 days 07:19:35 0 days 07:24:49   \n",
       "4 0 days 08:15:36  ... 0 days 07:39:54 0 days 07:57:27 0 days 07:47:13   \n",
       "\n",
       "       2015-12-24      2015-12-28      2015-12-29      2015-12-30  \\\n",
       "0 0 days 07:35:47 0 days 07:46:26 0 days 07:18:54 0 days 07:46:44   \n",
       "1 0 days 00:00:00 0 days 07:36:53 0 days 07:58:57 0 days 07:59:10   \n",
       "2 0 days 06:50:59 0 days 07:01:26 0 days 07:26:20 0 days 07:32:20   \n",
       "3 0 days 07:05:06 0 days 07:26:50 0 days 07:25:00 0 days 07:21:59   \n",
       "4 0 days 08:14:58 0 days 07:39:44 0 days 08:16:07 0 days 07:57:12   \n",
       "\n",
       "       2015-12-31               Actual Time       hrs  \n",
       "0 0 days 07:04:49 0 days 06:52:12.823293172  6.870229  \n",
       "1 0 days 08:13:38 0 days 07:18:57.493975903  7.315971  \n",
       "2 0 days 06:47:11 0 days 06:48:57.891566265  6.816081  \n",
       "3 0 days 07:07:59 0 days 06:47:21.172690763  6.789215  \n",
       "4 0 days 08:01:05 0 days 07:52:39.220883534  7.877561  \n",
       "\n",
       "[5 rows x 252 columns]"
      ]
     },
     "execution_count": 20,
     "metadata": {},
     "output_type": "execute_result"
    }
   ],
   "source": [
    "intime_set.reset_index(inplace=True)\n",
    "intime_set.head()"
   ]
  },
  {
   "cell_type": "code",
   "execution_count": 21,
   "metadata": {},
   "outputs": [
    {
     "name": "stderr",
     "output_type": "stream",
     "text": [
      "C:\\Users\\cruel\\AppData\\Local\\Temp/ipykernel_11676/280449017.py:1: FutureWarning: In a future version of pandas all arguments of DataFrame.drop except for the argument 'labels' will be keyword-only\n",
      "  intime_set.drop(intime_set.columns.difference(['index','hrs']), 1, inplace=True)\n"
     ]
    }
   ],
   "source": [
    "intime_set.drop(intime_set.columns.difference(['index','hrs']), 1, inplace=True)"
   ]
  },
  {
   "cell_type": "code",
   "execution_count": 22,
   "metadata": {},
   "outputs": [
    {
     "data": {
      "text/html": [
       "<div>\n",
       "<style scoped>\n",
       "    .dataframe tbody tr th:only-of-type {\n",
       "        vertical-align: middle;\n",
       "    }\n",
       "\n",
       "    .dataframe tbody tr th {\n",
       "        vertical-align: top;\n",
       "    }\n",
       "\n",
       "    .dataframe thead th {\n",
       "        text-align: right;\n",
       "    }\n",
       "</style>\n",
       "<table border=\"1\" class=\"dataframe\">\n",
       "  <thead>\n",
       "    <tr style=\"text-align: right;\">\n",
       "      <th></th>\n",
       "      <th>EmployeeID</th>\n",
       "      <th>hrs</th>\n",
       "    </tr>\n",
       "  </thead>\n",
       "  <tbody>\n",
       "    <tr>\n",
       "      <th>0</th>\n",
       "      <td>0</td>\n",
       "      <td>6.870229</td>\n",
       "    </tr>\n",
       "    <tr>\n",
       "      <th>1</th>\n",
       "      <td>1</td>\n",
       "      <td>7.315971</td>\n",
       "    </tr>\n",
       "    <tr>\n",
       "      <th>2</th>\n",
       "      <td>2</td>\n",
       "      <td>6.816081</td>\n",
       "    </tr>\n",
       "    <tr>\n",
       "      <th>3</th>\n",
       "      <td>3</td>\n",
       "      <td>6.789215</td>\n",
       "    </tr>\n",
       "    <tr>\n",
       "      <th>4</th>\n",
       "      <td>4</td>\n",
       "      <td>7.877561</td>\n",
       "    </tr>\n",
       "  </tbody>\n",
       "</table>\n",
       "</div>"
      ],
      "text/plain": [
       "   EmployeeID       hrs\n",
       "0           0  6.870229\n",
       "1           1  7.315971\n",
       "2           2  6.816081\n",
       "3           3  6.789215\n",
       "4           4  7.877561"
      ]
     },
     "execution_count": 22,
     "metadata": {},
     "output_type": "execute_result"
    }
   ],
   "source": [
    "intime_set.rename(columns={'index': 'EmployeeID'}, inplace=True)\n",
    "intime_set.head()"
   ]
  },
  {
   "cell_type": "code",
   "execution_count": 23,
   "metadata": {},
   "outputs": [],
   "source": [
    "dataset = dataset.merge(intime_set, on=\"EmployeeID\")"
   ]
  },
  {
   "cell_type": "markdown",
   "metadata": {},
   "source": [
    "### Nettoyage des données / Complétion"
   ]
  },
  {
   "cell_type": "code",
   "execution_count": 24,
   "metadata": {},
   "outputs": [],
   "source": [
    "#https://prod.liveshare.vsengsaas.visualstudio.com/join?6712A4B62ABC55A3AC374AFD25A834927C4D\n",
    "\n",
    "incomplete_attributes = [\"NumCompaniesWorked\",\"JobSatisfaction\",\"EnvironmentSatisfaction\",\"WorkLifeBalance\", \"TotalWorkingYears\"]\n",
    "\n",
    "for attribute in incomplete_attributes:\n",
    "\tmedian = dataset[attribute].median()\n",
    "\tdataset[attribute].fillna(median, inplace=True) # option 3\n",
    "\n",
    "#Autre methode\n",
    "# from sklearn.impute import SimpleImputer\n",
    "# imputer = SimpleImputer(missing_values=np.nan, strategy=\"median\")"
   ]
  },
  {
   "cell_type": "code",
   "execution_count": 25,
   "metadata": {},
   "outputs": [
    {
     "name": "stdout",
     "output_type": "stream",
     "text": [
      "Attrition NO:  3698  Attrition YES:  711\n"
     ]
    }
   ],
   "source": [
    "rawArray = [\"Age\",\"DistanceFromHome\",\"Education\",\"TotalWorkingYears\",\n",
    "\t\"TrainingTimesLastYear\",\"YearsAtCompany\",\"YearsSinceLastPromotion\",\"YearsWithCurrManager\",\n",
    "\t\"EnvironmentSatisfaction\", \"JobSatisfaction\", \"WorkLifeBalance\",\"JobInvolvement\", \"NumCompaniesWorked\", \"hrs\"]\n",
    "\n",
    "dataset_yes = dataset.where(dataset[\"Attrition\"]==\"Yes\", 0)\n",
    "dataset_no  = dataset.where(dataset[\"Attrition\"]==\"No\", 1)\n",
    "\n",
    "dataset_yes = dataset_yes.loc[dataset_yes[\"Attrition\"] != 0]\n",
    "dataset_no = dataset_no.loc[dataset_no[\"Attrition\"] != 1]\n",
    "\n",
    "print(\"Attrition NO: \", len(dataset_no) ,\" Attrition YES: \", len(dataset_yes))\n",
    "\n",
    "\n",
    "# for col in rawArray:\n",
    "#     plt.boxplot([dataset_yes[col].apply(np.int64), dataset_no[col].apply(np.int64)])\n",
    "#     print(col)\n",
    "#     plt.show()\n",
    "\n",
    "# for col in rawArray:\n",
    "# \tprint(col)\n",
    "# \tplt.hist(dataset_yes[col].apply(np.int64), color=\"red\", edgecolor='black', linewidth=1.2,bins=20)\n",
    "# \tplt.show()\n",
    "# \tplt.hist(dataset_no[col].apply(np.int64), color=\"green\", edgecolor='black', linewidth=1.2,bins=20)\n",
    "# \tplt.show()"
   ]
  },
  {
   "cell_type": "markdown",
   "metadata": {},
   "source": [
    "#### Séparation des données et de la colonne attrition"
   ]
  },
  {
   "cell_type": "code",
   "execution_count": 26,
   "metadata": {},
   "outputs": [],
   "source": [
    "# Data frame is created under column name Name and Attrition\n",
    "data_frame = pd.DataFrame(dataset, columns=[\"Attrition\"])\n",
    "\n",
    "# Data of Attrition is converted into Binary Data\n",
    "df_one = pd.get_dummies(data_frame[\"Attrition\"])\n",
    "\n",
    "# Binary Data is Concatenated into Dataframe\n",
    "df_two = pd.concat((df_one, data_frame), axis=1)\n",
    "\n",
    "# Attritioncolumn is dropped\n",
    "df_two = df_two.drop([\"Attrition\"], axis=1)\n",
    "\n",
    "# We want Male =0 and Female =1 So we drop Male column here\n",
    "df_two = df_two.drop([\"No\"], axis=1)\n",
    "\n",
    "# Rename the Column\n",
    "result = df_two.rename(columns={\"Yes\": \"Attrition\"})\n",
    "\n",
    "dataset_test = dataset.copy()\n",
    "dataset_test[\"Attrition\"] = result[\"Attrition\"]"
   ]
  },
  {
   "cell_type": "code",
   "execution_count": 27,
   "metadata": {},
   "outputs": [
    {
     "data": {
      "text/plain": [
       "Age                       -0.159177\n",
       "Attrition                  1.000000\n",
       "DistanceFromHome          -0.009505\n",
       "Education                 -0.015103\n",
       "EmployeeCount                   NaN\n",
       "EmployeeID                -0.004559\n",
       "JobLevel                  -0.010296\n",
       "MonthlyIncome             -0.031199\n",
       "NumCompaniesWorked         0.041963\n",
       "PercentSalaryHike          0.032449\n",
       "StandardHours                   NaN\n",
       "StockOptionLevel          -0.006932\n",
       "TotalWorkingYears         -0.170183\n",
       "TrainingTimesLastYear     -0.049219\n",
       "YearsAtCompany            -0.134247\n",
       "YearsSinceLastPromotion   -0.032995\n",
       "YearsWithCurrManager      -0.156100\n",
       "EnvironmentSatisfaction   -0.101814\n",
       "JobSatisfaction           -0.103047\n",
       "WorkLifeBalance           -0.062944\n",
       "JobInvolvement            -0.015416\n",
       "PerformanceRating          0.023362\n",
       "hrs                        0.000704\n",
       "Name: Attrition, dtype: float64"
      ]
     },
     "execution_count": 27,
     "metadata": {},
     "output_type": "execute_result"
    }
   ],
   "source": [
    "dataset_test.corr()[\"Attrition\"]"
   ]
  },
  {
   "cell_type": "code",
   "execution_count": 28,
   "metadata": {},
   "outputs": [
    {
     "data": {
      "text/html": [
       "<div>\n",
       "<style scoped>\n",
       "    .dataframe tbody tr th:only-of-type {\n",
       "        vertical-align: middle;\n",
       "    }\n",
       "\n",
       "    .dataframe tbody tr th {\n",
       "        vertical-align: top;\n",
       "    }\n",
       "\n",
       "    .dataframe thead th {\n",
       "        text-align: right;\n",
       "    }\n",
       "</style>\n",
       "<table border=\"1\" class=\"dataframe\">\n",
       "  <thead>\n",
       "    <tr style=\"text-align: right;\">\n",
       "      <th></th>\n",
       "      <th>Age</th>\n",
       "      <th>DistanceFromHome</th>\n",
       "      <th>Education</th>\n",
       "      <th>EmployeeCount</th>\n",
       "      <th>EmployeeID</th>\n",
       "      <th>JobLevel</th>\n",
       "      <th>MonthlyIncome</th>\n",
       "      <th>NumCompaniesWorked</th>\n",
       "      <th>PercentSalaryHike</th>\n",
       "      <th>StandardHours</th>\n",
       "      <th>...</th>\n",
       "      <th>TrainingTimesLastYear</th>\n",
       "      <th>YearsAtCompany</th>\n",
       "      <th>YearsSinceLastPromotion</th>\n",
       "      <th>YearsWithCurrManager</th>\n",
       "      <th>EnvironmentSatisfaction</th>\n",
       "      <th>JobSatisfaction</th>\n",
       "      <th>WorkLifeBalance</th>\n",
       "      <th>JobInvolvement</th>\n",
       "      <th>PerformanceRating</th>\n",
       "      <th>hrs</th>\n",
       "    </tr>\n",
       "  </thead>\n",
       "  <tbody>\n",
       "    <tr>\n",
       "      <th>count</th>\n",
       "      <td>4409.000000</td>\n",
       "      <td>4409.000000</td>\n",
       "      <td>4409.000000</td>\n",
       "      <td>4409.0</td>\n",
       "      <td>4409.000000</td>\n",
       "      <td>4409.000000</td>\n",
       "      <td>4409.000000</td>\n",
       "      <td>4409.000000</td>\n",
       "      <td>4409.000000</td>\n",
       "      <td>4409.0</td>\n",
       "      <td>...</td>\n",
       "      <td>4409.000000</td>\n",
       "      <td>4409.000000</td>\n",
       "      <td>4409.000000</td>\n",
       "      <td>4409.000000</td>\n",
       "      <td>4409.000000</td>\n",
       "      <td>4409.000000</td>\n",
       "      <td>4409.000000</td>\n",
       "      <td>4409.000000</td>\n",
       "      <td>4409.000000</td>\n",
       "      <td>4409.000000</td>\n",
       "    </tr>\n",
       "    <tr>\n",
       "      <th>mean</th>\n",
       "      <td>36.923112</td>\n",
       "      <td>9.188251</td>\n",
       "      <td>2.912905</td>\n",
       "      <td>1.0</td>\n",
       "      <td>2205.000000</td>\n",
       "      <td>2.063960</td>\n",
       "      <td>65031.660240</td>\n",
       "      <td>2.692447</td>\n",
       "      <td>15.210252</td>\n",
       "      <td>8.0</td>\n",
       "      <td>...</td>\n",
       "      <td>2.798594</td>\n",
       "      <td>7.004990</td>\n",
       "      <td>2.187571</td>\n",
       "      <td>4.122023</td>\n",
       "      <td>2.725561</td>\n",
       "      <td>2.729417</td>\n",
       "      <td>2.763438</td>\n",
       "      <td>2.729644</td>\n",
       "      <td>3.153776</td>\n",
       "      <td>7.314463</td>\n",
       "    </tr>\n",
       "    <tr>\n",
       "      <th>std</th>\n",
       "      <td>9.134220</td>\n",
       "      <td>8.100992</td>\n",
       "      <td>1.024048</td>\n",
       "      <td>0.0</td>\n",
       "      <td>1272.912998</td>\n",
       "      <td>1.106814</td>\n",
       "      <td>47073.969139</td>\n",
       "      <td>2.493865</td>\n",
       "      <td>3.659203</td>\n",
       "      <td>0.0</td>\n",
       "      <td>...</td>\n",
       "      <td>1.288222</td>\n",
       "      <td>6.122203</td>\n",
       "      <td>3.222042</td>\n",
       "      <td>3.566975</td>\n",
       "      <td>1.089665</td>\n",
       "      <td>1.099021</td>\n",
       "      <td>0.703612</td>\n",
       "      <td>0.711223</td>\n",
       "      <td>0.360775</td>\n",
       "      <td>1.330903</td>\n",
       "    </tr>\n",
       "    <tr>\n",
       "      <th>min</th>\n",
       "      <td>18.000000</td>\n",
       "      <td>1.000000</td>\n",
       "      <td>1.000000</td>\n",
       "      <td>1.0</td>\n",
       "      <td>1.000000</td>\n",
       "      <td>1.000000</td>\n",
       "      <td>10090.000000</td>\n",
       "      <td>0.000000</td>\n",
       "      <td>11.000000</td>\n",
       "      <td>8.0</td>\n",
       "      <td>...</td>\n",
       "      <td>0.000000</td>\n",
       "      <td>0.000000</td>\n",
       "      <td>0.000000</td>\n",
       "      <td>0.000000</td>\n",
       "      <td>1.000000</td>\n",
       "      <td>1.000000</td>\n",
       "      <td>1.000000</td>\n",
       "      <td>1.000000</td>\n",
       "      <td>3.000000</td>\n",
       "      <td>5.416880</td>\n",
       "    </tr>\n",
       "    <tr>\n",
       "      <th>25%</th>\n",
       "      <td>30.000000</td>\n",
       "      <td>2.000000</td>\n",
       "      <td>2.000000</td>\n",
       "      <td>1.0</td>\n",
       "      <td>1103.000000</td>\n",
       "      <td>1.000000</td>\n",
       "      <td>29110.000000</td>\n",
       "      <td>1.000000</td>\n",
       "      <td>12.000000</td>\n",
       "      <td>8.0</td>\n",
       "      <td>...</td>\n",
       "      <td>2.000000</td>\n",
       "      <td>3.000000</td>\n",
       "      <td>0.000000</td>\n",
       "      <td>2.000000</td>\n",
       "      <td>2.000000</td>\n",
       "      <td>2.000000</td>\n",
       "      <td>2.000000</td>\n",
       "      <td>2.000000</td>\n",
       "      <td>3.000000</td>\n",
       "      <td>6.278995</td>\n",
       "    </tr>\n",
       "    <tr>\n",
       "      <th>50%</th>\n",
       "      <td>36.000000</td>\n",
       "      <td>7.000000</td>\n",
       "      <td>3.000000</td>\n",
       "      <td>1.0</td>\n",
       "      <td>2205.000000</td>\n",
       "      <td>2.000000</td>\n",
       "      <td>49080.000000</td>\n",
       "      <td>2.000000</td>\n",
       "      <td>14.000000</td>\n",
       "      <td>8.0</td>\n",
       "      <td>...</td>\n",
       "      <td>3.000000</td>\n",
       "      <td>5.000000</td>\n",
       "      <td>1.000000</td>\n",
       "      <td>3.000000</td>\n",
       "      <td>3.000000</td>\n",
       "      <td>3.000000</td>\n",
       "      <td>3.000000</td>\n",
       "      <td>3.000000</td>\n",
       "      <td>3.000000</td>\n",
       "      <td>7.011237</td>\n",
       "    </tr>\n",
       "    <tr>\n",
       "      <th>75%</th>\n",
       "      <td>43.000000</td>\n",
       "      <td>14.000000</td>\n",
       "      <td>4.000000</td>\n",
       "      <td>1.0</td>\n",
       "      <td>3307.000000</td>\n",
       "      <td>3.000000</td>\n",
       "      <td>83800.000000</td>\n",
       "      <td>4.000000</td>\n",
       "      <td>18.000000</td>\n",
       "      <td>8.0</td>\n",
       "      <td>...</td>\n",
       "      <td>3.000000</td>\n",
       "      <td>9.000000</td>\n",
       "      <td>3.000000</td>\n",
       "      <td>7.000000</td>\n",
       "      <td>4.000000</td>\n",
       "      <td>4.000000</td>\n",
       "      <td>3.000000</td>\n",
       "      <td>3.000000</td>\n",
       "      <td>3.000000</td>\n",
       "      <td>7.900932</td>\n",
       "    </tr>\n",
       "    <tr>\n",
       "      <th>max</th>\n",
       "      <td>60.000000</td>\n",
       "      <td>29.000000</td>\n",
       "      <td>5.000000</td>\n",
       "      <td>1.0</td>\n",
       "      <td>4409.000000</td>\n",
       "      <td>5.000000</td>\n",
       "      <td>199990.000000</td>\n",
       "      <td>9.000000</td>\n",
       "      <td>25.000000</td>\n",
       "      <td>8.0</td>\n",
       "      <td>...</td>\n",
       "      <td>6.000000</td>\n",
       "      <td>40.000000</td>\n",
       "      <td>15.000000</td>\n",
       "      <td>17.000000</td>\n",
       "      <td>4.000000</td>\n",
       "      <td>4.000000</td>\n",
       "      <td>4.000000</td>\n",
       "      <td>4.000000</td>\n",
       "      <td>4.000000</td>\n",
       "      <td>10.937261</td>\n",
       "    </tr>\n",
       "  </tbody>\n",
       "</table>\n",
       "<p>8 rows × 22 columns</p>\n",
       "</div>"
      ],
      "text/plain": [
       "               Age  DistanceFromHome    Education  EmployeeCount   EmployeeID  \\\n",
       "count  4409.000000       4409.000000  4409.000000         4409.0  4409.000000   \n",
       "mean     36.923112          9.188251     2.912905            1.0  2205.000000   \n",
       "std       9.134220          8.100992     1.024048            0.0  1272.912998   \n",
       "min      18.000000          1.000000     1.000000            1.0     1.000000   \n",
       "25%      30.000000          2.000000     2.000000            1.0  1103.000000   \n",
       "50%      36.000000          7.000000     3.000000            1.0  2205.000000   \n",
       "75%      43.000000         14.000000     4.000000            1.0  3307.000000   \n",
       "max      60.000000         29.000000     5.000000            1.0  4409.000000   \n",
       "\n",
       "          JobLevel  MonthlyIncome  NumCompaniesWorked  PercentSalaryHike  \\\n",
       "count  4409.000000    4409.000000         4409.000000        4409.000000   \n",
       "mean      2.063960   65031.660240            2.692447          15.210252   \n",
       "std       1.106814   47073.969139            2.493865           3.659203   \n",
       "min       1.000000   10090.000000            0.000000          11.000000   \n",
       "25%       1.000000   29110.000000            1.000000          12.000000   \n",
       "50%       2.000000   49080.000000            2.000000          14.000000   \n",
       "75%       3.000000   83800.000000            4.000000          18.000000   \n",
       "max       5.000000  199990.000000            9.000000          25.000000   \n",
       "\n",
       "       StandardHours  ...  TrainingTimesLastYear  YearsAtCompany  \\\n",
       "count         4409.0  ...            4409.000000     4409.000000   \n",
       "mean             8.0  ...               2.798594        7.004990   \n",
       "std              0.0  ...               1.288222        6.122203   \n",
       "min              8.0  ...               0.000000        0.000000   \n",
       "25%              8.0  ...               2.000000        3.000000   \n",
       "50%              8.0  ...               3.000000        5.000000   \n",
       "75%              8.0  ...               3.000000        9.000000   \n",
       "max              8.0  ...               6.000000       40.000000   \n",
       "\n",
       "       YearsSinceLastPromotion  YearsWithCurrManager  EnvironmentSatisfaction  \\\n",
       "count              4409.000000           4409.000000              4409.000000   \n",
       "mean                  2.187571              4.122023                 2.725561   \n",
       "std                   3.222042              3.566975                 1.089665   \n",
       "min                   0.000000              0.000000                 1.000000   \n",
       "25%                   0.000000              2.000000                 2.000000   \n",
       "50%                   1.000000              3.000000                 3.000000   \n",
       "75%                   3.000000              7.000000                 4.000000   \n",
       "max                  15.000000             17.000000                 4.000000   \n",
       "\n",
       "       JobSatisfaction  WorkLifeBalance  JobInvolvement  PerformanceRating  \\\n",
       "count      4409.000000      4409.000000     4409.000000        4409.000000   \n",
       "mean          2.729417         2.763438        2.729644           3.153776   \n",
       "std           1.099021         0.703612        0.711223           0.360775   \n",
       "min           1.000000         1.000000        1.000000           3.000000   \n",
       "25%           2.000000         2.000000        2.000000           3.000000   \n",
       "50%           3.000000         3.000000        3.000000           3.000000   \n",
       "75%           4.000000         3.000000        3.000000           3.000000   \n",
       "max           4.000000         4.000000        4.000000           4.000000   \n",
       "\n",
       "               hrs  \n",
       "count  4409.000000  \n",
       "mean      7.314463  \n",
       "std       1.330903  \n",
       "min       5.416880  \n",
       "25%       6.278995  \n",
       "50%       7.011237  \n",
       "75%       7.900932  \n",
       "max      10.937261  \n",
       "\n",
       "[8 rows x 22 columns]"
      ]
     },
     "execution_count": 28,
     "metadata": {},
     "output_type": "execute_result"
    }
   ],
   "source": [
    "dataset.describe()"
   ]
  },
  {
   "cell_type": "markdown",
   "metadata": {},
   "source": [
    "## Pipeline\t"
   ]
  },
  {
   "cell_type": "markdown",
   "metadata": {},
   "source": [
    "Séparation du dataset en deux partie : les valeurs numeriques et les chaines de caractères"
   ]
  },
  {
   "cell_type": "code",
   "execution_count": 29,
   "metadata": {},
   "outputs": [],
   "source": [
    "Attrition = dataset.loc[:, \"Attrition\"]"
   ]
  },
  {
   "cell_type": "code",
   "execution_count": 30,
   "metadata": {},
   "outputs": [
    {
     "name": "stderr",
     "output_type": "stream",
     "text": [
      "D:\\Program Files (x86)\\Anaconda\\lib\\site-packages\\pandas\\core\\frame.py:4906: SettingWithCopyWarning: \n",
      "A value is trying to be set on a copy of a slice from a DataFrame\n",
      "\n",
      "See the caveats in the documentation: https://pandas.pydata.org/pandas-docs/stable/user_guide/indexing.html#returning-a-view-versus-a-copy\n",
      "  return super().drop(\n",
      "C:\\Users\\cruel\\AppData\\Local\\Temp/ipykernel_11676/4174448821.py:10: SettingWithCopyWarning: \n",
      "A value is trying to be set on a copy of a slice from a DataFrame.\n",
      "Try using .loc[row_indexer,col_indexer] = value instead\n",
      "\n",
      "See the caveats in the documentation: https://pandas.pydata.org/pandas-docs/stable/user_guide/indexing.html#returning-a-view-versus-a-copy\n",
      "  ds_str[\"JobLevel\"] = dataset_pl[\"JobLevel\"]\n"
     ]
    }
   ],
   "source": [
    "dataset_pl = dataset.copy()\n",
    "\n",
    "useless_value = ['Attrition','StandardHours','EmployeeCount','EmployeeID', \"Over18\", \"Department\"] \n",
    "dataset_pl = dataset_pl.drop(useless_value, axis=1)\n",
    "\n",
    "ds_num = dataset_pl.select_dtypes(include=[np.number])\n",
    "ds_num.drop('JobLevel', axis=1, inplace=True)\n",
    "\n",
    "ds_str = dataset_pl.select_dtypes(exclude=[np.number])\n",
    "ds_str[\"JobLevel\"] = dataset_pl[\"JobLevel\"] "
   ]
  },
  {
   "cell_type": "markdown",
   "metadata": {},
   "source": [
    "Ici on utilisera le OneHotEncodeur pour transformer les features qualitatives en plusieur colonnes"
   ]
  },
  {
   "cell_type": "code",
   "execution_count": 31,
   "metadata": {},
   "outputs": [
    {
     "data": {
      "text/plain": [
       "array([[ 1.54129037, -0.39360769, -0.89156859, ...,  0.        ,\n",
       "         0.        ,  0.        ],\n",
       "       [-0.64852651,  0.10021498, -1.86819615, ...,  0.        ,\n",
       "         0.        ,  0.        ],\n",
       "       [-0.53903567,  0.96440465,  1.06168652, ...,  0.        ,\n",
       "         1.        ,  0.        ],\n",
       "       ...,\n",
       "       [-0.8675082 , -0.88743036,  1.06168652, ...,  0.        ,\n",
       "         0.        ,  0.        ],\n",
       "       [-1.30547158,  1.95204999, -0.89156859, ...,  0.        ,\n",
       "         0.        ,  0.        ],\n",
       "       [ 0.55587277,  1.08786032, -0.89156859, ...,  0.        ,\n",
       "         0.        ,  0.        ]])"
      ]
     },
     "execution_count": 31,
     "metadata": {},
     "output_type": "execute_result"
    }
   ],
   "source": [
    "from sklearn.preprocessing import StandardScaler\n",
    "from sklearn.preprocessing import OneHotEncoder\n",
    "from sklearn.compose import ColumnTransformer\n",
    "from sklearn.impute import SimpleImputer\n",
    "from sklearn.pipeline import Pipeline\n",
    "\n",
    "encoder = OneHotEncoder()\n",
    "encoder.fit(ds_str)\n",
    "# dataset.head(10)\n",
    "\n",
    "num_attribs = list(ds_num)\n",
    "str_attribs = list(ds_str)\n",
    "\n",
    "num_pipeline = Pipeline([\n",
    "\t('imputer', SimpleImputer(strategy=\"median\")), \n",
    "\t('std_scaler', StandardScaler()),\t\t\t   \n",
    "])\n",
    "\n",
    "full_pipeline = ColumnTransformer([\n",
    "\t(\"num\", num_pipeline, num_attribs),\n",
    "\t(\"str\", encoder, str_attribs),\n",
    "])\n",
    "\n",
    "dataset_pipeline = full_pipeline.fit_transform(dataset_pl)\n",
    "dataset_pipeline"
   ]
  },
  {
   "cell_type": "markdown",
   "metadata": {},
   "source": [
    "On utiliseras \"dataset_prepared\" pour tout nos futures opérations"
   ]
  },
  {
   "cell_type": "code",
   "execution_count": 32,
   "metadata": {},
   "outputs": [
    {
     "data": {
      "text/html": [
       "<div>\n",
       "<style scoped>\n",
       "    .dataframe tbody tr th:only-of-type {\n",
       "        vertical-align: middle;\n",
       "    }\n",
       "\n",
       "    .dataframe tbody tr th {\n",
       "        vertical-align: top;\n",
       "    }\n",
       "\n",
       "    .dataframe thead th {\n",
       "        text-align: right;\n",
       "    }\n",
       "</style>\n",
       "<table border=\"1\" class=\"dataframe\">\n",
       "  <thead>\n",
       "    <tr style=\"text-align: right;\">\n",
       "      <th></th>\n",
       "      <th>Age</th>\n",
       "      <th>DistanceFromHome</th>\n",
       "      <th>Education</th>\n",
       "      <th>MonthlyIncome</th>\n",
       "      <th>NumCompaniesWorked</th>\n",
       "      <th>PercentSalaryHike</th>\n",
       "      <th>StockOptionLevel</th>\n",
       "      <th>TotalWorkingYears</th>\n",
       "      <th>TrainingTimesLastYear</th>\n",
       "      <th>YearsAtCompany</th>\n",
       "      <th>...</th>\n",
       "      <th>JobRole_Sales Executive</th>\n",
       "      <th>JobRole_Sales Representative</th>\n",
       "      <th>MaritalStatus_Divorced</th>\n",
       "      <th>MaritalStatus_Married</th>\n",
       "      <th>MaritalStatus_Single</th>\n",
       "      <th>JobLevel_1</th>\n",
       "      <th>JobLevel_2</th>\n",
       "      <th>JobLevel_3</th>\n",
       "      <th>JobLevel_4</th>\n",
       "      <th>JobLevel_5</th>\n",
       "    </tr>\n",
       "  </thead>\n",
       "  <tbody>\n",
       "    <tr>\n",
       "      <th>0</th>\n",
       "      <td>1.541290</td>\n",
       "      <td>-0.393608</td>\n",
       "      <td>-0.891569</td>\n",
       "      <td>1.404934</td>\n",
       "      <td>-0.678721</td>\n",
       "      <td>-1.150723</td>\n",
       "      <td>-0.932212</td>\n",
       "      <td>-1.321970</td>\n",
       "      <td>2.485416</td>\n",
       "      <td>-0.980966</td>\n",
       "      <td>...</td>\n",
       "      <td>0.0</td>\n",
       "      <td>0.0</td>\n",
       "      <td>0.0</td>\n",
       "      <td>1.0</td>\n",
       "      <td>0.0</td>\n",
       "      <td>1.0</td>\n",
       "      <td>0.0</td>\n",
       "      <td>0.0</td>\n",
       "      <td>0.0</td>\n",
       "      <td>0.0</td>\n",
       "    </tr>\n",
       "    <tr>\n",
       "      <th>1</th>\n",
       "      <td>-0.648527</td>\n",
       "      <td>0.100215</td>\n",
       "      <td>-1.868196</td>\n",
       "      <td>-0.491658</td>\n",
       "      <td>-1.079751</td>\n",
       "      <td>2.129051</td>\n",
       "      <td>0.241773</td>\n",
       "      <td>-0.678839</td>\n",
       "      <td>0.156362</td>\n",
       "      <td>-0.327532</td>\n",
       "      <td>...</td>\n",
       "      <td>0.0</td>\n",
       "      <td>0.0</td>\n",
       "      <td>0.0</td>\n",
       "      <td>0.0</td>\n",
       "      <td>1.0</td>\n",
       "      <td>1.0</td>\n",
       "      <td>0.0</td>\n",
       "      <td>0.0</td>\n",
       "      <td>0.0</td>\n",
       "      <td>0.0</td>\n",
       "    </tr>\n",
       "    <tr>\n",
       "      <th>2</th>\n",
       "      <td>-0.539036</td>\n",
       "      <td>0.964405</td>\n",
       "      <td>1.061687</td>\n",
       "      <td>2.724709</td>\n",
       "      <td>-0.678721</td>\n",
       "      <td>-0.057465</td>\n",
       "      <td>2.589744</td>\n",
       "      <td>-0.807466</td>\n",
       "      <td>-0.619989</td>\n",
       "      <td>-0.327532</td>\n",
       "      <td>...</td>\n",
       "      <td>1.0</td>\n",
       "      <td>0.0</td>\n",
       "      <td>0.0</td>\n",
       "      <td>1.0</td>\n",
       "      <td>0.0</td>\n",
       "      <td>0.0</td>\n",
       "      <td>0.0</td>\n",
       "      <td>0.0</td>\n",
       "      <td>1.0</td>\n",
       "      <td>0.0</td>\n",
       "    </tr>\n",
       "    <tr>\n",
       "      <th>3</th>\n",
       "      <td>0.117909</td>\n",
       "      <td>-0.887430</td>\n",
       "      <td>2.038314</td>\n",
       "      <td>0.386209</td>\n",
       "      <td>0.123338</td>\n",
       "      <td>-1.150723</td>\n",
       "      <td>2.589744</td>\n",
       "      <td>0.221544</td>\n",
       "      <td>1.709065</td>\n",
       "      <td>0.162543</td>\n",
       "      <td>...</td>\n",
       "      <td>0.0</td>\n",
       "      <td>0.0</td>\n",
       "      <td>0.0</td>\n",
       "      <td>1.0</td>\n",
       "      <td>0.0</td>\n",
       "      <td>0.0</td>\n",
       "      <td>0.0</td>\n",
       "      <td>1.0</td>\n",
       "      <td>0.0</td>\n",
       "      <td>0.0</td>\n",
       "    </tr>\n",
       "    <tr>\n",
       "      <th>4</th>\n",
       "      <td>-0.539036</td>\n",
       "      <td>0.100215</td>\n",
       "      <td>-1.868196</td>\n",
       "      <td>-0.884064</td>\n",
       "      <td>0.524367</td>\n",
       "      <td>-0.877408</td>\n",
       "      <td>1.415759</td>\n",
       "      <td>-0.292961</td>\n",
       "      <td>-0.619989</td>\n",
       "      <td>-0.164174</td>\n",
       "      <td>...</td>\n",
       "      <td>1.0</td>\n",
       "      <td>0.0</td>\n",
       "      <td>0.0</td>\n",
       "      <td>0.0</td>\n",
       "      <td>1.0</td>\n",
       "      <td>1.0</td>\n",
       "      <td>0.0</td>\n",
       "      <td>0.0</td>\n",
       "      <td>0.0</td>\n",
       "      <td>0.0</td>\n",
       "    </tr>\n",
       "    <tr>\n",
       "      <th>...</th>\n",
       "      <td>...</td>\n",
       "      <td>...</td>\n",
       "      <td>...</td>\n",
       "      <td>...</td>\n",
       "      <td>...</td>\n",
       "      <td>...</td>\n",
       "      <td>...</td>\n",
       "      <td>...</td>\n",
       "      <td>...</td>\n",
       "      <td>...</td>\n",
       "      <td>...</td>\n",
       "      <td>...</td>\n",
       "      <td>...</td>\n",
       "      <td>...</td>\n",
       "      <td>...</td>\n",
       "      <td>...</td>\n",
       "      <td>...</td>\n",
       "      <td>...</td>\n",
       "      <td>...</td>\n",
       "      <td>...</td>\n",
       "      <td>...</td>\n",
       "    </tr>\n",
       "    <tr>\n",
       "      <th>4404</th>\n",
       "      <td>-0.867508</td>\n",
       "      <td>-0.640519</td>\n",
       "      <td>0.085059</td>\n",
       "      <td>-0.629754</td>\n",
       "      <td>-0.678721</td>\n",
       "      <td>0.762479</td>\n",
       "      <td>-0.932212</td>\n",
       "      <td>-0.678839</td>\n",
       "      <td>-0.619989</td>\n",
       "      <td>-0.164174</td>\n",
       "      <td>...</td>\n",
       "      <td>0.0</td>\n",
       "      <td>0.0</td>\n",
       "      <td>0.0</td>\n",
       "      <td>0.0</td>\n",
       "      <td>1.0</td>\n",
       "      <td>0.0</td>\n",
       "      <td>1.0</td>\n",
       "      <td>0.0</td>\n",
       "      <td>0.0</td>\n",
       "      <td>0.0</td>\n",
       "    </tr>\n",
       "    <tr>\n",
       "      <th>4405</th>\n",
       "      <td>0.555873</td>\n",
       "      <td>-0.517063</td>\n",
       "      <td>1.061687</td>\n",
       "      <td>-0.100739</td>\n",
       "      <td>0.123338</td>\n",
       "      <td>0.489164</td>\n",
       "      <td>0.241773</td>\n",
       "      <td>-0.164335</td>\n",
       "      <td>1.709065</td>\n",
       "      <td>-0.654249</td>\n",
       "      <td>...</td>\n",
       "      <td>0.0</td>\n",
       "      <td>0.0</td>\n",
       "      <td>0.0</td>\n",
       "      <td>0.0</td>\n",
       "      <td>1.0</td>\n",
       "      <td>1.0</td>\n",
       "      <td>0.0</td>\n",
       "      <td>0.0</td>\n",
       "      <td>0.0</td>\n",
       "      <td>0.0</td>\n",
       "    </tr>\n",
       "    <tr>\n",
       "      <th>4406</th>\n",
       "      <td>-0.867508</td>\n",
       "      <td>-0.887430</td>\n",
       "      <td>1.061687</td>\n",
       "      <td>-0.812466</td>\n",
       "      <td>-0.277692</td>\n",
       "      <td>-0.057465</td>\n",
       "      <td>-0.932212</td>\n",
       "      <td>-0.164335</td>\n",
       "      <td>-0.619989</td>\n",
       "      <td>-0.654249</td>\n",
       "      <td>...</td>\n",
       "      <td>0.0</td>\n",
       "      <td>0.0</td>\n",
       "      <td>1.0</td>\n",
       "      <td>0.0</td>\n",
       "      <td>0.0</td>\n",
       "      <td>1.0</td>\n",
       "      <td>0.0</td>\n",
       "      <td>0.0</td>\n",
       "      <td>0.0</td>\n",
       "      <td>0.0</td>\n",
       "    </tr>\n",
       "    <tr>\n",
       "      <th>4407</th>\n",
       "      <td>-1.305472</td>\n",
       "      <td>1.952050</td>\n",
       "      <td>-0.891569</td>\n",
       "      <td>-0.595124</td>\n",
       "      <td>-1.079751</td>\n",
       "      <td>1.309108</td>\n",
       "      <td>-0.932212</td>\n",
       "      <td>-0.807466</td>\n",
       "      <td>0.932714</td>\n",
       "      <td>-0.490890</td>\n",
       "      <td>...</td>\n",
       "      <td>1.0</td>\n",
       "      <td>0.0</td>\n",
       "      <td>0.0</td>\n",
       "      <td>1.0</td>\n",
       "      <td>0.0</td>\n",
       "      <td>0.0</td>\n",
       "      <td>1.0</td>\n",
       "      <td>0.0</td>\n",
       "      <td>0.0</td>\n",
       "      <td>0.0</td>\n",
       "    </tr>\n",
       "    <tr>\n",
       "      <th>4408</th>\n",
       "      <td>0.555873</td>\n",
       "      <td>1.087860</td>\n",
       "      <td>-0.891569</td>\n",
       "      <td>-0.872166</td>\n",
       "      <td>-1.079751</td>\n",
       "      <td>-0.330779</td>\n",
       "      <td>0.241773</td>\n",
       "      <td>-0.164335</td>\n",
       "      <td>-0.619989</td>\n",
       "      <td>0.325902</td>\n",
       "      <td>...</td>\n",
       "      <td>0.0</td>\n",
       "      <td>0.0</td>\n",
       "      <td>1.0</td>\n",
       "      <td>0.0</td>\n",
       "      <td>0.0</td>\n",
       "      <td>1.0</td>\n",
       "      <td>0.0</td>\n",
       "      <td>0.0</td>\n",
       "      <td>0.0</td>\n",
       "      <td>0.0</td>\n",
       "    </tr>\n",
       "  </tbody>\n",
       "</table>\n",
       "<p>4409 rows × 46 columns</p>\n",
       "</div>"
      ],
      "text/plain": [
       "           Age  DistanceFromHome  Education  MonthlyIncome  \\\n",
       "0     1.541290         -0.393608  -0.891569       1.404934   \n",
       "1    -0.648527          0.100215  -1.868196      -0.491658   \n",
       "2    -0.539036          0.964405   1.061687       2.724709   \n",
       "3     0.117909         -0.887430   2.038314       0.386209   \n",
       "4    -0.539036          0.100215  -1.868196      -0.884064   \n",
       "...        ...               ...        ...            ...   \n",
       "4404 -0.867508         -0.640519   0.085059      -0.629754   \n",
       "4405  0.555873         -0.517063   1.061687      -0.100739   \n",
       "4406 -0.867508         -0.887430   1.061687      -0.812466   \n",
       "4407 -1.305472          1.952050  -0.891569      -0.595124   \n",
       "4408  0.555873          1.087860  -0.891569      -0.872166   \n",
       "\n",
       "      NumCompaniesWorked  PercentSalaryHike  StockOptionLevel  \\\n",
       "0              -0.678721          -1.150723         -0.932212   \n",
       "1              -1.079751           2.129051          0.241773   \n",
       "2              -0.678721          -0.057465          2.589744   \n",
       "3               0.123338          -1.150723          2.589744   \n",
       "4               0.524367          -0.877408          1.415759   \n",
       "...                  ...                ...               ...   \n",
       "4404           -0.678721           0.762479         -0.932212   \n",
       "4405            0.123338           0.489164          0.241773   \n",
       "4406           -0.277692          -0.057465         -0.932212   \n",
       "4407           -1.079751           1.309108         -0.932212   \n",
       "4408           -1.079751          -0.330779          0.241773   \n",
       "\n",
       "      TotalWorkingYears  TrainingTimesLastYear  YearsAtCompany  ...  \\\n",
       "0             -1.321970               2.485416       -0.980966  ...   \n",
       "1             -0.678839               0.156362       -0.327532  ...   \n",
       "2             -0.807466              -0.619989       -0.327532  ...   \n",
       "3              0.221544               1.709065        0.162543  ...   \n",
       "4             -0.292961              -0.619989       -0.164174  ...   \n",
       "...                 ...                    ...             ...  ...   \n",
       "4404          -0.678839              -0.619989       -0.164174  ...   \n",
       "4405          -0.164335               1.709065       -0.654249  ...   \n",
       "4406          -0.164335              -0.619989       -0.654249  ...   \n",
       "4407          -0.807466               0.932714       -0.490890  ...   \n",
       "4408          -0.164335              -0.619989        0.325902  ...   \n",
       "\n",
       "      JobRole_Sales Executive  JobRole_Sales Representative  \\\n",
       "0                         0.0                           0.0   \n",
       "1                         0.0                           0.0   \n",
       "2                         1.0                           0.0   \n",
       "3                         0.0                           0.0   \n",
       "4                         1.0                           0.0   \n",
       "...                       ...                           ...   \n",
       "4404                      0.0                           0.0   \n",
       "4405                      0.0                           0.0   \n",
       "4406                      0.0                           0.0   \n",
       "4407                      1.0                           0.0   \n",
       "4408                      0.0                           0.0   \n",
       "\n",
       "      MaritalStatus_Divorced  MaritalStatus_Married  MaritalStatus_Single  \\\n",
       "0                        0.0                    1.0                   0.0   \n",
       "1                        0.0                    0.0                   1.0   \n",
       "2                        0.0                    1.0                   0.0   \n",
       "3                        0.0                    1.0                   0.0   \n",
       "4                        0.0                    0.0                   1.0   \n",
       "...                      ...                    ...                   ...   \n",
       "4404                     0.0                    0.0                   1.0   \n",
       "4405                     0.0                    0.0                   1.0   \n",
       "4406                     1.0                    0.0                   0.0   \n",
       "4407                     0.0                    1.0                   0.0   \n",
       "4408                     1.0                    0.0                   0.0   \n",
       "\n",
       "      JobLevel_1  JobLevel_2  JobLevel_3  JobLevel_4  JobLevel_5  \n",
       "0            1.0         0.0         0.0         0.0         0.0  \n",
       "1            1.0         0.0         0.0         0.0         0.0  \n",
       "2            0.0         0.0         0.0         1.0         0.0  \n",
       "3            0.0         0.0         1.0         0.0         0.0  \n",
       "4            1.0         0.0         0.0         0.0         0.0  \n",
       "...          ...         ...         ...         ...         ...  \n",
       "4404         0.0         1.0         0.0         0.0         0.0  \n",
       "4405         1.0         0.0         0.0         0.0         0.0  \n",
       "4406         1.0         0.0         0.0         0.0         0.0  \n",
       "4407         0.0         1.0         0.0         0.0         0.0  \n",
       "4408         1.0         0.0         0.0         0.0         0.0  \n",
       "\n",
       "[4409 rows x 46 columns]"
      ]
     },
     "execution_count": 32,
     "metadata": {},
     "output_type": "execute_result"
    }
   ],
   "source": [
    "dataset_prepared = pd.DataFrame(\n",
    "    dataset_pipeline,\n",
    "    columns=list(np.concatenate((num_attribs, encoder.get_feature_names(str_attribs)))))\n",
    "dataset_prepared\n"
   ]
  },
  {
   "cell_type": "markdown",
   "metadata": {},
   "source": [
    "## Nettoyage de données\n",
    "\n",
    "Ici on supprimera les données que l'on estime comme inutile\n",
    "> - Attrition_No -> Car on se sert uniquement de Attrition_Yes\n",
    "> - StandardHours -> Car sur leurs contract les employés ont tous les même horaires\n",
    "> - EmployeeCount -> Est toujours égale à 1\n",
    "> - EmployeeID -> N'est pas une données à prendre en considération\n",
    "> - Over18_Y -> Tous les employés ont au dessus de 18 ans "
   ]
  },
  {
   "cell_type": "markdown",
   "metadata": {},
   "source": [
    "#### Isolation des valeurs d'attritions pour de futures traitements"
   ]
  },
  {
   "cell_type": "code",
   "execution_count": 33,
   "metadata": {},
   "outputs": [
    {
     "name": "stdout",
     "output_type": "stream",
     "text": [
      "<class 'pandas.core.frame.DataFrame'>\n",
      "RangeIndex: 4409 entries, 0 to 4408\n",
      "Data columns (total 46 columns):\n",
      " #   Column                             Non-Null Count  Dtype  \n",
      "---  ------                             --------------  -----  \n",
      " 0   Age                                4409 non-null   float64\n",
      " 1   DistanceFromHome                   4409 non-null   float64\n",
      " 2   Education                          4409 non-null   float64\n",
      " 3   MonthlyIncome                      4409 non-null   float64\n",
      " 4   NumCompaniesWorked                 4409 non-null   float64\n",
      " 5   PercentSalaryHike                  4409 non-null   float64\n",
      " 6   StockOptionLevel                   4409 non-null   float64\n",
      " 7   TotalWorkingYears                  4409 non-null   float64\n",
      " 8   TrainingTimesLastYear              4409 non-null   float64\n",
      " 9   YearsAtCompany                     4409 non-null   float64\n",
      " 10  YearsSinceLastPromotion            4409 non-null   float64\n",
      " 11  YearsWithCurrManager               4409 non-null   float64\n",
      " 12  EnvironmentSatisfaction            4409 non-null   float64\n",
      " 13  JobSatisfaction                    4409 non-null   float64\n",
      " 14  WorkLifeBalance                    4409 non-null   float64\n",
      " 15  JobInvolvement                     4409 non-null   float64\n",
      " 16  PerformanceRating                  4409 non-null   float64\n",
      " 17  hrs                                4409 non-null   float64\n",
      " 18  BusinessTravel_Non-Travel          4409 non-null   float64\n",
      " 19  BusinessTravel_Travel_Frequently   4409 non-null   float64\n",
      " 20  BusinessTravel_Travel_Rarely       4409 non-null   float64\n",
      " 21  EducationField_Human Resources     4409 non-null   float64\n",
      " 22  EducationField_Life Sciences       4409 non-null   float64\n",
      " 23  EducationField_Marketing           4409 non-null   float64\n",
      " 24  EducationField_Medical             4409 non-null   float64\n",
      " 25  EducationField_Other               4409 non-null   float64\n",
      " 26  EducationField_Technical Degree    4409 non-null   float64\n",
      " 27  Gender_Female                      4409 non-null   float64\n",
      " 28  Gender_Male                        4409 non-null   float64\n",
      " 29  JobRole_Healthcare Representative  4409 non-null   float64\n",
      " 30  JobRole_Human Resources            4409 non-null   float64\n",
      " 31  JobRole_Laboratory Technician      4409 non-null   float64\n",
      " 32  JobRole_Manager                    4409 non-null   float64\n",
      " 33  JobRole_Manufacturing Director     4409 non-null   float64\n",
      " 34  JobRole_Research Director          4409 non-null   float64\n",
      " 35  JobRole_Research Scientist         4409 non-null   float64\n",
      " 36  JobRole_Sales Executive            4409 non-null   float64\n",
      " 37  JobRole_Sales Representative       4409 non-null   float64\n",
      " 38  MaritalStatus_Divorced             4409 non-null   float64\n",
      " 39  MaritalStatus_Married              4409 non-null   float64\n",
      " 40  MaritalStatus_Single               4409 non-null   float64\n",
      " 41  JobLevel_1                         4409 non-null   float64\n",
      " 42  JobLevel_2                         4409 non-null   float64\n",
      " 43  JobLevel_3                         4409 non-null   float64\n",
      " 44  JobLevel_4                         4409 non-null   float64\n",
      " 45  JobLevel_5                         4409 non-null   float64\n",
      "dtypes: float64(46)\n",
      "memory usage: 1.5 MB\n"
     ]
    }
   ],
   "source": [
    "y = pd.get_dummies(Attrition, drop_first=True)\n",
    "x = dataset_prepared\n",
    "x.info()"
   ]
  },
  {
   "cell_type": "markdown",
   "metadata": {},
   "source": [
    "### Creation des sets d'entrainement et de test"
   ]
  },
  {
   "cell_type": "code",
   "execution_count": 34,
   "metadata": {},
   "outputs": [],
   "source": [
    "# from sklearn.model_selection import train_test_split\n",
    "# X_train, X_test, y_train, y_test = train_test_split(x, y, train_size=0.7, test_size=0.3, random_state=100)\n",
    "from sklearn.model_selection import train_test_split\n",
    "X_train, X_test, y_train, y_test = train_test_split(x, y, train_size=0.7, test_size=0.3, stratify=y)"
   ]
  },
  {
   "cell_type": "markdown",
   "metadata": {},
   "source": [
    "### Implémentation du model : SVC"
   ]
  },
  {
   "cell_type": "code",
   "execution_count": 35,
   "metadata": {},
   "outputs": [
    {
     "name": "stderr",
     "output_type": "stream",
     "text": [
      "D:\\Program Files (x86)\\Anaconda\\lib\\site-packages\\sklearn\\utils\\validation.py:63: DataConversionWarning: A column-vector y was passed when a 1d array was expected. Please change the shape of y to (n_samples, ), for example using ravel().\n",
      "  return f(*args, **kwargs)\n"
     ]
    },
    {
     "name": "stdout",
     "output_type": "stream",
     "text": [
      "Accuracy: 0.8994708994708994\n"
     ]
    }
   ],
   "source": [
    "#Import svm model\n",
    "from sklearn import svm\n",
    "from sklearn import metrics\n",
    "\n",
    "#Create a svm Classifier\n",
    "clf = svm.SVC(kernel='rbf', probability=True) # Linear Kernel\n",
    "\n",
    "#Train the model using the training sets\n",
    "clf.fit(X_train, y_train)\n",
    "\n",
    "#Predict the response for test dataset\n",
    "y_pred = clf.predict(X_test)\n",
    "print(\"Accuracy:\",metrics.accuracy_score(y_test, y_pred))"
   ]
  },
  {
   "cell_type": "markdown",
   "metadata": {},
   "source": [
    "# Performance et validation\n",
    "### Cross validation et accuracy score"
   ]
  },
  {
   "cell_type": "code",
   "execution_count": 36,
   "metadata": {},
   "outputs": [
    {
     "name": "stdout",
     "output_type": "stream",
     "text": [
      "Accuracy: 0.8994708994708994\n"
     ]
    }
   ],
   "source": [
    "print(\"Accuracy:\",metrics.accuracy_score(y_test, y_pred))"
   ]
  },
  {
   "cell_type": "code",
   "execution_count": 37,
   "metadata": {},
   "outputs": [
    {
     "name": "stderr",
     "output_type": "stream",
     "text": [
      "D:\\Program Files (x86)\\Anaconda\\lib\\site-packages\\sklearn\\utils\\validation.py:63: DataConversionWarning: A column-vector y was passed when a 1d array was expected. Please change the shape of y to (n_samples, ), for example using ravel().\n",
      "  return f(*args, **kwargs)\n",
      "D:\\Program Files (x86)\\Anaconda\\lib\\site-packages\\sklearn\\utils\\validation.py:63: DataConversionWarning: A column-vector y was passed when a 1d array was expected. Please change the shape of y to (n_samples, ), for example using ravel().\n",
      "  return f(*args, **kwargs)\n",
      "D:\\Program Files (x86)\\Anaconda\\lib\\site-packages\\sklearn\\utils\\validation.py:63: DataConversionWarning: A column-vector y was passed when a 1d array was expected. Please change the shape of y to (n_samples, ), for example using ravel().\n",
      "  return f(*args, **kwargs)\n"
     ]
    },
    {
     "data": {
      "text/plain": [
       "array([0, 0, 0, ..., 0, 0, 0], dtype=uint8)"
      ]
     },
     "execution_count": 37,
     "metadata": {},
     "output_type": "execute_result"
    }
   ],
   "source": [
    "from sklearn.model_selection import cross_val_predict\n",
    "dt_pred = cross_val_predict(clf, X_train, y_train, cv=3)\n",
    "dt_pred\n"
   ]
  },
  {
   "cell_type": "code",
   "execution_count": 38,
   "metadata": {},
   "outputs": [
    {
     "name": "stderr",
     "output_type": "stream",
     "text": [
      "D:\\Program Files (x86)\\Anaconda\\lib\\site-packages\\sklearn\\utils\\validation.py:63: DataConversionWarning: A column-vector y was passed when a 1d array was expected. Please change the shape of y to (n_samples, ), for example using ravel().\n",
      "  return f(*args, **kwargs)\n",
      "D:\\Program Files (x86)\\Anaconda\\lib\\site-packages\\sklearn\\utils\\validation.py:63: DataConversionWarning: A column-vector y was passed when a 1d array was expected. Please change the shape of y to (n_samples, ), for example using ravel().\n",
      "  return f(*args, **kwargs)\n",
      "D:\\Program Files (x86)\\Anaconda\\lib\\site-packages\\sklearn\\utils\\validation.py:63: DataConversionWarning: A column-vector y was passed when a 1d array was expected. Please change the shape of y to (n_samples, ), for example using ravel().\n",
      "  return f(*args, **kwargs)\n"
     ]
    },
    {
     "data": {
      "text/plain": [
       "array([0.87852284, 0.88921283, 0.88229572])"
      ]
     },
     "execution_count": 38,
     "metadata": {},
     "output_type": "execute_result"
    }
   ],
   "source": [
    "from sklearn.model_selection import cross_val_score\n",
    "dt_score = cross_val_score(clf, X_train, y_train, cv=3, scoring=\"accuracy\")\n",
    "dt_score"
   ]
  },
  {
   "cell_type": "markdown",
   "metadata": {},
   "source": [
    "#### Matrice de confusion"
   ]
  },
  {
   "cell_type": "code",
   "execution_count": 39,
   "metadata": {},
   "outputs": [
    {
     "data": {
      "text/plain": [
       "array([[1100,   10],\n",
       "       [ 123,   90]], dtype=int64)"
      ]
     },
     "execution_count": 39,
     "metadata": {},
     "output_type": "execute_result"
    }
   ],
   "source": [
    "from sklearn.metrics import confusion_matrix\n",
    "confusion_matrix(y_test, y_pred)"
   ]
  },
  {
   "cell_type": "markdown",
   "metadata": {},
   "source": [
    "#### Score de précision"
   ]
  },
  {
   "cell_type": "code",
   "execution_count": 40,
   "metadata": {},
   "outputs": [
    {
     "name": "stdout",
     "output_type": "stream",
     "text": [
      "Precision: 0.9\n"
     ]
    }
   ],
   "source": [
    "print(\"Precision:\",metrics.precision_score(y_test, y_pred))"
   ]
  },
  {
   "cell_type": "code",
   "execution_count": 41,
   "metadata": {},
   "outputs": [
    {
     "data": {
      "text/plain": [
       "0.9"
      ]
     },
     "execution_count": 41,
     "metadata": {},
     "output_type": "execute_result"
    }
   ],
   "source": [
    "from sklearn.metrics import precision_score, recall_score\n",
    "fpr = precision_score(y_test, y_pred)\n",
    "fpr"
   ]
  },
  {
   "cell_type": "markdown",
   "metadata": {},
   "source": [
    "#### Rapport de la classification"
   ]
  },
  {
   "cell_type": "code",
   "execution_count": 42,
   "metadata": {},
   "outputs": [
    {
     "name": "stdout",
     "output_type": "stream",
     "text": [
      "              precision    recall  f1-score   support\n",
      "\n",
      "           0       0.90      0.99      0.94      1110\n",
      "           1       0.90      0.42      0.58       213\n",
      "\n",
      "    accuracy                           0.90      1323\n",
      "   macro avg       0.90      0.71      0.76      1323\n",
      "weighted avg       0.90      0.90      0.88      1323\n",
      "\n"
     ]
    }
   ],
   "source": [
    "from sklearn.metrics import classification_report\n",
    "print(classification_report(y_test,y_pred))"
   ]
  },
  {
   "cell_type": "markdown",
   "metadata": {},
   "source": [
    "#### Score de rappel"
   ]
  },
  {
   "cell_type": "code",
   "execution_count": 43,
   "metadata": {},
   "outputs": [
    {
     "data": {
      "text/plain": [
       "0.4225352112676056"
      ]
     },
     "execution_count": 43,
     "metadata": {},
     "output_type": "execute_result"
    }
   ],
   "source": [
    "tpr = recall_score(y_test, y_pred)\n",
    "tpr"
   ]
  },
  {
   "cell_type": "markdown",
   "metadata": {},
   "source": [
    "#### F1 Score"
   ]
  },
  {
   "cell_type": "code",
   "execution_count": 44,
   "metadata": {},
   "outputs": [
    {
     "data": {
      "text/plain": [
       "0.5750798722044729"
      ]
     },
     "execution_count": 44,
     "metadata": {},
     "output_type": "execute_result"
    }
   ],
   "source": [
    "from sklearn.metrics import f1_score\n",
    "f1_score(y_test, y_pred)"
   ]
  },
  {
   "cell_type": "markdown",
   "metadata": {},
   "source": [
    "#### Creation de la courbre ROC"
   ]
  },
  {
   "cell_type": "code",
   "execution_count": 45,
   "metadata": {},
   "outputs": [],
   "source": [
    "from sklearn.metrics import roc_curve\n",
    "\n",
    "fpr, tpr, thresholds = roc_curve(y_test, y_pred)\n"
   ]
  },
  {
   "cell_type": "code",
   "execution_count": 46,
   "metadata": {},
   "outputs": [
    {
     "data": {
      "image/png": "[encoded data removed]",
      "text/plain": [
       "<Figure size 792x360 with 1 Axes>"
      ]
     },
     "metadata": {
      "needs_background": "light"
     },
     "output_type": "display_data"
    }
   ],
   "source": [
    "from sklearn import metrics\n",
    "\n",
    "plt.figure(figsize=(11,5))\n",
    "\n",
    "lrprob = clf.predict_proba(X_test)\n",
    "lr_pred = lrprob[:,1]\n",
    "fpr, tpr, threshold = metrics.roc_curve(y_test, lr_pred)\n",
    "roc_auc = metrics.auc(fpr, tpr)\n",
    "\n",
    "plt.plot(fpr, tpr, 'b', label = 'AUC = %0.2f' % roc_auc)\n",
    "plt.plot([0, 1], [0, 1],'r--')\n",
    "plt.title('Decision Tree ROC', fontsize=15)\n",
    "plt.ylabel('True Positive Rate', fontsize=15)\n",
    "plt.xlabel('False Positive Rate', fontsize=15)\n",
    "plt.legend(loc = 'lower right', prop={'size': 14})\n",
    "\n",
    "plt.show()"
   ]
  },
  {
   "cell_type": "markdown",
   "metadata": {},
   "source": [
    "#### Coubre de la relation entre la précision et le rappel"
   ]
  },
  {
   "cell_type": "code",
   "execution_count": 47,
   "metadata": {},
   "outputs": [],
   "source": [
    "from sklearn.metrics import precision_recall_curve\n",
    "precisions, recalls, thresholds = precision_recall_curve(y_test, y_pred)"
   ]
  },
  {
   "cell_type": "code",
   "execution_count": 48,
   "metadata": {},
   "outputs": [
    {
     "data": {
      "image/png": "[encoded data removed]",
      "text/plain": [
       "<Figure size 576x432 with 1 Axes>"
      ]
     },
     "metadata": {
      "needs_background": "light"
     },
     "output_type": "display_data"
    }
   ],
   "source": [
    "\n",
    "def plot_precision_vs_recall(precisions, recalls):\n",
    "    plt.plot(recalls, precisions, \"k-\", linewidth=1)\n",
    "    plt.xlabel(\"recall\", fontsize=16)\n",
    "    plt.ylabel(\"precision\", fontsize=16)\n",
    "    plt.axis([0, 1, 0, 1])\n",
    "\n",
    "plt.figure(figsize=(8, 6))\n",
    "plot_precision_vs_recall(precisions, recalls)\n",
    "# save_fig(\"precision_vs_recall_plot\")\n",
    "plt.show()"
   ]
  }
 ],
 "metadata": {
  "interpreter": {
   "hash": "63fd5069d213b44bf678585dea6b12cceca9941eaf7f819626cde1f2670de90d"
  },
  "kernelspec": {
   "display_name": "Python 3.9.7 64-bit",
   "language": "python",
   "name": "python3"
  },
  "language_info": {
   "codemirror_mode": {
    "name": "ipython",
    "version": 3
   },
   "file_extension": ".py",
   "mimetype": "text/x-python",
   "name": "python",
   "nbconvert_exporter": "python",
   "pygments_lexer": "ipython3",
   "version": "3.9.7"
  },
  "orig_nbformat": 4
 },
 "nbformat": 4,
 "nbformat_minor": 2
}
