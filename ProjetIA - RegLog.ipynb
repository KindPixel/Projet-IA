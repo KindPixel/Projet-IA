{
 "cells": [
  {
   "cell_type": "markdown",
   "metadata": {},
   "source": [
    "# Preparation des données\n",
    "### Initialisation du projet"
   ]
  },
  {
   "cell_type": "code",
   "execution_count": 1,
   "metadata": {},
   "outputs": [],
   "source": [
    "# imports\n",
    "import numpy as np\n",
    "import os\n",
    "\n",
    "from numpy.random import default_rng\n",
    "# stabilité du notebook d'une exécution à l'autre\n",
    "random=default_rng(420) \n",
    "\n",
    "# jolies figures directement dans le notebook\n",
    "%matplotlib inline\n",
    "import matplotlib\n",
    "import matplotlib.pyplot as plt\n",
    "plt.rcParams['axes.labelsize'] = 14\n",
    "plt.rcParams['xtick.labelsize'] = 12\n",
    "plt.rcParams['ytick.labelsize'] = 12\n",
    "\n",
    "# où sauver les figures\n",
    "PROJECT_ROOT_DIR = \".\"\n",
    "CHAPTER_ID = \"projet\"\n",
    "IMAGES_PATH = os.path.join(PROJECT_ROOT_DIR, \"img\") # le dossier doit exister\n",
    "\n",
    "def save_fig(fig_id, tight_layout=True, fig_extension=\"png\", resolution=500):\n",
    "    path = os.path.join(IMAGES_PATH, fig_id + \".\" + fig_extension)\n",
    "    print(\"Saving figure\", fig_id)\n",
    "    if tight_layout:\n",
    "        plt.tight_layout()\n",
    "    plt.savefig(path, format=fig_extension, dpi=resolution)\n"
   ]
  },
  {
   "cell_type": "markdown",
   "metadata": {},
   "source": [
    "### Importation"
   ]
  },
  {
   "cell_type": "code",
   "execution_count": 2,
   "metadata": {},
   "outputs": [],
   "source": [
    "import os\n",
    "import pandas as pd\n",
    "\n",
    "DATASETS_PATH = os.path.join(\".\\datasets\")\n",
    "\n",
    "def load_datasets_data(dataset_path=DATASETS_PATH):\n",
    "\tcsv_general = pd.read_csv(os.path.join(dataset_path, \"general_data.csv\"))\n",
    "\tcsv_manager = pd.read_csv(os.path.join(dataset_path, \"manager_survey_data.csv\"))\n",
    "\tcsv_employee = pd.read_csv(os.path.join(dataset_path, \"employee_survey_data.csv\"))\n",
    "\tcsv_intime = pd.read_csv(os.path.join(dataset_path, \"in_time.csv\"))\n",
    "\tcsv_outtime = pd.read_csv(os.path.join(dataset_path, \"out_time.csv\"))\n",
    "\treturn csv_general, csv_manager, csv_employee, csv_intime, csv_outtime"
   ]
  },
  {
   "cell_type": "code",
   "execution_count": 3,
   "metadata": {},
   "outputs": [],
   "source": [
    "general_set, manager_set, employee_set, intime_set, outtime_set = load_datasets_data()"
   ]
  },
  {
   "cell_type": "code",
   "execution_count": 4,
   "metadata": {},
   "outputs": [
    {
     "data": {
      "text/html": [
       "<div>\n",
       "<style scoped>\n",
       "    .dataframe tbody tr th:only-of-type {\n",
       "        vertical-align: middle;\n",
       "    }\n",
       "\n",
       "    .dataframe tbody tr th {\n",
       "        vertical-align: top;\n",
       "    }\n",
       "\n",
       "    .dataframe thead th {\n",
       "        text-align: right;\n",
       "    }\n",
       "</style>\n",
       "<table border=\"1\" class=\"dataframe\">\n",
       "  <thead>\n",
       "    <tr style=\"text-align: right;\">\n",
       "      <th></th>\n",
       "      <th>Age</th>\n",
       "      <th>Attrition</th>\n",
       "      <th>BusinessTravel</th>\n",
       "      <th>Department</th>\n",
       "      <th>DistanceFromHome</th>\n",
       "      <th>Education</th>\n",
       "      <th>EducationField</th>\n",
       "      <th>EmployeeCount</th>\n",
       "      <th>EmployeeID</th>\n",
       "      <th>Gender</th>\n",
       "      <th>...</th>\n",
       "      <th>TotalWorkingYears</th>\n",
       "      <th>TrainingTimesLastYear</th>\n",
       "      <th>YearsAtCompany</th>\n",
       "      <th>YearsSinceLastPromotion</th>\n",
       "      <th>YearsWithCurrManager</th>\n",
       "      <th>EnvironmentSatisfaction</th>\n",
       "      <th>JobSatisfaction</th>\n",
       "      <th>WorkLifeBalance</th>\n",
       "      <th>JobInvolvement</th>\n",
       "      <th>PerformanceRating</th>\n",
       "    </tr>\n",
       "  </thead>\n",
       "  <tbody>\n",
       "    <tr>\n",
       "      <th>0</th>\n",
       "      <td>51</td>\n",
       "      <td>No</td>\n",
       "      <td>Travel_Rarely</td>\n",
       "      <td>Sales</td>\n",
       "      <td>6</td>\n",
       "      <td>2</td>\n",
       "      <td>Life Sciences</td>\n",
       "      <td>1</td>\n",
       "      <td>1</td>\n",
       "      <td>Female</td>\n",
       "      <td>...</td>\n",
       "      <td>1.0</td>\n",
       "      <td>6</td>\n",
       "      <td>1</td>\n",
       "      <td>0</td>\n",
       "      <td>0</td>\n",
       "      <td>3.0</td>\n",
       "      <td>4.0</td>\n",
       "      <td>2.0</td>\n",
       "      <td>3</td>\n",
       "      <td>3</td>\n",
       "    </tr>\n",
       "    <tr>\n",
       "      <th>1</th>\n",
       "      <td>31</td>\n",
       "      <td>Yes</td>\n",
       "      <td>Travel_Frequently</td>\n",
       "      <td>Research &amp; Development</td>\n",
       "      <td>10</td>\n",
       "      <td>1</td>\n",
       "      <td>Life Sciences</td>\n",
       "      <td>1</td>\n",
       "      <td>2</td>\n",
       "      <td>Female</td>\n",
       "      <td>...</td>\n",
       "      <td>6.0</td>\n",
       "      <td>3</td>\n",
       "      <td>5</td>\n",
       "      <td>1</td>\n",
       "      <td>4</td>\n",
       "      <td>3.0</td>\n",
       "      <td>2.0</td>\n",
       "      <td>4.0</td>\n",
       "      <td>2</td>\n",
       "      <td>4</td>\n",
       "    </tr>\n",
       "    <tr>\n",
       "      <th>2</th>\n",
       "      <td>32</td>\n",
       "      <td>No</td>\n",
       "      <td>Travel_Frequently</td>\n",
       "      <td>Research &amp; Development</td>\n",
       "      <td>17</td>\n",
       "      <td>4</td>\n",
       "      <td>Other</td>\n",
       "      <td>1</td>\n",
       "      <td>3</td>\n",
       "      <td>Male</td>\n",
       "      <td>...</td>\n",
       "      <td>5.0</td>\n",
       "      <td>2</td>\n",
       "      <td>5</td>\n",
       "      <td>0</td>\n",
       "      <td>3</td>\n",
       "      <td>2.0</td>\n",
       "      <td>2.0</td>\n",
       "      <td>1.0</td>\n",
       "      <td>3</td>\n",
       "      <td>3</td>\n",
       "    </tr>\n",
       "    <tr>\n",
       "      <th>3</th>\n",
       "      <td>38</td>\n",
       "      <td>No</td>\n",
       "      <td>Non-Travel</td>\n",
       "      <td>Research &amp; Development</td>\n",
       "      <td>2</td>\n",
       "      <td>5</td>\n",
       "      <td>Life Sciences</td>\n",
       "      <td>1</td>\n",
       "      <td>4</td>\n",
       "      <td>Male</td>\n",
       "      <td>...</td>\n",
       "      <td>13.0</td>\n",
       "      <td>5</td>\n",
       "      <td>8</td>\n",
       "      <td>7</td>\n",
       "      <td>5</td>\n",
       "      <td>4.0</td>\n",
       "      <td>4.0</td>\n",
       "      <td>3.0</td>\n",
       "      <td>2</td>\n",
       "      <td>3</td>\n",
       "    </tr>\n",
       "    <tr>\n",
       "      <th>4</th>\n",
       "      <td>32</td>\n",
       "      <td>No</td>\n",
       "      <td>Travel_Rarely</td>\n",
       "      <td>Research &amp; Development</td>\n",
       "      <td>10</td>\n",
       "      <td>1</td>\n",
       "      <td>Medical</td>\n",
       "      <td>1</td>\n",
       "      <td>5</td>\n",
       "      <td>Male</td>\n",
       "      <td>...</td>\n",
       "      <td>9.0</td>\n",
       "      <td>2</td>\n",
       "      <td>6</td>\n",
       "      <td>0</td>\n",
       "      <td>4</td>\n",
       "      <td>4.0</td>\n",
       "      <td>1.0</td>\n",
       "      <td>3.0</td>\n",
       "      <td>3</td>\n",
       "      <td>3</td>\n",
       "    </tr>\n",
       "  </tbody>\n",
       "</table>\n",
       "<p>5 rows × 29 columns</p>\n",
       "</div>"
      ],
      "text/plain": [
       "   Age Attrition     BusinessTravel              Department  DistanceFromHome  \\\n",
       "0   51        No      Travel_Rarely                   Sales                 6   \n",
       "1   31       Yes  Travel_Frequently  Research & Development                10   \n",
       "2   32        No  Travel_Frequently  Research & Development                17   \n",
       "3   38        No         Non-Travel  Research & Development                 2   \n",
       "4   32        No      Travel_Rarely  Research & Development                10   \n",
       "\n",
       "   Education EducationField  EmployeeCount  EmployeeID  Gender  ...  \\\n",
       "0          2  Life Sciences              1           1  Female  ...   \n",
       "1          1  Life Sciences              1           2  Female  ...   \n",
       "2          4          Other              1           3    Male  ...   \n",
       "3          5  Life Sciences              1           4    Male  ...   \n",
       "4          1        Medical              1           5    Male  ...   \n",
       "\n",
       "   TotalWorkingYears TrainingTimesLastYear YearsAtCompany  \\\n",
       "0                1.0                     6              1   \n",
       "1                6.0                     3              5   \n",
       "2                5.0                     2              5   \n",
       "3               13.0                     5              8   \n",
       "4                9.0                     2              6   \n",
       "\n",
       "   YearsSinceLastPromotion  YearsWithCurrManager EnvironmentSatisfaction  \\\n",
       "0                        0                     0                     3.0   \n",
       "1                        1                     4                     3.0   \n",
       "2                        0                     3                     2.0   \n",
       "3                        7                     5                     4.0   \n",
       "4                        0                     4                     4.0   \n",
       "\n",
       "   JobSatisfaction  WorkLifeBalance  JobInvolvement  PerformanceRating  \n",
       "0              4.0              2.0               3                  3  \n",
       "1              2.0              4.0               2                  4  \n",
       "2              2.0              1.0               3                  3  \n",
       "3              4.0              3.0               2                  3  \n",
       "4              1.0              3.0               3                  3  \n",
       "\n",
       "[5 rows x 29 columns]"
      ]
     },
     "execution_count": 4,
     "metadata": {},
     "output_type": "execute_result"
    }
   ],
   "source": [
    "dataset_merge = general_set.merge(employee_set.merge(manager_set, on=\"EmployeeID\"), on=\"EmployeeID\")\n",
    "dataset = dataset_merge.copy()\n",
    "pd.DataFrame.head(dataset, 5)"
   ]
  },
  {
   "cell_type": "markdown",
   "metadata": {},
   "source": [
    "### Nettoyage des données / Complétion"
   ]
  },
  {
   "cell_type": "code",
   "execution_count": 5,
   "metadata": {},
   "outputs": [],
   "source": [
    "#https://prod.liveshare.vsengsaas.visualstudio.com/join?6712A4B62ABC55A3AC374AFD25A834927C4D\n",
    "\n",
    "incomplete_attributes = [\"NumCompaniesWorked\",\"JobSatisfaction\",\"EnvironmentSatisfaction\",\"WorkLifeBalance\", \"TotalWorkingYears\"]\n",
    "\n",
    "for attribute in incomplete_attributes:\n",
    "\tmedian = dataset[attribute].median()\n",
    "\tdataset[attribute].fillna(median, inplace=True) # option 3\n",
    "\n",
    "#Autre methode\n",
    "# from sklearn.impute import SimpleImputer\n",
    "# imputer = SimpleImputer(missing_values=np.nan, strategy=\"median\")"
   ]
  },
  {
   "cell_type": "code",
   "execution_count": 6,
   "metadata": {},
   "outputs": [
    {
     "name": "stdout",
     "output_type": "stream",
     "text": [
      "<class 'pandas.core.frame.DataFrame'>\n",
      "Int64Index: 4410 entries, 0 to 4409\n",
      "Data columns (total 29 columns):\n",
      " #   Column                   Non-Null Count  Dtype  \n",
      "---  ------                   --------------  -----  \n",
      " 0   Age                      4410 non-null   int64  \n",
      " 1   Attrition                4410 non-null   object \n",
      " 2   BusinessTravel           4410 non-null   object \n",
      " 3   Department               4410 non-null   object \n",
      " 4   DistanceFromHome         4410 non-null   int64  \n",
      " 5   Education                4410 non-null   int64  \n",
      " 6   EducationField           4410 non-null   object \n",
      " 7   EmployeeCount            4410 non-null   int64  \n",
      " 8   EmployeeID               4410 non-null   int64  \n",
      " 9   Gender                   4410 non-null   object \n",
      " 10  JobLevel                 4410 non-null   int64  \n",
      " 11  JobRole                  4410 non-null   object \n",
      " 12  MaritalStatus            4410 non-null   object \n",
      " 13  MonthlyIncome            4410 non-null   int64  \n",
      " 14  NumCompaniesWorked       4410 non-null   float64\n",
      " 15  Over18                   4410 non-null   object \n",
      " 16  PercentSalaryHike        4410 non-null   int64  \n",
      " 17  StandardHours            4410 non-null   int64  \n",
      " 18  StockOptionLevel         4410 non-null   int64  \n",
      " 19  TotalWorkingYears        4410 non-null   float64\n",
      " 20  TrainingTimesLastYear    4410 non-null   int64  \n",
      " 21  YearsAtCompany           4410 non-null   int64  \n",
      " 22  YearsSinceLastPromotion  4410 non-null   int64  \n",
      " 23  YearsWithCurrManager     4410 non-null   int64  \n",
      " 24  EnvironmentSatisfaction  4410 non-null   float64\n",
      " 25  JobSatisfaction          4410 non-null   float64\n",
      " 26  WorkLifeBalance          4410 non-null   float64\n",
      " 27  JobInvolvement           4410 non-null   int64  \n",
      " 28  PerformanceRating        4410 non-null   int64  \n",
      "dtypes: float64(5), int64(16), object(8)\n",
      "memory usage: 1.0+ MB\n"
     ]
    }
   ],
   "source": [
    "dataset.info()"
   ]
  },
  {
   "cell_type": "code",
   "execution_count": 7,
   "metadata": {},
   "outputs": [
    {
     "name": "stdout",
     "output_type": "stream",
     "text": [
      "Attrition NO:  3699  Attrition YES:  711\n",
      "16.122448979591837\n"
     ]
    }
   ],
   "source": [
    "rawArray = [\"Age\",\"DistanceFromHome\",\"Education\",\"TotalWorkingYears\",\n",
    "\t\"TrainingTimesLastYear\",\"YearsAtCompany\",\"YearsSinceLastPromotion\",\"YearsWithCurrManager\",\n",
    "\t\"EnvironmentSatisfaction\", \"JobSatisfaction\", \"WorkLifeBalance\",\"JobInvolvement\", \"NumCompaniesWorked\" ]\n",
    "\n",
    "dataset_yes = dataset.where(dataset[\"Attrition\"]==\"Yes\", 0)\n",
    "dataset_no  = dataset.where(dataset[\"Attrition\"]==\"No\", 1)\n",
    "\n",
    "dataset_yes = dataset_yes.loc[dataset_yes[\"Attrition\"] != 0]\n",
    "dataset_no = dataset_no.loc[dataset_no[\"Attrition\"] != 1]\n",
    "\n",
    "print(\"Attrition NO: \", len(dataset_no) ,\" Attrition YES: \", len(dataset_yes))\n",
    "\n",
    "print(711/4410*100)\n",
    "# for col in rawArray:\n",
    "#     plt.boxplot([dataset_yes[col].apply(np.int64), dataset_no[col].apply(np.int64)])\n",
    "#     print(col)\n",
    "#     plt.show()\n",
    "\n",
    "# for col in rawArray:\n",
    "# \tprint(col)\n",
    "# \tplt.hist(dataset_yes[col].apply(np.int64), color=\"red\", edgecolor='black', linewidth=1.2,bins=20)\n",
    "# \tplt.show()\n",
    "# \tplt.hist(dataset_no[col].apply(np.int64), color=\"green\", edgecolor='black', linewidth=1.2,bins=20)\n",
    "# \tplt.show()"
   ]
  },
  {
   "cell_type": "code",
   "execution_count": 8,
   "metadata": {},
   "outputs": [],
   "source": [
    "corr_array = [\"Age\", \"YearsAtCompany\", \"YearsSinceLastPromotion\", \"YearsWithCurrManager\"]\n"
   ]
  },
  {
   "cell_type": "code",
   "execution_count": 9,
   "metadata": {},
   "outputs": [],
   "source": [
    "# Data frame is created under column name Name and Attrition\n",
    "data_frame = pd.DataFrame(dataset, columns=[\"Attrition\"])\n",
    " \n",
    "# Data of Attrition is converted into Binary Data\n",
    "df_one = pd.get_dummies(data_frame[\"Attrition\"])\n",
    " \n",
    "# Binary Data is Concatenated into Dataframe\n",
    "df_two = pd.concat((df_one, data_frame), axis=1)\n",
    " \n",
    "# Attritioncolumn is dropped\n",
    "df_two = df_two.drop([\"Attrition\"], axis=1)\n",
    " \n",
    "# We want Male =0 and Female =1 So we drop Male column here\n",
    "df_two = df_two.drop([\"No\"], axis=1)\n",
    " \n",
    "# Rename the Column\n",
    "result = df_two.rename(columns={\"Yes\": \"Attrition\"})\n",
    "\n",
    "dataset_test = dataset.copy()\n",
    "attrition = result[\"Attrition\"]"
   ]
  },
  {
   "cell_type": "code",
   "execution_count": 10,
   "metadata": {},
   "outputs": [
    {
     "data": {
      "image/png": "[encoded data removed]",
      "text/plain": [
       "<Figure size 2880x1152 with 5 Axes>"
      ]
     },
     "metadata": {
      "needs_background": "light"
     },
     "output_type": "display_data"
    }
   ],
   "source": [
    "plt.figure(figsize=(40,16))\n",
    "\n",
    "plt.subplot(1,5,1)\n",
    "dataset['NumCompaniesWorked'].plot(kind='density', color='teal')\n",
    "plt.title('Density Plot Of Number Of \\nCompanies Worked')\n",
    "\n",
    "plt.subplot(1,5,2)\n",
    "dataset['TotalWorkingYears'].plot(kind='density', color='blue')\n",
    "plt.title('Density Plot Of \\nTotal Working Years')\n",
    "\n",
    "plt.subplot(1,5,3)\n",
    "dataset['EnvironmentSatisfaction'].plot(kind='density', color='teal')\n",
    "plt.title('Density Plot Of \\nEnvironment Satisfaction')\n",
    "\n",
    "plt.subplot(1,5,4)\n",
    "dataset['JobSatisfaction'].plot(kind='density', color='blue')\n",
    "plt.title('Density Plot Of \\nJob Satisfaction')\n",
    "\n",
    "plt.subplot(1,5,5)\n",
    "dataset['WorkLifeBalance'].plot(kind='density', color='green')\n",
    "plt.title('Density Plot Of \\nWork Life Balance')\n",
    "\n",
    "plt.show()"
   ]
  },
  {
   "cell_type": "markdown",
   "metadata": {},
   "source": [
    "### new prepa donnée"
   ]
  },
  {
   "cell_type": "code",
   "execution_count": 210,
   "metadata": {},
   "outputs": [],
   "source": [
    "def Age(dataframe):\n",
    "    dataframe.loc[dataframe['Age'] <= 30,'Age'] = 1\n",
    "    dataframe.loc[(dataframe['Age'] > 30) & (dataframe['Age'] <= 40), 'Age'] = 2\n",
    "    dataframe.loc[(dataframe['Age'] > 40) & (dataframe['Age'] <= 50), 'Age'] = 3\n",
    "    dataframe.loc[(dataframe['Age'] > 50) & (dataframe['Age'] <= 60), 'Age'] = 4\n",
    "    return dataframe\n",
    "\n",
    "Age(dataset); "
   ]
  },
  {
   "cell_type": "code",
   "execution_count": 211,
   "metadata": {},
   "outputs": [],
   "source": [
    "from sklearn.preprocessing import LabelEncoder\n",
    "labelEncoder_X = LabelEncoder()\n",
    "dataset['BusinessTravel'] = labelEncoder_X.fit_transform(dataset['BusinessTravel'])\n",
    "dataset['Department'] = labelEncoder_X.fit_transform(dataset['Department'])\n",
    "dataset['EducationField'] = labelEncoder_X.fit_transform(dataset['EducationField'])\n",
    "dataset['Gender'] = labelEncoder_X.fit_transform(dataset['Gender'])\n",
    "dataset['JobRole'] = labelEncoder_X.fit_transform(dataset['JobRole'])\n",
    "dataset['MaritalStatus'] = labelEncoder_X.fit_transform(dataset['MaritalStatus'])\n",
    "dataset['Over18'] = labelEncoder_X.fit_transform(dataset['Over18'])"
   ]
  },
  {
   "cell_type": "code",
   "execution_count": 212,
   "metadata": {},
   "outputs": [
    {
     "data": {
      "text/html": [
       "<div>\n",
       "<style scoped>\n",
       "    .dataframe tbody tr th:only-of-type {\n",
       "        vertical-align: middle;\n",
       "    }\n",
       "\n",
       "    .dataframe tbody tr th {\n",
       "        vertical-align: top;\n",
       "    }\n",
       "\n",
       "    .dataframe thead th {\n",
       "        text-align: right;\n",
       "    }\n",
       "</style>\n",
       "<table border=\"1\" class=\"dataframe\">\n",
       "  <thead>\n",
       "    <tr style=\"text-align: right;\">\n",
       "      <th></th>\n",
       "      <th>Age</th>\n",
       "      <th>BusinessTravel</th>\n",
       "      <th>Department</th>\n",
       "      <th>DistanceFromHome</th>\n",
       "      <th>Education</th>\n",
       "      <th>EducationField</th>\n",
       "      <th>EmployeeCount</th>\n",
       "      <th>EmployeeID</th>\n",
       "      <th>Gender</th>\n",
       "      <th>JobLevel</th>\n",
       "      <th>...</th>\n",
       "      <th>TotalWorkingYears</th>\n",
       "      <th>TrainingTimesLastYear</th>\n",
       "      <th>YearsAtCompany</th>\n",
       "      <th>YearsSinceLastPromotion</th>\n",
       "      <th>YearsWithCurrManager</th>\n",
       "      <th>EnvironmentSatisfaction</th>\n",
       "      <th>JobSatisfaction</th>\n",
       "      <th>WorkLifeBalance</th>\n",
       "      <th>JobInvolvement</th>\n",
       "      <th>PerformanceRating</th>\n",
       "    </tr>\n",
       "  </thead>\n",
       "  <tbody>\n",
       "    <tr>\n",
       "      <th>count</th>\n",
       "      <td>4410.0</td>\n",
       "      <td>4410.000000</td>\n",
       "      <td>4410.000000</td>\n",
       "      <td>4410.000000</td>\n",
       "      <td>4410.000000</td>\n",
       "      <td>4410.000000</td>\n",
       "      <td>4410.0</td>\n",
       "      <td>4410.000000</td>\n",
       "      <td>4410.000000</td>\n",
       "      <td>4410.000000</td>\n",
       "      <td>...</td>\n",
       "      <td>4410.000000</td>\n",
       "      <td>4410.000000</td>\n",
       "      <td>4410.000000</td>\n",
       "      <td>4410.000000</td>\n",
       "      <td>4410.000000</td>\n",
       "      <td>4410.000000</td>\n",
       "      <td>4410.000000</td>\n",
       "      <td>4410.000000</td>\n",
       "      <td>4410.000000</td>\n",
       "      <td>4410.000000</td>\n",
       "    </tr>\n",
       "    <tr>\n",
       "      <th>mean</th>\n",
       "      <td>1.0</td>\n",
       "      <td>1.607483</td>\n",
       "      <td>1.260544</td>\n",
       "      <td>9.192517</td>\n",
       "      <td>2.912925</td>\n",
       "      <td>2.247619</td>\n",
       "      <td>1.0</td>\n",
       "      <td>2205.500000</td>\n",
       "      <td>0.600000</td>\n",
       "      <td>2.063946</td>\n",
       "      <td>...</td>\n",
       "      <td>11.277324</td>\n",
       "      <td>2.799320</td>\n",
       "      <td>7.008163</td>\n",
       "      <td>2.187755</td>\n",
       "      <td>4.123129</td>\n",
       "      <td>2.725170</td>\n",
       "      <td>2.729478</td>\n",
       "      <td>2.763492</td>\n",
       "      <td>2.729932</td>\n",
       "      <td>3.153741</td>\n",
       "    </tr>\n",
       "    <tr>\n",
       "      <th>std</th>\n",
       "      <td>0.0</td>\n",
       "      <td>0.665304</td>\n",
       "      <td>0.527673</td>\n",
       "      <td>8.105026</td>\n",
       "      <td>1.023933</td>\n",
       "      <td>1.331067</td>\n",
       "      <td>0.0</td>\n",
       "      <td>1273.201673</td>\n",
       "      <td>0.489954</td>\n",
       "      <td>1.106689</td>\n",
       "      <td>...</td>\n",
       "      <td>7.774490</td>\n",
       "      <td>1.288978</td>\n",
       "      <td>6.125135</td>\n",
       "      <td>3.221699</td>\n",
       "      <td>3.567327</td>\n",
       "      <td>1.089852</td>\n",
       "      <td>1.098904</td>\n",
       "      <td>0.703541</td>\n",
       "      <td>0.711400</td>\n",
       "      <td>0.360742</td>\n",
       "    </tr>\n",
       "    <tr>\n",
       "      <th>min</th>\n",
       "      <td>1.0</td>\n",
       "      <td>0.000000</td>\n",
       "      <td>0.000000</td>\n",
       "      <td>1.000000</td>\n",
       "      <td>1.000000</td>\n",
       "      <td>0.000000</td>\n",
       "      <td>1.0</td>\n",
       "      <td>1.000000</td>\n",
       "      <td>0.000000</td>\n",
       "      <td>1.000000</td>\n",
       "      <td>...</td>\n",
       "      <td>0.000000</td>\n",
       "      <td>0.000000</td>\n",
       "      <td>0.000000</td>\n",
       "      <td>0.000000</td>\n",
       "      <td>0.000000</td>\n",
       "      <td>1.000000</td>\n",
       "      <td>1.000000</td>\n",
       "      <td>1.000000</td>\n",
       "      <td>1.000000</td>\n",
       "      <td>3.000000</td>\n",
       "    </tr>\n",
       "    <tr>\n",
       "      <th>25%</th>\n",
       "      <td>1.0</td>\n",
       "      <td>1.000000</td>\n",
       "      <td>1.000000</td>\n",
       "      <td>2.000000</td>\n",
       "      <td>2.000000</td>\n",
       "      <td>1.000000</td>\n",
       "      <td>1.0</td>\n",
       "      <td>1103.250000</td>\n",
       "      <td>0.000000</td>\n",
       "      <td>1.000000</td>\n",
       "      <td>...</td>\n",
       "      <td>6.000000</td>\n",
       "      <td>2.000000</td>\n",
       "      <td>3.000000</td>\n",
       "      <td>0.000000</td>\n",
       "      <td>2.000000</td>\n",
       "      <td>2.000000</td>\n",
       "      <td>2.000000</td>\n",
       "      <td>2.000000</td>\n",
       "      <td>2.000000</td>\n",
       "      <td>3.000000</td>\n",
       "    </tr>\n",
       "    <tr>\n",
       "      <th>50%</th>\n",
       "      <td>1.0</td>\n",
       "      <td>2.000000</td>\n",
       "      <td>1.000000</td>\n",
       "      <td>7.000000</td>\n",
       "      <td>3.000000</td>\n",
       "      <td>2.000000</td>\n",
       "      <td>1.0</td>\n",
       "      <td>2205.500000</td>\n",
       "      <td>1.000000</td>\n",
       "      <td>2.000000</td>\n",
       "      <td>...</td>\n",
       "      <td>10.000000</td>\n",
       "      <td>3.000000</td>\n",
       "      <td>5.000000</td>\n",
       "      <td>1.000000</td>\n",
       "      <td>3.000000</td>\n",
       "      <td>3.000000</td>\n",
       "      <td>3.000000</td>\n",
       "      <td>3.000000</td>\n",
       "      <td>3.000000</td>\n",
       "      <td>3.000000</td>\n",
       "    </tr>\n",
       "    <tr>\n",
       "      <th>75%</th>\n",
       "      <td>1.0</td>\n",
       "      <td>2.000000</td>\n",
       "      <td>2.000000</td>\n",
       "      <td>14.000000</td>\n",
       "      <td>4.000000</td>\n",
       "      <td>3.000000</td>\n",
       "      <td>1.0</td>\n",
       "      <td>3307.750000</td>\n",
       "      <td>1.000000</td>\n",
       "      <td>3.000000</td>\n",
       "      <td>...</td>\n",
       "      <td>15.000000</td>\n",
       "      <td>3.000000</td>\n",
       "      <td>9.000000</td>\n",
       "      <td>3.000000</td>\n",
       "      <td>7.000000</td>\n",
       "      <td>4.000000</td>\n",
       "      <td>4.000000</td>\n",
       "      <td>3.000000</td>\n",
       "      <td>3.000000</td>\n",
       "      <td>3.000000</td>\n",
       "    </tr>\n",
       "    <tr>\n",
       "      <th>max</th>\n",
       "      <td>1.0</td>\n",
       "      <td>2.000000</td>\n",
       "      <td>2.000000</td>\n",
       "      <td>29.000000</td>\n",
       "      <td>5.000000</td>\n",
       "      <td>5.000000</td>\n",
       "      <td>1.0</td>\n",
       "      <td>4410.000000</td>\n",
       "      <td>1.000000</td>\n",
       "      <td>5.000000</td>\n",
       "      <td>...</td>\n",
       "      <td>40.000000</td>\n",
       "      <td>6.000000</td>\n",
       "      <td>40.000000</td>\n",
       "      <td>15.000000</td>\n",
       "      <td>17.000000</td>\n",
       "      <td>4.000000</td>\n",
       "      <td>4.000000</td>\n",
       "      <td>4.000000</td>\n",
       "      <td>4.000000</td>\n",
       "      <td>4.000000</td>\n",
       "    </tr>\n",
       "  </tbody>\n",
       "</table>\n",
       "<p>8 rows × 28 columns</p>\n",
       "</div>"
      ],
      "text/plain": [
       "          Age  BusinessTravel   Department  DistanceFromHome    Education  \\\n",
       "count  4410.0     4410.000000  4410.000000       4410.000000  4410.000000   \n",
       "mean      1.0        1.607483     1.260544          9.192517     2.912925   \n",
       "std       0.0        0.665304     0.527673          8.105026     1.023933   \n",
       "min       1.0        0.000000     0.000000          1.000000     1.000000   \n",
       "25%       1.0        1.000000     1.000000          2.000000     2.000000   \n",
       "50%       1.0        2.000000     1.000000          7.000000     3.000000   \n",
       "75%       1.0        2.000000     2.000000         14.000000     4.000000   \n",
       "max       1.0        2.000000     2.000000         29.000000     5.000000   \n",
       "\n",
       "       EducationField  EmployeeCount   EmployeeID       Gender     JobLevel  \\\n",
       "count     4410.000000         4410.0  4410.000000  4410.000000  4410.000000   \n",
       "mean         2.247619            1.0  2205.500000     0.600000     2.063946   \n",
       "std          1.331067            0.0  1273.201673     0.489954     1.106689   \n",
       "min          0.000000            1.0     1.000000     0.000000     1.000000   \n",
       "25%          1.000000            1.0  1103.250000     0.000000     1.000000   \n",
       "50%          2.000000            1.0  2205.500000     1.000000     2.000000   \n",
       "75%          3.000000            1.0  3307.750000     1.000000     3.000000   \n",
       "max          5.000000            1.0  4410.000000     1.000000     5.000000   \n",
       "\n",
       "       ...  TotalWorkingYears  TrainingTimesLastYear  YearsAtCompany  \\\n",
       "count  ...        4410.000000            4410.000000     4410.000000   \n",
       "mean   ...          11.277324               2.799320        7.008163   \n",
       "std    ...           7.774490               1.288978        6.125135   \n",
       "min    ...           0.000000               0.000000        0.000000   \n",
       "25%    ...           6.000000               2.000000        3.000000   \n",
       "50%    ...          10.000000               3.000000        5.000000   \n",
       "75%    ...          15.000000               3.000000        9.000000   \n",
       "max    ...          40.000000               6.000000       40.000000   \n",
       "\n",
       "       YearsSinceLastPromotion  YearsWithCurrManager  EnvironmentSatisfaction  \\\n",
       "count              4410.000000           4410.000000              4410.000000   \n",
       "mean                  2.187755              4.123129                 2.725170   \n",
       "std                   3.221699              3.567327                 1.089852   \n",
       "min                   0.000000              0.000000                 1.000000   \n",
       "25%                   0.000000              2.000000                 2.000000   \n",
       "50%                   1.000000              3.000000                 3.000000   \n",
       "75%                   3.000000              7.000000                 4.000000   \n",
       "max                  15.000000             17.000000                 4.000000   \n",
       "\n",
       "       JobSatisfaction  WorkLifeBalance  JobInvolvement  PerformanceRating  \n",
       "count      4410.000000      4410.000000     4410.000000        4410.000000  \n",
       "mean          2.729478         2.763492        2.729932           3.153741  \n",
       "std           1.098904         0.703541        0.711400           0.360742  \n",
       "min           1.000000         1.000000        1.000000           3.000000  \n",
       "25%           2.000000         2.000000        2.000000           3.000000  \n",
       "50%           3.000000         3.000000        3.000000           3.000000  \n",
       "75%           4.000000         3.000000        3.000000           3.000000  \n",
       "max           4.000000         4.000000        4.000000           4.000000  \n",
       "\n",
       "[8 rows x 28 columns]"
      ]
     },
     "execution_count": 212,
     "metadata": {},
     "output_type": "execute_result"
    }
   ],
   "source": [
    "dataset.describe()"
   ]
  },
  {
   "cell_type": "markdown",
   "metadata": {},
   "source": [
    "## Test Pipeline\t"
   ]
  },
  {
   "cell_type": "code",
   "execution_count": 200,
   "metadata": {},
   "outputs": [],
   "source": [
    "dataset_pl = dataset.copy()\n",
    "ds_num = dataset_pl.select_dtypes(include=[np.number])\n",
    "ds_str = dataset_pl.select_dtypes(exclude=[np.number])"
   ]
  },
  {
   "cell_type": "code",
   "execution_count": 201,
   "metadata": {},
   "outputs": [],
   "source": [
    "from sklearn.preprocessing import StandardScaler\n",
    "from sklearn.preprocessing import OrdinalEncoder, OneHotEncoder\n",
    "from sklearn.compose import ColumnTransformer\n",
    "from sklearn.impute import SimpleImputer\n",
    "from sklearn.pipeline import Pipeline\n",
    "\n",
    "encoder = OrdinalEncoder()\n",
    "oh_encoder = OneHotEncoder()\n",
    "\n",
    "oh_encoder.fit(ds_str)\n",
    "# dataset.head(10)\n",
    "\n",
    "num_attribs = list(ds_num)\n",
    "str_attribs = list(ds_str)\n",
    "\n",
    "num_pipeline = Pipeline([\n",
    "\t('imputer', SimpleImputer(strategy=\"median\")), \n",
    "\t('std_scaler', StandardScaler()),\t\t\t   \n",
    "])\n",
    "\n",
    "ordinal_pipeline = ColumnTransformer([\n",
    "\t(\"num\", num_pipeline, num_attribs),\n",
    "\t(\"str\", encoder, str_attribs),\n",
    "])\n",
    "\n",
    "ohe_pipeline = ColumnTransformer([\n",
    "\t(\"num\", num_pipeline, num_attribs),\n",
    "\t(\"str\", oh_encoder, str_attribs),\n",
    "])\n",
    "\n",
    "\n",
    "\n",
    "# dataset_pipeline = ordinal_pipeline.fit_transform(dataset_pl)\n",
    "dataset_pipeline = ohe_pipeline.fit_transform(dataset_pl)\n",
    "# dataset_pipeline"
   ]
  },
  {
   "cell_type": "code",
   "execution_count": 202,
   "metadata": {},
   "outputs": [
    {
     "name": "stderr",
     "output_type": "stream",
     "text": [
      "C:\\Users\\ASUS STRIX SCAR\\anaconda3\\lib\\site-packages\\sklearn\\utils\\deprecation.py:87: FutureWarning: Function get_feature_names is deprecated; get_feature_names is deprecated in 1.0 and will be removed in 1.2. Please use get_feature_names_out instead.\n",
      "  warnings.warn(msg, category=FutureWarning)\n"
     ]
    }
   ],
   "source": [
    "dataset_prepared = pd.DataFrame(\n",
    "    dataset_pipeline,\n",
    "    columns=list(np.concatenate((num_attribs, oh_encoder.get_feature_names(str_attribs))))  # Si OHE, utilise np.concat ci-dessous\n",
    ")\n",
    "# columns=list(np.concatenate((num_attribs, oh_encoder.get_feature_names(str_attribs))))     #OHE\n",
    "# columns=list(dataset_pl.columns) \t\t #OrdinalEncoder\n",
    "# dataset_prepared.info()"
   ]
  },
  {
   "cell_type": "code",
   "execution_count": 214,
   "metadata": {},
   "outputs": [
    {
     "name": "stdout",
     "output_type": "stream",
     "text": [
      "<class 'pandas.core.frame.DataFrame'>\n",
      "Int64Index: 4410 entries, 0 to 4409\n",
      "Data columns (total 29 columns):\n",
      " #   Column                   Non-Null Count  Dtype  \n",
      "---  ------                   --------------  -----  \n",
      " 0   Age                      4410 non-null   int64  \n",
      " 1   Attrition                4410 non-null   object \n",
      " 2   BusinessTravel           4410 non-null   int32  \n",
      " 3   Department               4410 non-null   int32  \n",
      " 4   DistanceFromHome         4410 non-null   int64  \n",
      " 5   Education                4410 non-null   int64  \n",
      " 6   EducationField           4410 non-null   int32  \n",
      " 7   EmployeeCount            4410 non-null   int64  \n",
      " 8   EmployeeID               4410 non-null   int64  \n",
      " 9   Gender                   4410 non-null   int32  \n",
      " 10  JobLevel                 4410 non-null   int64  \n",
      " 11  JobRole                  4410 non-null   int32  \n",
      " 12  MaritalStatus            4410 non-null   int32  \n",
      " 13  MonthlyIncome            4410 non-null   int64  \n",
      " 14  NumCompaniesWorked       4410 non-null   float64\n",
      " 15  Over18                   4410 non-null   int32  \n",
      " 16  PercentSalaryHike        4410 non-null   int64  \n",
      " 17  StandardHours            4410 non-null   int64  \n",
      " 18  StockOptionLevel         4410 non-null   int64  \n",
      " 19  TotalWorkingYears        4410 non-null   float64\n",
      " 20  TrainingTimesLastYear    4410 non-null   int64  \n",
      " 21  YearsAtCompany           4410 non-null   int64  \n",
      " 22  YearsSinceLastPromotion  4410 non-null   int64  \n",
      " 23  YearsWithCurrManager     4410 non-null   int64  \n",
      " 24  EnvironmentSatisfaction  4410 non-null   float64\n",
      " 25  JobSatisfaction          4410 non-null   float64\n",
      " 26  WorkLifeBalance          4410 non-null   float64\n",
      " 27  JobInvolvement           4410 non-null   int64  \n",
      " 28  PerformanceRating        4410 non-null   int64  \n",
      "dtypes: float64(5), int32(7), int64(16), object(1)\n",
      "memory usage: 913.0+ KB\n"
     ]
    }
   ],
   "source": [
    "dataset_prepared = dataset.copy()\n",
    "dataset_prepared.info()"
   ]
  },
  {
   "cell_type": "code",
   "execution_count": 215,
   "metadata": {},
   "outputs": [
    {
     "name": "stdout",
     "output_type": "stream",
     "text": [
      "<class 'pandas.core.frame.DataFrame'>\n",
      "Int64Index: 4410 entries, 0 to 4409\n",
      "Data columns (total 21 columns):\n",
      " #   Column                   Non-Null Count  Dtype  \n",
      "---  ------                   --------------  -----  \n",
      " 0   Age                      4410 non-null   int64  \n",
      " 1   BusinessTravel           4410 non-null   int32  \n",
      " 2   DistanceFromHome         4410 non-null   int64  \n",
      " 3   EducationField           4410 non-null   int32  \n",
      " 4   JobLevel                 4410 non-null   int64  \n",
      " 5   JobRole                  4410 non-null   int32  \n",
      " 6   MaritalStatus            4410 non-null   int32  \n",
      " 7   MonthlyIncome            4410 non-null   int64  \n",
      " 8   NumCompaniesWorked       4410 non-null   float64\n",
      " 9   PercentSalaryHike        4410 non-null   int64  \n",
      " 10  StockOptionLevel         4410 non-null   int64  \n",
      " 11  TotalWorkingYears        4410 non-null   float64\n",
      " 12  TrainingTimesLastYear    4410 non-null   int64  \n",
      " 13  YearsAtCompany           4410 non-null   int64  \n",
      " 14  YearsSinceLastPromotion  4410 non-null   int64  \n",
      " 15  YearsWithCurrManager     4410 non-null   int64  \n",
      " 16  EnvironmentSatisfaction  4410 non-null   float64\n",
      " 17  JobSatisfaction          4410 non-null   float64\n",
      " 18  WorkLifeBalance          4410 non-null   float64\n",
      " 19  JobInvolvement           4410 non-null   int64  \n",
      " 20  PerformanceRating        4410 non-null   int64  \n",
      "dtypes: float64(5), int32(4), int64(12)\n",
      "memory usage: 689.1 KB\n"
     ]
    }
   ],
   "source": [
    "import pandas as pd, numpy as np, seaborn as sns,matplotlib.pyplot as plt\n",
    "useless_value = ['Attrition','StandardHours','Education','EmployeeCount','EmployeeID', \"Over18\", \"Gender\", \"Department\"] #Ordinal\n",
    "# useless_value = ['StandardHours','Education','EmployeeCount','EmployeeID', \"Over18_Y\", \"Gender_Female\",\"Gender_Male\"] #OHE\n",
    "dataset_prepared = dataset_prepared.drop(useless_value, axis = 1)\n",
    "dataset_prepared.info()"
   ]
  },
  {
   "cell_type": "code",
   "execution_count": 179,
   "metadata": {},
   "outputs": [],
   "source": [
    "# plt.figure(figsize = (50,40))   \n",
    "# sns.heatmap(dataset_prepared.corr(),annot = True,cmap=\"tab20c\")\n",
    "# plt.show()"
   ]
  },
  {
   "cell_type": "markdown",
   "metadata": {},
   "source": [
    "### def x,y"
   ]
  },
  {
   "cell_type": "code",
   "execution_count": 216,
   "metadata": {},
   "outputs": [],
   "source": [
    "y = attrition\n",
    "x = dataset_prepared\n",
    "# y = attrition\n",
    "# x = dataset_prepared.drop(['Attrition_Yes', 'Attrition_No'], axis = 1) "
   ]
  },
  {
   "cell_type": "code",
   "execution_count": 217,
   "metadata": {},
   "outputs": [
    {
     "name": "stdout",
     "output_type": "stream",
     "text": [
      "<class 'pandas.core.frame.DataFrame'>\n",
      "Int64Index: 4410 entries, 0 to 4409\n",
      "Data columns (total 21 columns):\n",
      " #   Column                   Non-Null Count  Dtype  \n",
      "---  ------                   --------------  -----  \n",
      " 0   Age                      4410 non-null   int64  \n",
      " 1   BusinessTravel           4410 non-null   int32  \n",
      " 2   DistanceFromHome         4410 non-null   int64  \n",
      " 3   EducationField           4410 non-null   int32  \n",
      " 4   JobLevel                 4410 non-null   int64  \n",
      " 5   JobRole                  4410 non-null   int32  \n",
      " 6   MaritalStatus            4410 non-null   int32  \n",
      " 7   MonthlyIncome            4410 non-null   int64  \n",
      " 8   NumCompaniesWorked       4410 non-null   float64\n",
      " 9   PercentSalaryHike        4410 non-null   int64  \n",
      " 10  StockOptionLevel         4410 non-null   int64  \n",
      " 11  TotalWorkingYears        4410 non-null   float64\n",
      " 12  TrainingTimesLastYear    4410 non-null   int64  \n",
      " 13  YearsAtCompany           4410 non-null   int64  \n",
      " 14  YearsSinceLastPromotion  4410 non-null   int64  \n",
      " 15  YearsWithCurrManager     4410 non-null   int64  \n",
      " 16  EnvironmentSatisfaction  4410 non-null   float64\n",
      " 17  JobSatisfaction          4410 non-null   float64\n",
      " 18  WorkLifeBalance          4410 non-null   float64\n",
      " 19  JobInvolvement           4410 non-null   int64  \n",
      " 20  PerformanceRating        4410 non-null   int64  \n",
      "dtypes: float64(5), int32(4), int64(12)\n",
      "memory usage: 689.1 KB\n"
     ]
    }
   ],
   "source": [
    "x.info()"
   ]
  },
  {
   "cell_type": "code",
   "execution_count": 220,
   "metadata": {},
   "outputs": [],
   "source": [
    "from sklearn.model_selection import train_test_split\n",
    "X_train, X_test, y_train, y_test = train_test_split(x, y, train_size=0.7, test_size=0.3, stratify=y)"
   ]
  },
  {
   "cell_type": "code",
   "execution_count": 175,
   "metadata": {},
   "outputs": [],
   "source": [
    "# corrmat = X_train.corr() \n",
    "# corrdf = corrmat.where(np.triu(np.ones(corrmat.shape), k=1).astype(np.bool))\n",
    "# corrdf = corrdf.unstack().reset_index()\n",
    "# corrdf.columns = ['Var1', 'Var2', 'Correlation']\n",
    "# corrdf.dropna(subset = ['Correlation'], inplace = True)\n",
    "# corrdf['Correlation'] = round(corrdf['Correlation'], 2)\n",
    "# corrdf['Correlation'] = abs(corrdf['Correlation'])\n",
    "# matrix= corrdf.sort_values(by = 'Correlation', ascending = False).head(50)\n",
    "# matrix"
   ]
  },
  {
   "cell_type": "markdown",
   "metadata": {},
   "source": [
    "# Indicateurs de qualité"
   ]
  },
  {
   "cell_type": "markdown",
   "metadata": {},
   "source": [
    "### log qui trouve les meilleurs param"
   ]
  },
  {
   "cell_type": "code",
   "execution_count": 219,
   "metadata": {},
   "outputs": [],
   "source": [
    "from sklearn.preprocessing import StandardScaler\n",
    "sc = StandardScaler()\n",
    "X_train = sc.fit_transform(X_train)\n",
    "X_test = sc.transform(X_test)"
   ]
  },
  {
   "cell_type": "code",
   "execution_count": 160,
   "metadata": {},
   "outputs": [
    {
     "data": {
      "text/plain": [
       "LogisticRegression()"
      ]
     },
     "execution_count": 160,
     "metadata": {},
     "output_type": "execute_result"
    }
   ],
   "source": [
    "from sklearn.linear_model import LogisticRegression\n",
    "classifier = LogisticRegression()\n",
    "classifier.fit(X_train, y_train)"
   ]
  },
  {
   "cell_type": "code",
   "execution_count": 161,
   "metadata": {},
   "outputs": [],
   "source": [
    "y_pred = classifier.predict(X_test)"
   ]
  },
  {
   "cell_type": "code",
   "execution_count": 162,
   "metadata": {},
   "outputs": [],
   "source": [
    "from sklearn.metrics import confusion_matrix\n",
    "cm = confusion_matrix(y_test, y_pred)"
   ]
  },
  {
   "cell_type": "code",
   "execution_count": 163,
   "metadata": {},
   "outputs": [
    {
     "data": {
      "text/plain": [
       "0.8480698104484512"
      ]
     },
     "execution_count": 163,
     "metadata": {},
     "output_type": "execute_result"
    }
   ],
   "source": [
    "from sklearn.model_selection import cross_val_score\n",
    "accuracies = cross_val_score(estimator = classifier, X = X_train, y = y_train, cv = 10)\n",
    "accuracies.mean()"
   ]
  },
  {
   "cell_type": "code",
   "execution_count": 164,
   "metadata": {},
   "outputs": [
    {
     "name": "stdout",
     "output_type": "stream",
     "text": [
      "Tuned_parameter k : {'C': 0.33, 'max_iter': 200, 'solver': 'liblinear'}\n",
      "Best Score: 0.8487181103685959\n"
     ]
    }
   ],
   "source": [
    "from sklearn.model_selection import GridSearchCV\n",
    "grid = {\"C\": np.arange(0.3,0.4,0.01),\n",
    "        \"solver\": [\"newton-cg\", \"lbfgs\", \"liblinear\", \"sag\", \"saga\"],\n",
    "        \"max_iter\": [200]\n",
    "       }\n",
    "classifier_opt = GridSearchCV(classifier, grid, scoring = 'accuracy', cv=10)\n",
    "classifier_opt.fit(X_train,y_train)\n",
    "print(\"Tuned_parameter k : {}\".format(classifier_opt.best_params_))\n",
    "print(\"Best Score: {}\".format(classifier_opt.best_score_))"
   ]
  },
  {
   "cell_type": "code",
   "execution_count": 165,
   "metadata": {},
   "outputs": [
    {
     "data": {
      "text/plain": [
       "0.8487181103685959"
      ]
     },
     "execution_count": 165,
     "metadata": {},
     "output_type": "execute_result"
    }
   ],
   "source": [
    "classifier = LogisticRegression(C=0.33, solver=\"liblinear\", max_iter=200)\n",
    "classifier.fit(X_train, y_train)\n",
    "accuracies = cross_val_score(estimator = classifier, X = X_train, y = y_train, cv = 10)\n",
    "accuracies.mean()"
   ]
  },
  {
   "cell_type": "code",
   "execution_count": 166,
   "metadata": {},
   "outputs": [
    {
     "data": {
      "image/png": "[encoded data removed]",
      "text/plain": [
       "<Figure size 432x288 with 1 Axes>"
      ]
     },
     "metadata": {
      "needs_background": "light"
     },
     "output_type": "display_data"
    }
   ],
   "source": [
    "from sklearn.metrics import roc_auc_score\n",
    "from sklearn.metrics import roc_curve\n",
    "logit_roc_auc = roc_auc_score(y_test, classifier.predict(X_test))\n",
    "fpr, tpr, thresholds = roc_curve(y_test, classifier.predict_proba(X_test)[:,1])\n",
    "plt.figure()\n",
    "plt.plot(fpr, tpr, label='Logistic Regression (area = %0.2f)' % logit_roc_auc)\n",
    "plt.plot([0, 1], [0, 1],'r--')\n",
    "plt.xlim([0.0, 1.0])\n",
    "plt.ylim([0.0, 1.05])\n",
    "plt.xlabel('Taux de faux positifs')\n",
    "plt.ylabel('Taux de vrais positifs')\n",
    "plt.title('ROC')\n",
    "plt.legend(loc=\"lower right\")\n",
    "plt.show()"
   ]
  },
  {
   "cell_type": "markdown",
   "metadata": {},
   "source": [
    "### log 79%"
   ]
  },
  {
   "cell_type": "code",
   "execution_count": 225,
   "metadata": {},
   "outputs": [
    {
     "name": "stdout",
     "output_type": "stream",
     "text": [
      "0.8405139833711263\n",
      "[[1108    2]\n",
      " [ 209    4]]\n"
     ]
    }
   ],
   "source": [
    "\n",
    "from sklearn.model_selection import cross_val_score\n",
    "from sklearn.metrics import confusion_matrix, accuracy_score\n",
    "from sklearn.linear_model import LogisticRegression\n",
    "\n",
    "lr = LogisticRegression()\n",
    "lr.fit(X_train,y_train)\n",
    "y_pred = lr.predict(X_test)\n",
    "\n",
    "print(accuracy_score(y_test,y_pred))\n",
    "print(confusion_matrix(y_test,y_pred))"
   ]
  },
  {
   "cell_type": "code",
   "execution_count": 222,
   "metadata": {},
   "outputs": [
    {
     "data": {
      "text/plain": [
       "[<matplotlib.lines.Line2D at 0x27445638640>]"
      ]
     },
     "execution_count": 222,
     "metadata": {},
     "output_type": "execute_result"
    },
    {
     "data": {
      "image/png": "[encoded data removed]",
      "text/plain": [
       "<Figure size 432x288 with 1 Axes>"
      ]
     },
     "metadata": {
      "needs_background": "light"
     },
     "output_type": "display_data"
    }
   ],
   "source": [
    "log_score = cross_val_score(estimator=LogisticRegression(), X=X_test, y=y_test) \n",
    "plt.plot(log_score)"
   ]
  },
  {
   "cell_type": "markdown",
   "metadata": {},
   "source": [
    "### log avec QuantileTransformer 72%"
   ]
  },
  {
   "cell_type": "code",
   "execution_count": 126,
   "metadata": {},
   "outputs": [
    {
     "name": "stdout",
     "output_type": "stream",
     "text": [
      "Accuracy =  0.8518518518518519\n",
      "[[1078   32]\n",
      " [ 164   49]]\n"
     ]
    }
   ],
   "source": [
    "# from sklearn import preprocessing\n",
    "\n",
    "# quantile_transformer = preprocessing.QuantileTransformer(output_distribution='normal',random_state=0)\n",
    "# x_train_scaled = quantile_transformer.fit_transform(X_train)\n",
    "# x_test_scaled = quantile_transformer.fit_transform(X_test)\n",
    "\n",
    "# model=LogisticRegression()\n",
    "# model.fit(x_train_scaled,y_train)\n",
    "# y_predict=model.predict(x_test_scaled)\n",
    "# model_score=model.score(x_test_scaled,y_test)\n",
    "# print('Accuracy = ',model_score)\n",
    "# print(metrics.confusion_matrix(y_test,y_predict))"
   ]
  },
  {
   "cell_type": "code",
   "execution_count": 226,
   "metadata": {},
   "outputs": [
    {
     "name": "stdout",
     "output_type": "stream",
     "text": [
      "              precision    recall  f1-score   support\n",
      "\n",
      "           0       0.84      1.00      0.91      1110\n",
      "           1       0.67      0.02      0.04       213\n",
      "\n",
      "    accuracy                           0.84      1323\n",
      "   macro avg       0.75      0.51      0.47      1323\n",
      "weighted avg       0.81      0.84      0.77      1323\n",
      "\n"
     ]
    }
   ],
   "source": [
    "from sklearn.metrics import classification_report\n",
    "print(classification_report(y_test,y_pred))"
   ]
  },
  {
   "cell_type": "code",
   "execution_count": 227,
   "metadata": {},
   "outputs": [
    {
     "data": {
      "image/png": "[encoded data removed]",
      "text/plain": [
       "<Figure size 864x360 with 1 Axes>"
      ]
     },
     "metadata": {
      "needs_background": "light"
     },
     "output_type": "display_data"
    }
   ],
   "source": [
    "from sklearn import metrics\n",
    "\n",
    "plt.figure(figsize=(12,5))\n",
    "\n",
    "lrprob = lr.predict_proba(X_test)\n",
    "lr_pred = lrprob[:,1]\n",
    "fpr, tpr, threshold = metrics.roc_curve(y_test, lr_pred)\n",
    "roc_auc = metrics.auc(fpr, tpr)\n",
    "\n",
    "plt.plot(fpr, tpr, 'b', label = 'AUC = %0.2f' % roc_auc)\n",
    "plt.plot([0, 1], [0, 1],'r--')\n",
    "plt.title('Logistic Regression ROC', fontsize=15)\n",
    "plt.ylabel('True Positive Rate', fontsize=15)\n",
    "plt.xlabel('False Positive Rate', fontsize=15)\n",
    "plt.legend(loc = 'lower right', prop={'size': 14})\n",
    "\n",
    "plt.show()\n"
   ]
  },
  {
   "cell_type": "code",
   "execution_count": null,
   "metadata": {},
   "outputs": [],
   "source": []
  }
 ],
 "metadata": {
  "interpreter": {
   "hash": "63fd5069d213b44bf678585dea6b12cceca9941eaf7f819626cde1f2670de90d"
  },
  "kernelspec": {
   "display_name": "Python 3.9.7 64-bit",
   "language": "python",
   "name": "python3"
  },
  "language_info": {
   "codemirror_mode": {
    "name": "ipython",
    "version": 3
   },
   "file_extension": ".py",
   "mimetype": "text/x-python",
   "name": "python",
   "nbconvert_exporter": "python",
   "pygments_lexer": "ipython3",
   "version": "3.8.8"
  },
  "orig_nbformat": 4
 },
 "nbformat": 4,
 "nbformat_minor": 2
}
