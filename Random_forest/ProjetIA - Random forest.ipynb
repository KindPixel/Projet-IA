{
 "cells": [
  {
   "cell_type": "markdown",
   "metadata": {},
   "source": [
    "# Preparation des données\n",
    "### Initialisation du projet"
   ]
  },
  {
   "cell_type": "code",
   "execution_count": 246,
   "metadata": {},
   "outputs": [],
   "source": [
    "# imports\n",
    "import numpy as np\n",
    "import os\n",
    "\n",
    "from numpy.random import default_rng\n",
    "# stabilité du notebook d'une exécution à l'autre\n",
    "random=default_rng(420) \n",
    "\n",
    "# jolies figures directement dans le notebook\n",
    "%matplotlib inline\n",
    "import matplotlib\n",
    "import matplotlib.pyplot as plt\n",
    "plt.rcParams['axes.labelsize'] = 14\n",
    "plt.rcParams['xtick.labelsize'] = 12\n",
    "plt.rcParams['ytick.labelsize'] = 12\n",
    "\n",
    "# où sauver les figures\n",
    "PROJECT_ROOT_DIR = \".\"\n",
    "CHAPTER_ID = \"projet\"\n",
    "IMAGES_PATH = os.path.join(PROJECT_ROOT_DIR, \"img\") # le dossier doit exister\n",
    "\n",
    "def save_fig(fig_id, tight_layout=True, fig_extension=\"png\", resolution=500):\n",
    "    path = os.path.join(IMAGES_PATH, fig_id + \".\" + fig_extension)\n",
    "    print(\"Saving figure\", fig_id)\n",
    "    if tight_layout:\n",
    "        plt.tight_layout()\n",
    "    plt.savefig(path, format=fig_extension, dpi=resolution)\n"
   ]
  },
  {
   "cell_type": "markdown",
   "metadata": {},
   "source": [
    "### Importation des données (csv)"
   ]
  },
  {
   "cell_type": "code",
   "execution_count": 247,
   "metadata": {},
   "outputs": [],
   "source": [
    "import os\n",
    "import pandas as pd\n",
    "\n",
    "DATASETS_PATH = os.path.join(\"..\\datasets\")\n",
    "\n",
    "def load_datasets_data(dataset_path=DATASETS_PATH):\n",
    "\tcsv_general = pd.read_csv(os.path.join(dataset_path, \"general_data.csv\"))\n",
    "\tcsv_manager = pd.read_csv(os.path.join(dataset_path, \"manager_survey_data.csv\"))\n",
    "\tcsv_employee = pd.read_csv(os.path.join(dataset_path, \"employee_survey_data.csv\"))\n",
    "\tcsv_intime = pd.read_csv(os.path.join(dataset_path, \"in_time.csv\"))\n",
    "\tcsv_outtime = pd.read_csv(os.path.join(dataset_path, \"out_time.csv\"))\n",
    "\treturn csv_general, csv_manager, csv_employee, csv_intime, csv_outtime"
   ]
  },
  {
   "cell_type": "code",
   "execution_count": 248,
   "metadata": {},
   "outputs": [],
   "source": [
    "general_set, manager_set, employee_set, intime_set, outtime_set = load_datasets_data()"
   ]
  },
  {
   "cell_type": "markdown",
   "metadata": {},
   "source": [
    "### Fusion des donnée indexé sur EmployeeID"
   ]
  },
  {
   "cell_type": "code",
   "execution_count": 249,
   "metadata": {},
   "outputs": [],
   "source": [
    "dataset_merge = general_set.merge(employee_set.merge(manager_set, on=\"EmployeeID\"), on=\"EmployeeID\")\n",
    "dataset = dataset_merge.copy()\n"
   ]
  },
  {
   "cell_type": "markdown",
   "metadata": {},
   "source": [
    "### Traitement des informations d'entrée et de sortie"
   ]
  },
  {
   "cell_type": "code",
   "execution_count": 196,
   "metadata": {},
   "outputs": [
    {
     "name": "stdout",
     "output_type": "stream",
     "text": [
      "<class 'pandas.core.frame.DataFrame'>\n",
      "RangeIndex: 4410 entries, 0 to 4409\n",
      "Columns: 262 entries, Unnamed: 0 to 2015-12-31\n",
      "dtypes: float64(12), int64(1), object(249)\n",
      "memory usage: 8.8+ MB\n"
     ]
    }
   ],
   "source": [
    "intime_set.info()\n",
    "# outtime_set"
   ]
  },
  {
   "cell_type": "code",
   "execution_count": 197,
   "metadata": {},
   "outputs": [
    {
     "data": {
      "text/plain": [
       "(4410, 262)"
      ]
     },
     "execution_count": 197,
     "metadata": {},
     "output_type": "execute_result"
    }
   ],
   "source": [
    "intime_set.shape\n"
   ]
  },
  {
   "cell_type": "code",
   "execution_count": 198,
   "metadata": {},
   "outputs": [],
   "source": [
    "intime_set = intime_set.replace(np.nan, 0)"
   ]
  },
  {
   "cell_type": "code",
   "execution_count": 199,
   "metadata": {},
   "outputs": [],
   "source": [
    "intime_set.iloc[:, 1:] = intime_set.iloc[:, 1:].apply(pd.to_datetime, errors='coerce')"
   ]
  },
  {
   "cell_type": "code",
   "execution_count": 200,
   "metadata": {},
   "outputs": [
    {
     "name": "stdout",
     "output_type": "stream",
     "text": [
      "<class 'pandas.core.frame.DataFrame'>\n",
      "RangeIndex: 4410 entries, 0 to 4409\n",
      "Columns: 262 entries, Unnamed: 0 to 2015-12-31\n",
      "dtypes: datetime64[ns](261), int64(1)\n",
      "memory usage: 8.8 MB\n"
     ]
    }
   ],
   "source": [
    "intime_set.info()"
   ]
  },
  {
   "cell_type": "code",
   "execution_count": 201,
   "metadata": {},
   "outputs": [
    {
     "name": "stdout",
     "output_type": "stream",
     "text": [
      "<class 'pandas.core.frame.DataFrame'>\n",
      "RangeIndex: 4410 entries, 0 to 4409\n",
      "Columns: 262 entries, Unnamed: 0 to 2015-12-31\n",
      "dtypes: float64(12), int64(1), object(249)\n",
      "memory usage: 8.8+ MB\n"
     ]
    }
   ],
   "source": [
    "outtime_set = outtime_set.replace(np.nan, 0)\n",
    "outtime_set.info()"
   ]
  },
  {
   "cell_type": "code",
   "execution_count": 202,
   "metadata": {},
   "outputs": [],
   "source": [
    "outtime_set.iloc[:, 1:] = outtime_set.iloc[:, 1:].apply(pd.to_datetime, errors='coerce')\n"
   ]
  },
  {
   "cell_type": "code",
   "execution_count": 203,
   "metadata": {},
   "outputs": [
    {
     "name": "stdout",
     "output_type": "stream",
     "text": [
      "<class 'pandas.core.frame.DataFrame'>\n",
      "Int64Index: 8820 entries, 0 to 4409\n",
      "Columns: 262 entries, Unnamed: 0 to 2015-12-31\n",
      "dtypes: datetime64[ns](261), int64(1)\n",
      "memory usage: 17.7 MB\n"
     ]
    }
   ],
   "source": [
    "intime_set = intime_set.append(outtime_set)\n",
    "intime_set.info()"
   ]
  },
  {
   "cell_type": "code",
   "execution_count": 204,
   "metadata": {},
   "outputs": [
    {
     "name": "stderr",
     "output_type": "stream",
     "text": [
      "C:\\Users\\cruel\\AppData\\Local\\Temp/ipykernel_12516/687009886.py:3: PerformanceWarning: DataFrame is highly fragmented.  This is usually the result of calling `frame.insert` many times, which has poor performance.  Consider joining all columns at once using pd.concat(axis=1) instead.  To get a de-fragmented frame, use `newframe = frame.copy()`\n",
      "  intime_set.reset_index(inplace=True)\n"
     ]
    }
   ],
   "source": [
    "intime_set = intime_set.diff(periods=4410)\n",
    "intime_set = intime_set.iloc[4410:]\n",
    "intime_set.reset_index(inplace=True)"
   ]
  },
  {
   "cell_type": "code",
   "execution_count": 205,
   "metadata": {},
   "outputs": [
    {
     "data": {
      "text/html": [
       "<div>\n",
       "<style scoped>\n",
       "    .dataframe tbody tr th:only-of-type {\n",
       "        vertical-align: middle;\n",
       "    }\n",
       "\n",
       "    .dataframe tbody tr th {\n",
       "        vertical-align: top;\n",
       "    }\n",
       "\n",
       "    .dataframe thead th {\n",
       "        text-align: right;\n",
       "    }\n",
       "</style>\n",
       "<table border=\"1\" class=\"dataframe\">\n",
       "  <thead>\n",
       "    <tr style=\"text-align: right;\">\n",
       "      <th></th>\n",
       "      <th>2015-01-01</th>\n",
       "      <th>2015-01-02</th>\n",
       "      <th>2015-01-05</th>\n",
       "      <th>2015-01-06</th>\n",
       "      <th>2015-01-07</th>\n",
       "      <th>2015-01-08</th>\n",
       "      <th>2015-01-09</th>\n",
       "      <th>2015-01-12</th>\n",
       "      <th>2015-01-13</th>\n",
       "      <th>2015-01-14</th>\n",
       "      <th>...</th>\n",
       "      <th>2015-12-18</th>\n",
       "      <th>2015-12-21</th>\n",
       "      <th>2015-12-22</th>\n",
       "      <th>2015-12-23</th>\n",
       "      <th>2015-12-24</th>\n",
       "      <th>2015-12-25</th>\n",
       "      <th>2015-12-28</th>\n",
       "      <th>2015-12-29</th>\n",
       "      <th>2015-12-30</th>\n",
       "      <th>2015-12-31</th>\n",
       "    </tr>\n",
       "  </thead>\n",
       "  <tbody>\n",
       "    <tr>\n",
       "      <th>0</th>\n",
       "      <td>0 days</td>\n",
       "      <td>0 days 07:12:30</td>\n",
       "      <td>0 days 07:11:23</td>\n",
       "      <td>0 days 07:24:39</td>\n",
       "      <td>0 days 07:00:24</td>\n",
       "      <td>0 days 07:17:23</td>\n",
       "      <td>0 days 07:29:04</td>\n",
       "      <td>0 days 07:15:46</td>\n",
       "      <td>0 days 07:49:52</td>\n",
       "      <td>0 days</td>\n",
       "      <td>...</td>\n",
       "      <td>0 days 00:00:00</td>\n",
       "      <td>0 days 07:20:21</td>\n",
       "      <td>0 days 07:23:45</td>\n",
       "      <td>0 days 06:30:17</td>\n",
       "      <td>0 days 07:35:47</td>\n",
       "      <td>0 days</td>\n",
       "      <td>0 days 07:46:26</td>\n",
       "      <td>0 days 07:18:54</td>\n",
       "      <td>0 days 07:46:44</td>\n",
       "      <td>0 days 07:04:49</td>\n",
       "    </tr>\n",
       "    <tr>\n",
       "      <th>1</th>\n",
       "      <td>0 days</td>\n",
       "      <td>0 days 08:06:33</td>\n",
       "      <td>0 days 07:27:17</td>\n",
       "      <td>0 days 00:00:00</td>\n",
       "      <td>0 days 07:23:49</td>\n",
       "      <td>0 days 07:25:00</td>\n",
       "      <td>0 days 07:09:03</td>\n",
       "      <td>0 days 07:36:41</td>\n",
       "      <td>0 days 07:16:44</td>\n",
       "      <td>0 days</td>\n",
       "      <td>...</td>\n",
       "      <td>0 days 07:54:11</td>\n",
       "      <td>0 days 07:45:14</td>\n",
       "      <td>0 days 07:42:44</td>\n",
       "      <td>0 days 07:26:08</td>\n",
       "      <td>0 days 00:00:00</td>\n",
       "      <td>0 days</td>\n",
       "      <td>0 days 07:36:53</td>\n",
       "      <td>0 days 07:58:57</td>\n",
       "      <td>0 days 07:59:10</td>\n",
       "      <td>0 days 08:13:38</td>\n",
       "    </tr>\n",
       "    <tr>\n",
       "      <th>2</th>\n",
       "      <td>0 days</td>\n",
       "      <td>0 days 06:41:33</td>\n",
       "      <td>0 days 07:15:56</td>\n",
       "      <td>0 days 06:24:19</td>\n",
       "      <td>0 days 06:45:54</td>\n",
       "      <td>0 days 07:20:42</td>\n",
       "      <td>0 days 06:51:41</td>\n",
       "      <td>0 days 07:25:07</td>\n",
       "      <td>0 days 06:59:59</td>\n",
       "      <td>0 days</td>\n",
       "      <td>...</td>\n",
       "      <td>0 days 06:47:09</td>\n",
       "      <td>0 days 07:09:49</td>\n",
       "      <td>0 days 06:48:06</td>\n",
       "      <td>0 days 06:43:49</td>\n",
       "      <td>0 days 06:50:59</td>\n",
       "      <td>0 days</td>\n",
       "      <td>0 days 07:01:26</td>\n",
       "      <td>0 days 07:26:20</td>\n",
       "      <td>0 days 07:32:20</td>\n",
       "      <td>0 days 06:47:11</td>\n",
       "    </tr>\n",
       "    <tr>\n",
       "      <th>3</th>\n",
       "      <td>0 days</td>\n",
       "      <td>0 days 07:20:18</td>\n",
       "      <td>0 days 07:17:31</td>\n",
       "      <td>0 days 06:56:35</td>\n",
       "      <td>0 days 06:55:10</td>\n",
       "      <td>0 days 06:51:03</td>\n",
       "      <td>0 days 07:11:35</td>\n",
       "      <td>0 days 06:59:55</td>\n",
       "      <td>0 days 07:18:23</td>\n",
       "      <td>0 days</td>\n",
       "      <td>...</td>\n",
       "      <td>0 days 07:37:45</td>\n",
       "      <td>0 days 06:50:48</td>\n",
       "      <td>0 days 07:19:35</td>\n",
       "      <td>0 days 07:24:49</td>\n",
       "      <td>0 days 07:05:06</td>\n",
       "      <td>0 days</td>\n",
       "      <td>0 days 07:26:50</td>\n",
       "      <td>0 days 07:25:00</td>\n",
       "      <td>0 days 07:21:59</td>\n",
       "      <td>0 days 07:07:59</td>\n",
       "    </tr>\n",
       "    <tr>\n",
       "      <th>4</th>\n",
       "      <td>0 days</td>\n",
       "      <td>0 days 08:03:20</td>\n",
       "      <td>0 days 07:59:17</td>\n",
       "      <td>0 days 07:40:57</td>\n",
       "      <td>0 days 07:48:22</td>\n",
       "      <td>0 days 07:39:44</td>\n",
       "      <td>0 days 07:43:18</td>\n",
       "      <td>0 days 08:21:54</td>\n",
       "      <td>0 days 08:15:26</td>\n",
       "      <td>0 days</td>\n",
       "      <td>...</td>\n",
       "      <td>0 days 07:54:13</td>\n",
       "      <td>0 days 07:39:54</td>\n",
       "      <td>0 days 07:57:27</td>\n",
       "      <td>0 days 07:47:13</td>\n",
       "      <td>0 days 08:14:58</td>\n",
       "      <td>0 days</td>\n",
       "      <td>0 days 07:39:44</td>\n",
       "      <td>0 days 08:16:07</td>\n",
       "      <td>0 days 07:57:12</td>\n",
       "      <td>0 days 08:01:05</td>\n",
       "    </tr>\n",
       "  </tbody>\n",
       "</table>\n",
       "<p>5 rows × 261 columns</p>\n",
       "</div>"
      ],
      "text/plain": [
       "  2015-01-01      2015-01-02      2015-01-05      2015-01-06      2015-01-07  \\\n",
       "0     0 days 0 days 07:12:30 0 days 07:11:23 0 days 07:24:39 0 days 07:00:24   \n",
       "1     0 days 0 days 08:06:33 0 days 07:27:17 0 days 00:00:00 0 days 07:23:49   \n",
       "2     0 days 0 days 06:41:33 0 days 07:15:56 0 days 06:24:19 0 days 06:45:54   \n",
       "3     0 days 0 days 07:20:18 0 days 07:17:31 0 days 06:56:35 0 days 06:55:10   \n",
       "4     0 days 0 days 08:03:20 0 days 07:59:17 0 days 07:40:57 0 days 07:48:22   \n",
       "\n",
       "       2015-01-08      2015-01-09      2015-01-12      2015-01-13 2015-01-14  \\\n",
       "0 0 days 07:17:23 0 days 07:29:04 0 days 07:15:46 0 days 07:49:52     0 days   \n",
       "1 0 days 07:25:00 0 days 07:09:03 0 days 07:36:41 0 days 07:16:44     0 days   \n",
       "2 0 days 07:20:42 0 days 06:51:41 0 days 07:25:07 0 days 06:59:59     0 days   \n",
       "3 0 days 06:51:03 0 days 07:11:35 0 days 06:59:55 0 days 07:18:23     0 days   \n",
       "4 0 days 07:39:44 0 days 07:43:18 0 days 08:21:54 0 days 08:15:26     0 days   \n",
       "\n",
       "   ...      2015-12-18      2015-12-21      2015-12-22      2015-12-23  \\\n",
       "0  ... 0 days 00:00:00 0 days 07:20:21 0 days 07:23:45 0 days 06:30:17   \n",
       "1  ... 0 days 07:54:11 0 days 07:45:14 0 days 07:42:44 0 days 07:26:08   \n",
       "2  ... 0 days 06:47:09 0 days 07:09:49 0 days 06:48:06 0 days 06:43:49   \n",
       "3  ... 0 days 07:37:45 0 days 06:50:48 0 days 07:19:35 0 days 07:24:49   \n",
       "4  ... 0 days 07:54:13 0 days 07:39:54 0 days 07:57:27 0 days 07:47:13   \n",
       "\n",
       "       2015-12-24 2015-12-25      2015-12-28      2015-12-29      2015-12-30  \\\n",
       "0 0 days 07:35:47     0 days 0 days 07:46:26 0 days 07:18:54 0 days 07:46:44   \n",
       "1 0 days 00:00:00     0 days 0 days 07:36:53 0 days 07:58:57 0 days 07:59:10   \n",
       "2 0 days 06:50:59     0 days 0 days 07:01:26 0 days 07:26:20 0 days 07:32:20   \n",
       "3 0 days 07:05:06     0 days 0 days 07:26:50 0 days 07:25:00 0 days 07:21:59   \n",
       "4 0 days 08:14:58     0 days 0 days 07:39:44 0 days 08:16:07 0 days 07:57:12   \n",
       "\n",
       "       2015-12-31  \n",
       "0 0 days 07:04:49  \n",
       "1 0 days 08:13:38  \n",
       "2 0 days 06:47:11  \n",
       "3 0 days 07:07:59  \n",
       "4 0 days 08:01:05  \n",
       "\n",
       "[5 rows x 261 columns]"
      ]
     },
     "execution_count": 205,
     "metadata": {},
     "output_type": "execute_result"
    }
   ],
   "source": [
    "intime_set.drop(columns=['index', 'Unnamed: 0'],axis=1, inplace=True)\n",
    "intime_set.head()"
   ]
  },
  {
   "cell_type": "code",
   "execution_count": 206,
   "metadata": {},
   "outputs": [
    {
     "data": {
      "text/plain": [
       "(4410, 261)"
      ]
     },
     "execution_count": 206,
     "metadata": {},
     "output_type": "execute_result"
    }
   ],
   "source": [
    "intime_set.shape"
   ]
  },
  {
   "cell_type": "code",
   "execution_count": 207,
   "metadata": {},
   "outputs": [],
   "source": [
    "intime_set.drop(['2015-01-01', '2015-01-14','2015-01-26','2015-03-05',\n",
    "            '2015-05-01','2015-07-17','2015-09-17','2015-10-02',\n",
    "            '2015-11-09','2015-11-10','2015-11-11','2015-12-25'\n",
    "], axis = 1,inplace=True)"
   ]
  },
  {
   "cell_type": "code",
   "execution_count": 208,
   "metadata": {},
   "outputs": [],
   "source": [
    "intime_set['Actual Time']=intime_set.mean(axis=1)"
   ]
  },
  {
   "cell_type": "code",
   "execution_count": 209,
   "metadata": {},
   "outputs": [
    {
     "data": {
      "text/plain": [
       "0   0 days 06:52:12.823293172\n",
       "1   0 days 07:18:57.493975903\n",
       "2   0 days 06:48:57.891566265\n",
       "3   0 days 06:47:21.172690763\n",
       "4   0 days 07:52:39.220883534\n",
       "Name: Actual Time, dtype: timedelta64[ns]"
      ]
     },
     "execution_count": 209,
     "metadata": {},
     "output_type": "execute_result"
    }
   ],
   "source": [
    "intime_set['Actual Time'].head()"
   ]
  },
  {
   "cell_type": "code",
   "execution_count": 210,
   "metadata": {},
   "outputs": [],
   "source": [
    "intime_set['hrs']=intime_set['Actual Time']/np.timedelta64(1,'h')\n"
   ]
  },
  {
   "cell_type": "code",
   "execution_count": 211,
   "metadata": {},
   "outputs": [],
   "source": [
    "intime_set.reset_index(inplace=True)"
   ]
  },
  {
   "cell_type": "code",
   "execution_count": 212,
   "metadata": {},
   "outputs": [
    {
     "name": "stderr",
     "output_type": "stream",
     "text": [
      "C:\\Users\\cruel\\AppData\\Local\\Temp/ipykernel_12516/280449017.py:1: FutureWarning: In a future version of pandas all arguments of DataFrame.drop except for the argument 'labels' will be keyword-only\n",
      "  intime_set.drop(intime_set.columns.difference(['index','hrs']), 1, inplace=True)\n"
     ]
    }
   ],
   "source": [
    "intime_set.drop(intime_set.columns.difference(['index','hrs']), 1, inplace=True)"
   ]
  },
  {
   "cell_type": "code",
   "execution_count": 213,
   "metadata": {},
   "outputs": [
    {
     "data": {
      "text/html": [
       "<div>\n",
       "<style scoped>\n",
       "    .dataframe tbody tr th:only-of-type {\n",
       "        vertical-align: middle;\n",
       "    }\n",
       "\n",
       "    .dataframe tbody tr th {\n",
       "        vertical-align: top;\n",
       "    }\n",
       "\n",
       "    .dataframe thead th {\n",
       "        text-align: right;\n",
       "    }\n",
       "</style>\n",
       "<table border=\"1\" class=\"dataframe\">\n",
       "  <thead>\n",
       "    <tr style=\"text-align: right;\">\n",
       "      <th></th>\n",
       "      <th>EmployeeID</th>\n",
       "      <th>hrs</th>\n",
       "    </tr>\n",
       "  </thead>\n",
       "  <tbody>\n",
       "    <tr>\n",
       "      <th>0</th>\n",
       "      <td>0</td>\n",
       "      <td>6.870229</td>\n",
       "    </tr>\n",
       "    <tr>\n",
       "      <th>1</th>\n",
       "      <td>1</td>\n",
       "      <td>7.315971</td>\n",
       "    </tr>\n",
       "    <tr>\n",
       "      <th>2</th>\n",
       "      <td>2</td>\n",
       "      <td>6.816081</td>\n",
       "    </tr>\n",
       "    <tr>\n",
       "      <th>3</th>\n",
       "      <td>3</td>\n",
       "      <td>6.789215</td>\n",
       "    </tr>\n",
       "    <tr>\n",
       "      <th>4</th>\n",
       "      <td>4</td>\n",
       "      <td>7.877561</td>\n",
       "    </tr>\n",
       "  </tbody>\n",
       "</table>\n",
       "</div>"
      ],
      "text/plain": [
       "   EmployeeID       hrs\n",
       "0           0  6.870229\n",
       "1           1  7.315971\n",
       "2           2  6.816081\n",
       "3           3  6.789215\n",
       "4           4  7.877561"
      ]
     },
     "execution_count": 213,
     "metadata": {},
     "output_type": "execute_result"
    }
   ],
   "source": [
    "intime_set.rename(columns={'index': 'EmployeeID'}, inplace=True)\n",
    "intime_set.head()"
   ]
  },
  {
   "cell_type": "code",
   "execution_count": 214,
   "metadata": {},
   "outputs": [],
   "source": [
    "dataset = dataset.merge(intime_set, on=\"EmployeeID\")"
   ]
  },
  {
   "cell_type": "markdown",
   "metadata": {},
   "source": [
    "### Nettoyage des données / Complétion"
   ]
  },
  {
   "cell_type": "code",
   "execution_count": 215,
   "metadata": {},
   "outputs": [],
   "source": [
    "#https://prod.liveshare.vsengsaas.visualstudio.com/join?6712A4B62ABC55A3AC374AFD25A834927C4D\n",
    "\n",
    "incomplete_attributes = [\"NumCompaniesWorked\",\"JobSatisfaction\",\"EnvironmentSatisfaction\",\"WorkLifeBalance\", \"TotalWorkingYears\"]\n",
    "\n",
    "for attribute in incomplete_attributes:\n",
    "\tmedian = dataset[attribute].median()\n",
    "\tdataset[attribute].fillna(median, inplace=True) # option 3\n",
    "\n",
    "#Autre methode\n",
    "# from sklearn.impute import SimpleImputer\n",
    "# imputer = SimpleImputer(missing_values=np.nan, strategy=\"median\")"
   ]
  },
  {
   "cell_type": "code",
   "execution_count": 216,
   "metadata": {},
   "outputs": [
    {
     "name": "stdout",
     "output_type": "stream",
     "text": [
      "<class 'pandas.core.frame.DataFrame'>\n",
      "Int64Index: 4409 entries, 0 to 4408\n",
      "Data columns (total 30 columns):\n",
      " #   Column                   Non-Null Count  Dtype  \n",
      "---  ------                   --------------  -----  \n",
      " 0   Age                      4409 non-null   int64  \n",
      " 1   Attrition                4409 non-null   object \n",
      " 2   BusinessTravel           4409 non-null   object \n",
      " 3   Department               4409 non-null   object \n",
      " 4   DistanceFromHome         4409 non-null   int64  \n",
      " 5   Education                4409 non-null   int64  \n",
      " 6   EducationField           4409 non-null   object \n",
      " 7   EmployeeCount            4409 non-null   int64  \n",
      " 8   EmployeeID               4409 non-null   int64  \n",
      " 9   Gender                   4409 non-null   object \n",
      " 10  JobLevel                 4409 non-null   int64  \n",
      " 11  JobRole                  4409 non-null   object \n",
      " 12  MaritalStatus            4409 non-null   object \n",
      " 13  MonthlyIncome            4409 non-null   int64  \n",
      " 14  NumCompaniesWorked       4409 non-null   float64\n",
      " 15  Over18                   4409 non-null   object \n",
      " 16  PercentSalaryHike        4409 non-null   int64  \n",
      " 17  StandardHours            4409 non-null   int64  \n",
      " 18  StockOptionLevel         4409 non-null   int64  \n",
      " 19  TotalWorkingYears        4409 non-null   float64\n",
      " 20  TrainingTimesLastYear    4409 non-null   int64  \n",
      " 21  YearsAtCompany           4409 non-null   int64  \n",
      " 22  YearsSinceLastPromotion  4409 non-null   int64  \n",
      " 23  YearsWithCurrManager     4409 non-null   int64  \n",
      " 24  EnvironmentSatisfaction  4409 non-null   float64\n",
      " 25  JobSatisfaction          4409 non-null   float64\n",
      " 26  WorkLifeBalance          4409 non-null   float64\n",
      " 27  JobInvolvement           4409 non-null   int64  \n",
      " 28  PerformanceRating        4409 non-null   int64  \n",
      " 29  hrs                      4409 non-null   float64\n",
      "dtypes: float64(6), int64(16), object(8)\n",
      "memory usage: 1.0+ MB\n"
     ]
    }
   ],
   "source": [
    "dataset.info()"
   ]
  },
  {
   "cell_type": "code",
   "execution_count": 217,
   "metadata": {},
   "outputs": [
    {
     "name": "stdout",
     "output_type": "stream",
     "text": [
      "Attrition NO:  3698  Attrition YES:  711\n"
     ]
    }
   ],
   "source": [
    "rawArray = [\"Age\",\"DistanceFromHome\",\"Education\",\"TotalWorkingYears\",\n",
    "\t\"TrainingTimesLastYear\",\"YearsAtCompany\",\"YearsSinceLastPromotion\",\"YearsWithCurrManager\",\n",
    "\t\"EnvironmentSatisfaction\", \"JobSatisfaction\", \"WorkLifeBalance\",\"JobInvolvement\", \"NumCompaniesWorked\", \"hrs\"]\n",
    "\n",
    "dataset_yes = dataset.where(dataset[\"Attrition\"]==\"Yes\", 0)\n",
    "dataset_no  = dataset.where(dataset[\"Attrition\"]==\"No\", 1)\n",
    "\n",
    "dataset_yes = dataset_yes.loc[dataset_yes[\"Attrition\"] != 0]\n",
    "dataset_no = dataset_no.loc[dataset_no[\"Attrition\"] != 1]\n",
    "\n",
    "print(\"Attrition NO: \", len(dataset_no) ,\" Attrition YES: \", len(dataset_yes))\n",
    "\n",
    "# Uncomment o have graph (1, boxplot | 2, Histogram)\n",
    "\n",
    "# for col in rawArray:\n",
    "#     plt.boxplot([dataset_yes[col].apply(np.int64), dataset_no[col].apply(np.int64)])\n",
    "#     print(col)\n",
    "#     plt.show()\n",
    "\n",
    "# for col in rawArray:\n",
    "# \tprint(col)\n",
    "# \tplt.hist(dataset_yes[col].apply(np.int64), color=\"red\", edgecolor='black', linewidth=1.2,bins=20)\n",
    "# \tplt.show()\n",
    "# \tplt.hist(dataset_no[col].apply(np.int64), color=\"green\", edgecolor='black', linewidth=1.2,bins=20)\n",
    "# \tplt.show()"
   ]
  },
  {
   "cell_type": "markdown",
   "metadata": {},
   "source": [
    "#### Séparation des données et de la colonne attrition"
   ]
  },
  {
   "cell_type": "code",
   "execution_count": 218,
   "metadata": {},
   "outputs": [],
   "source": [
    "# Data frame is created under column name Name and Attrition\n",
    "data_frame = pd.DataFrame(dataset, columns=[\"Attrition\"])\n",
    "\n",
    "# Data of Attrition is converted into Binary Data\n",
    "df_one = pd.get_dummies(data_frame[\"Attrition\"])\n",
    "\n",
    "# Binary Data is Concatenated into Dataframe\n",
    "df_two = pd.concat((df_one, data_frame), axis=1)\n",
    "\n",
    "# Attritioncolumn is dropped\n",
    "df_two = df_two.drop([\"Attrition\"], axis=1)\n",
    "\n",
    "# We want Male =0 and Female =1 So we drop Male column here\n",
    "df_two = df_two.drop([\"No\"], axis=1)\n",
    "\n",
    "# Rename the Column\n",
    "result = df_two.rename(columns={\"Yes\": \"Attrition\"})\n",
    "\n",
    "dataset_test = dataset.copy()\n",
    "dataset_test[\"Attrition\"] = result[\"Attrition\"]"
   ]
  },
  {
   "cell_type": "code",
   "execution_count": 219,
   "metadata": {},
   "outputs": [
    {
     "data": {
      "text/plain": [
       "Age                       -0.159177\n",
       "Attrition                  1.000000\n",
       "DistanceFromHome          -0.009505\n",
       "Education                 -0.015103\n",
       "EmployeeCount                   NaN\n",
       "EmployeeID                -0.004559\n",
       "JobLevel                  -0.010296\n",
       "MonthlyIncome             -0.031199\n",
       "NumCompaniesWorked         0.041963\n",
       "PercentSalaryHike          0.032449\n",
       "StandardHours                   NaN\n",
       "StockOptionLevel          -0.006932\n",
       "TotalWorkingYears         -0.170183\n",
       "TrainingTimesLastYear     -0.049219\n",
       "YearsAtCompany            -0.134247\n",
       "YearsSinceLastPromotion   -0.032995\n",
       "YearsWithCurrManager      -0.156100\n",
       "EnvironmentSatisfaction   -0.101814\n",
       "JobSatisfaction           -0.103047\n",
       "WorkLifeBalance           -0.062944\n",
       "JobInvolvement            -0.015416\n",
       "PerformanceRating          0.023362\n",
       "hrs                        0.000704\n",
       "Name: Attrition, dtype: float64"
      ]
     },
     "execution_count": 219,
     "metadata": {},
     "output_type": "execute_result"
    }
   ],
   "source": [
    "dataset_test.corr()[\"Attrition\"]"
   ]
  },
  {
   "cell_type": "code",
   "execution_count": 220,
   "metadata": {},
   "outputs": [
    {
     "data": {
      "text/html": [
       "<div>\n",
       "<style scoped>\n",
       "    .dataframe tbody tr th:only-of-type {\n",
       "        vertical-align: middle;\n",
       "    }\n",
       "\n",
       "    .dataframe tbody tr th {\n",
       "        vertical-align: top;\n",
       "    }\n",
       "\n",
       "    .dataframe thead th {\n",
       "        text-align: right;\n",
       "    }\n",
       "</style>\n",
       "<table border=\"1\" class=\"dataframe\">\n",
       "  <thead>\n",
       "    <tr style=\"text-align: right;\">\n",
       "      <th></th>\n",
       "      <th>Age</th>\n",
       "      <th>DistanceFromHome</th>\n",
       "      <th>Education</th>\n",
       "      <th>EmployeeCount</th>\n",
       "      <th>EmployeeID</th>\n",
       "      <th>JobLevel</th>\n",
       "      <th>MonthlyIncome</th>\n",
       "      <th>NumCompaniesWorked</th>\n",
       "      <th>PercentSalaryHike</th>\n",
       "      <th>StandardHours</th>\n",
       "      <th>...</th>\n",
       "      <th>TrainingTimesLastYear</th>\n",
       "      <th>YearsAtCompany</th>\n",
       "      <th>YearsSinceLastPromotion</th>\n",
       "      <th>YearsWithCurrManager</th>\n",
       "      <th>EnvironmentSatisfaction</th>\n",
       "      <th>JobSatisfaction</th>\n",
       "      <th>WorkLifeBalance</th>\n",
       "      <th>JobInvolvement</th>\n",
       "      <th>PerformanceRating</th>\n",
       "      <th>hrs</th>\n",
       "    </tr>\n",
       "  </thead>\n",
       "  <tbody>\n",
       "    <tr>\n",
       "      <th>count</th>\n",
       "      <td>4409.000000</td>\n",
       "      <td>4409.000000</td>\n",
       "      <td>4409.000000</td>\n",
       "      <td>4409.0</td>\n",
       "      <td>4409.000000</td>\n",
       "      <td>4409.000000</td>\n",
       "      <td>4409.000000</td>\n",
       "      <td>4409.000000</td>\n",
       "      <td>4409.000000</td>\n",
       "      <td>4409.0</td>\n",
       "      <td>...</td>\n",
       "      <td>4409.000000</td>\n",
       "      <td>4409.000000</td>\n",
       "      <td>4409.000000</td>\n",
       "      <td>4409.000000</td>\n",
       "      <td>4409.000000</td>\n",
       "      <td>4409.000000</td>\n",
       "      <td>4409.000000</td>\n",
       "      <td>4409.000000</td>\n",
       "      <td>4409.000000</td>\n",
       "      <td>4409.000000</td>\n",
       "    </tr>\n",
       "    <tr>\n",
       "      <th>mean</th>\n",
       "      <td>36.923112</td>\n",
       "      <td>9.188251</td>\n",
       "      <td>2.912905</td>\n",
       "      <td>1.0</td>\n",
       "      <td>2205.000000</td>\n",
       "      <td>2.063960</td>\n",
       "      <td>65031.660240</td>\n",
       "      <td>2.692447</td>\n",
       "      <td>15.210252</td>\n",
       "      <td>8.0</td>\n",
       "      <td>...</td>\n",
       "      <td>2.798594</td>\n",
       "      <td>7.004990</td>\n",
       "      <td>2.187571</td>\n",
       "      <td>4.122023</td>\n",
       "      <td>2.725561</td>\n",
       "      <td>2.729417</td>\n",
       "      <td>2.763438</td>\n",
       "      <td>2.729644</td>\n",
       "      <td>3.153776</td>\n",
       "      <td>7.314463</td>\n",
       "    </tr>\n",
       "    <tr>\n",
       "      <th>std</th>\n",
       "      <td>9.134220</td>\n",
       "      <td>8.100992</td>\n",
       "      <td>1.024048</td>\n",
       "      <td>0.0</td>\n",
       "      <td>1272.912998</td>\n",
       "      <td>1.106814</td>\n",
       "      <td>47073.969139</td>\n",
       "      <td>2.493865</td>\n",
       "      <td>3.659203</td>\n",
       "      <td>0.0</td>\n",
       "      <td>...</td>\n",
       "      <td>1.288222</td>\n",
       "      <td>6.122203</td>\n",
       "      <td>3.222042</td>\n",
       "      <td>3.566975</td>\n",
       "      <td>1.089665</td>\n",
       "      <td>1.099021</td>\n",
       "      <td>0.703612</td>\n",
       "      <td>0.711223</td>\n",
       "      <td>0.360775</td>\n",
       "      <td>1.330903</td>\n",
       "    </tr>\n",
       "    <tr>\n",
       "      <th>min</th>\n",
       "      <td>18.000000</td>\n",
       "      <td>1.000000</td>\n",
       "      <td>1.000000</td>\n",
       "      <td>1.0</td>\n",
       "      <td>1.000000</td>\n",
       "      <td>1.000000</td>\n",
       "      <td>10090.000000</td>\n",
       "      <td>0.000000</td>\n",
       "      <td>11.000000</td>\n",
       "      <td>8.0</td>\n",
       "      <td>...</td>\n",
       "      <td>0.000000</td>\n",
       "      <td>0.000000</td>\n",
       "      <td>0.000000</td>\n",
       "      <td>0.000000</td>\n",
       "      <td>1.000000</td>\n",
       "      <td>1.000000</td>\n",
       "      <td>1.000000</td>\n",
       "      <td>1.000000</td>\n",
       "      <td>3.000000</td>\n",
       "      <td>5.416880</td>\n",
       "    </tr>\n",
       "    <tr>\n",
       "      <th>25%</th>\n",
       "      <td>30.000000</td>\n",
       "      <td>2.000000</td>\n",
       "      <td>2.000000</td>\n",
       "      <td>1.0</td>\n",
       "      <td>1103.000000</td>\n",
       "      <td>1.000000</td>\n",
       "      <td>29110.000000</td>\n",
       "      <td>1.000000</td>\n",
       "      <td>12.000000</td>\n",
       "      <td>8.0</td>\n",
       "      <td>...</td>\n",
       "      <td>2.000000</td>\n",
       "      <td>3.000000</td>\n",
       "      <td>0.000000</td>\n",
       "      <td>2.000000</td>\n",
       "      <td>2.000000</td>\n",
       "      <td>2.000000</td>\n",
       "      <td>2.000000</td>\n",
       "      <td>2.000000</td>\n",
       "      <td>3.000000</td>\n",
       "      <td>6.278995</td>\n",
       "    </tr>\n",
       "    <tr>\n",
       "      <th>50%</th>\n",
       "      <td>36.000000</td>\n",
       "      <td>7.000000</td>\n",
       "      <td>3.000000</td>\n",
       "      <td>1.0</td>\n",
       "      <td>2205.000000</td>\n",
       "      <td>2.000000</td>\n",
       "      <td>49080.000000</td>\n",
       "      <td>2.000000</td>\n",
       "      <td>14.000000</td>\n",
       "      <td>8.0</td>\n",
       "      <td>...</td>\n",
       "      <td>3.000000</td>\n",
       "      <td>5.000000</td>\n",
       "      <td>1.000000</td>\n",
       "      <td>3.000000</td>\n",
       "      <td>3.000000</td>\n",
       "      <td>3.000000</td>\n",
       "      <td>3.000000</td>\n",
       "      <td>3.000000</td>\n",
       "      <td>3.000000</td>\n",
       "      <td>7.011237</td>\n",
       "    </tr>\n",
       "    <tr>\n",
       "      <th>75%</th>\n",
       "      <td>43.000000</td>\n",
       "      <td>14.000000</td>\n",
       "      <td>4.000000</td>\n",
       "      <td>1.0</td>\n",
       "      <td>3307.000000</td>\n",
       "      <td>3.000000</td>\n",
       "      <td>83800.000000</td>\n",
       "      <td>4.000000</td>\n",
       "      <td>18.000000</td>\n",
       "      <td>8.0</td>\n",
       "      <td>...</td>\n",
       "      <td>3.000000</td>\n",
       "      <td>9.000000</td>\n",
       "      <td>3.000000</td>\n",
       "      <td>7.000000</td>\n",
       "      <td>4.000000</td>\n",
       "      <td>4.000000</td>\n",
       "      <td>3.000000</td>\n",
       "      <td>3.000000</td>\n",
       "      <td>3.000000</td>\n",
       "      <td>7.900932</td>\n",
       "    </tr>\n",
       "    <tr>\n",
       "      <th>max</th>\n",
       "      <td>60.000000</td>\n",
       "      <td>29.000000</td>\n",
       "      <td>5.000000</td>\n",
       "      <td>1.0</td>\n",
       "      <td>4409.000000</td>\n",
       "      <td>5.000000</td>\n",
       "      <td>199990.000000</td>\n",
       "      <td>9.000000</td>\n",
       "      <td>25.000000</td>\n",
       "      <td>8.0</td>\n",
       "      <td>...</td>\n",
       "      <td>6.000000</td>\n",
       "      <td>40.000000</td>\n",
       "      <td>15.000000</td>\n",
       "      <td>17.000000</td>\n",
       "      <td>4.000000</td>\n",
       "      <td>4.000000</td>\n",
       "      <td>4.000000</td>\n",
       "      <td>4.000000</td>\n",
       "      <td>4.000000</td>\n",
       "      <td>10.937261</td>\n",
       "    </tr>\n",
       "  </tbody>\n",
       "</table>\n",
       "<p>8 rows × 22 columns</p>\n",
       "</div>"
      ],
      "text/plain": [
       "               Age  DistanceFromHome    Education  EmployeeCount   EmployeeID  \\\n",
       "count  4409.000000       4409.000000  4409.000000         4409.0  4409.000000   \n",
       "mean     36.923112          9.188251     2.912905            1.0  2205.000000   \n",
       "std       9.134220          8.100992     1.024048            0.0  1272.912998   \n",
       "min      18.000000          1.000000     1.000000            1.0     1.000000   \n",
       "25%      30.000000          2.000000     2.000000            1.0  1103.000000   \n",
       "50%      36.000000          7.000000     3.000000            1.0  2205.000000   \n",
       "75%      43.000000         14.000000     4.000000            1.0  3307.000000   \n",
       "max      60.000000         29.000000     5.000000            1.0  4409.000000   \n",
       "\n",
       "          JobLevel  MonthlyIncome  NumCompaniesWorked  PercentSalaryHike  \\\n",
       "count  4409.000000    4409.000000         4409.000000        4409.000000   \n",
       "mean      2.063960   65031.660240            2.692447          15.210252   \n",
       "std       1.106814   47073.969139            2.493865           3.659203   \n",
       "min       1.000000   10090.000000            0.000000          11.000000   \n",
       "25%       1.000000   29110.000000            1.000000          12.000000   \n",
       "50%       2.000000   49080.000000            2.000000          14.000000   \n",
       "75%       3.000000   83800.000000            4.000000          18.000000   \n",
       "max       5.000000  199990.000000            9.000000          25.000000   \n",
       "\n",
       "       StandardHours  ...  TrainingTimesLastYear  YearsAtCompany  \\\n",
       "count         4409.0  ...            4409.000000     4409.000000   \n",
       "mean             8.0  ...               2.798594        7.004990   \n",
       "std              0.0  ...               1.288222        6.122203   \n",
       "min              8.0  ...               0.000000        0.000000   \n",
       "25%              8.0  ...               2.000000        3.000000   \n",
       "50%              8.0  ...               3.000000        5.000000   \n",
       "75%              8.0  ...               3.000000        9.000000   \n",
       "max              8.0  ...               6.000000       40.000000   \n",
       "\n",
       "       YearsSinceLastPromotion  YearsWithCurrManager  EnvironmentSatisfaction  \\\n",
       "count              4409.000000           4409.000000              4409.000000   \n",
       "mean                  2.187571              4.122023                 2.725561   \n",
       "std                   3.222042              3.566975                 1.089665   \n",
       "min                   0.000000              0.000000                 1.000000   \n",
       "25%                   0.000000              2.000000                 2.000000   \n",
       "50%                   1.000000              3.000000                 3.000000   \n",
       "75%                   3.000000              7.000000                 4.000000   \n",
       "max                  15.000000             17.000000                 4.000000   \n",
       "\n",
       "       JobSatisfaction  WorkLifeBalance  JobInvolvement  PerformanceRating  \\\n",
       "count      4409.000000      4409.000000     4409.000000        4409.000000   \n",
       "mean          2.729417         2.763438        2.729644           3.153776   \n",
       "std           1.099021         0.703612        0.711223           0.360775   \n",
       "min           1.000000         1.000000        1.000000           3.000000   \n",
       "25%           2.000000         2.000000        2.000000           3.000000   \n",
       "50%           3.000000         3.000000        3.000000           3.000000   \n",
       "75%           4.000000         3.000000        3.000000           3.000000   \n",
       "max           4.000000         4.000000        4.000000           4.000000   \n",
       "\n",
       "               hrs  \n",
       "count  4409.000000  \n",
       "mean      7.314463  \n",
       "std       1.330903  \n",
       "min       5.416880  \n",
       "25%       6.278995  \n",
       "50%       7.011237  \n",
       "75%       7.900932  \n",
       "max      10.937261  \n",
       "\n",
       "[8 rows x 22 columns]"
      ]
     },
     "execution_count": 220,
     "metadata": {},
     "output_type": "execute_result"
    }
   ],
   "source": [
    "dataset.describe()"
   ]
  },
  {
   "cell_type": "markdown",
   "metadata": {},
   "source": [
    "## Pipeline\t"
   ]
  },
  {
   "cell_type": "markdown",
   "metadata": {},
   "source": [
    "Séparation du dataset en deux partie : les valeurs numeriques et les chaines de caractères"
   ]
  },
  {
   "cell_type": "code",
   "execution_count": 221,
   "metadata": {},
   "outputs": [],
   "source": [
    "dataset_pl = dataset.copy()\n",
    "ds_num = dataset_pl.select_dtypes(include=[np.number])\n",
    "ds_str = dataset_pl.select_dtypes(exclude=[np.number])"
   ]
  },
  {
   "cell_type": "markdown",
   "metadata": {},
   "source": [
    "Ici on utilisera le OneHotEncodeur pour transformer les features qualitatives en plusieur colonnes"
   ]
  },
  {
   "cell_type": "code",
   "execution_count": 222,
   "metadata": {},
   "outputs": [
    {
     "data": {
      "text/plain": [
       "array([[ 1.54129037, -0.39360769, -0.89156859, ...,  1.        ,\n",
       "         0.        ,  1.        ],\n",
       "       [-0.64852651,  0.10021498, -1.86819615, ...,  0.        ,\n",
       "         1.        ,  1.        ],\n",
       "       [-0.53903567,  0.96440465,  1.06168652, ...,  1.        ,\n",
       "         0.        ,  1.        ],\n",
       "       ...,\n",
       "       [-0.8675082 , -0.88743036,  1.06168652, ...,  0.        ,\n",
       "         0.        ,  1.        ],\n",
       "       [-1.30547158,  1.95204999, -0.89156859, ...,  1.        ,\n",
       "         0.        ,  1.        ],\n",
       "       [ 0.55587277,  1.08786032, -0.89156859, ...,  0.        ,\n",
       "         0.        ,  1.        ]])"
      ]
     },
     "execution_count": 222,
     "metadata": {},
     "output_type": "execute_result"
    }
   ],
   "source": [
    "from sklearn.preprocessing import StandardScaler\n",
    "from sklearn.preprocessing import OneHotEncoder\n",
    "from sklearn.compose import ColumnTransformer\n",
    "from sklearn.impute import SimpleImputer\n",
    "from sklearn.pipeline import Pipeline\n",
    "\n",
    "encoder = OneHotEncoder()\n",
    "encoder.fit(ds_str)\n",
    "# dataset.head(10)\n",
    "\n",
    "num_attribs = list(ds_num)\n",
    "str_attribs = list(ds_str)\n",
    "\n",
    "num_pipeline = Pipeline([\n",
    "\t('imputer', SimpleImputer(strategy=\"median\")),\n",
    "\t('std_scaler', StandardScaler()),\t\t\t   \n",
    "])\n",
    "\n",
    "full_pipeline = ColumnTransformer([\n",
    "\t(\"num\", num_pipeline, num_attribs),\n",
    "\t(\"str\", encoder, str_attribs),\n",
    "])\n",
    "\n",
    "dataset_pipeline = full_pipeline.fit_transform(dataset_pl)\n",
    "dataset_pipeline"
   ]
  },
  {
   "cell_type": "markdown",
   "metadata": {},
   "source": [
    "On utiliseras \"dataset_prepared\" pour tout nos futures opérations"
   ]
  },
  {
   "cell_type": "code",
   "execution_count": 223,
   "metadata": {},
   "outputs": [],
   "source": [
    "dataset_prepared = pd.DataFrame(\n",
    "    dataset_pipeline,\n",
    "    columns=list(np.concatenate((num_attribs, encoder.get_feature_names(str_attribs)))))"
   ]
  },
  {
   "cell_type": "markdown",
   "metadata": {},
   "source": [
    "## Nettoyage de données\n",
    "\n",
    "Ici on supprimera les données que l'on estime comme inutile\n",
    "> - Attrition_No -> Car on se sert uniquement de Attrition_Yes\n",
    "> - StandardHours -> Car sur leurs contract les employés ont tous les même horaires\n",
    "> - EmployeeCount -> Est toujours égale à 1\n",
    "> - EmployeeID -> N'est pas une données à prendre en considération\n",
    "> - Over18_Y -> Tous les employés ont au dessus de 18 ans "
   ]
  },
  {
   "cell_type": "code",
   "execution_count": 224,
   "metadata": {},
   "outputs": [
    {
     "name": "stdout",
     "output_type": "stream",
     "text": [
      "<class 'pandas.core.frame.DataFrame'>\n",
      "RangeIndex: 4409 entries, 0 to 4408\n",
      "Data columns (total 46 columns):\n",
      " #   Column                             Non-Null Count  Dtype  \n",
      "---  ------                             --------------  -----  \n",
      " 0   Age                                4409 non-null   float64\n",
      " 1   DistanceFromHome                   4409 non-null   float64\n",
      " 2   Education                          4409 non-null   float64\n",
      " 3   JobLevel                           4409 non-null   float64\n",
      " 4   MonthlyIncome                      4409 non-null   float64\n",
      " 5   NumCompaniesWorked                 4409 non-null   float64\n",
      " 6   PercentSalaryHike                  4409 non-null   float64\n",
      " 7   StockOptionLevel                   4409 non-null   float64\n",
      " 8   TotalWorkingYears                  4409 non-null   float64\n",
      " 9   TrainingTimesLastYear              4409 non-null   float64\n",
      " 10  YearsAtCompany                     4409 non-null   float64\n",
      " 11  YearsSinceLastPromotion            4409 non-null   float64\n",
      " 12  YearsWithCurrManager               4409 non-null   float64\n",
      " 13  EnvironmentSatisfaction            4409 non-null   float64\n",
      " 14  JobSatisfaction                    4409 non-null   float64\n",
      " 15  WorkLifeBalance                    4409 non-null   float64\n",
      " 16  JobInvolvement                     4409 non-null   float64\n",
      " 17  PerformanceRating                  4409 non-null   float64\n",
      " 18  hrs                                4409 non-null   float64\n",
      " 19  Attrition_Yes                      4409 non-null   float64\n",
      " 20  BusinessTravel_Non-Travel          4409 non-null   float64\n",
      " 21  BusinessTravel_Travel_Frequently   4409 non-null   float64\n",
      " 22  BusinessTravel_Travel_Rarely       4409 non-null   float64\n",
      " 23  Department_Human Resources         4409 non-null   float64\n",
      " 24  Department_Research & Development  4409 non-null   float64\n",
      " 25  Department_Sales                   4409 non-null   float64\n",
      " 26  EducationField_Human Resources     4409 non-null   float64\n",
      " 27  EducationField_Life Sciences       4409 non-null   float64\n",
      " 28  EducationField_Marketing           4409 non-null   float64\n",
      " 29  EducationField_Medical             4409 non-null   float64\n",
      " 30  EducationField_Other               4409 non-null   float64\n",
      " 31  EducationField_Technical Degree    4409 non-null   float64\n",
      " 32  Gender_Female                      4409 non-null   float64\n",
      " 33  Gender_Male                        4409 non-null   float64\n",
      " 34  JobRole_Healthcare Representative  4409 non-null   float64\n",
      " 35  JobRole_Human Resources            4409 non-null   float64\n",
      " 36  JobRole_Laboratory Technician      4409 non-null   float64\n",
      " 37  JobRole_Manager                    4409 non-null   float64\n",
      " 38  JobRole_Manufacturing Director     4409 non-null   float64\n",
      " 39  JobRole_Research Director          4409 non-null   float64\n",
      " 40  JobRole_Research Scientist         4409 non-null   float64\n",
      " 41  JobRole_Sales Executive            4409 non-null   float64\n",
      " 42  JobRole_Sales Representative       4409 non-null   float64\n",
      " 43  MaritalStatus_Divorced             4409 non-null   float64\n",
      " 44  MaritalStatus_Married              4409 non-null   float64\n",
      " 45  MaritalStatus_Single               4409 non-null   float64\n",
      "dtypes: float64(46)\n",
      "memory usage: 1.5 MB\n"
     ]
    }
   ],
   "source": [
    "import pandas as pd, numpy as np, seaborn as sns,matplotlib.pyplot as plt\n",
    "useless_value = ['Attrition_No','StandardHours','EmployeeCount','EmployeeID','Over18_Y']\n",
    "dataset_prepared = dataset_prepared.drop(useless_value, axis = 1)\n",
    "dataset_prepared.info()"
   ]
  },
  {
   "cell_type": "markdown",
   "metadata": {},
   "source": [
    "#### Isolation des valeurs d'attritions pour de futures traitements"
   ]
  },
  {
   "cell_type": "code",
   "execution_count": 226,
   "metadata": {},
   "outputs": [
    {
     "name": "stdout",
     "output_type": "stream",
     "text": [
      "<class 'pandas.core.frame.DataFrame'>\n",
      "RangeIndex: 4409 entries, 0 to 4408\n",
      "Data columns (total 45 columns):\n",
      " #   Column                             Non-Null Count  Dtype  \n",
      "---  ------                             --------------  -----  \n",
      " 0   Age                                4409 non-null   float64\n",
      " 1   DistanceFromHome                   4409 non-null   float64\n",
      " 2   Education                          4409 non-null   float64\n",
      " 3   JobLevel                           4409 non-null   float64\n",
      " 4   MonthlyIncome                      4409 non-null   float64\n",
      " 5   NumCompaniesWorked                 4409 non-null   float64\n",
      " 6   PercentSalaryHike                  4409 non-null   float64\n",
      " 7   StockOptionLevel                   4409 non-null   float64\n",
      " 8   TotalWorkingYears                  4409 non-null   float64\n",
      " 9   TrainingTimesLastYear              4409 non-null   float64\n",
      " 10  YearsAtCompany                     4409 non-null   float64\n",
      " 11  YearsSinceLastPromotion            4409 non-null   float64\n",
      " 12  YearsWithCurrManager               4409 non-null   float64\n",
      " 13  EnvironmentSatisfaction            4409 non-null   float64\n",
      " 14  JobSatisfaction                    4409 non-null   float64\n",
      " 15  WorkLifeBalance                    4409 non-null   float64\n",
      " 16  JobInvolvement                     4409 non-null   float64\n",
      " 17  PerformanceRating                  4409 non-null   float64\n",
      " 18  hrs                                4409 non-null   float64\n",
      " 19  BusinessTravel_Non-Travel          4409 non-null   float64\n",
      " 20  BusinessTravel_Travel_Frequently   4409 non-null   float64\n",
      " 21  BusinessTravel_Travel_Rarely       4409 non-null   float64\n",
      " 22  Department_Human Resources         4409 non-null   float64\n",
      " 23  Department_Research & Development  4409 non-null   float64\n",
      " 24  Department_Sales                   4409 non-null   float64\n",
      " 25  EducationField_Human Resources     4409 non-null   float64\n",
      " 26  EducationField_Life Sciences       4409 non-null   float64\n",
      " 27  EducationField_Marketing           4409 non-null   float64\n",
      " 28  EducationField_Medical             4409 non-null   float64\n",
      " 29  EducationField_Other               4409 non-null   float64\n",
      " 30  EducationField_Technical Degree    4409 non-null   float64\n",
      " 31  Gender_Female                      4409 non-null   float64\n",
      " 32  Gender_Male                        4409 non-null   float64\n",
      " 33  JobRole_Healthcare Representative  4409 non-null   float64\n",
      " 34  JobRole_Human Resources            4409 non-null   float64\n",
      " 35  JobRole_Laboratory Technician      4409 non-null   float64\n",
      " 36  JobRole_Manager                    4409 non-null   float64\n",
      " 37  JobRole_Manufacturing Director     4409 non-null   float64\n",
      " 38  JobRole_Research Director          4409 non-null   float64\n",
      " 39  JobRole_Research Scientist         4409 non-null   float64\n",
      " 40  JobRole_Sales Executive            4409 non-null   float64\n",
      " 41  JobRole_Sales Representative       4409 non-null   float64\n",
      " 42  MaritalStatus_Divorced             4409 non-null   float64\n",
      " 43  MaritalStatus_Married              4409 non-null   float64\n",
      " 44  MaritalStatus_Single               4409 non-null   float64\n",
      "dtypes: float64(45)\n",
      "memory usage: 1.5 MB\n"
     ]
    }
   ],
   "source": [
    "y = dataset_prepared['Attrition_Yes']\n",
    "x = dataset_prepared.drop(['Attrition_Yes'], axis = 1)\n",
    "x.info()"
   ]
  },
  {
   "cell_type": "markdown",
   "metadata": {},
   "source": [
    "### Creation des sets d'entrainement et de test"
   ]
  },
  {
   "cell_type": "code",
   "execution_count": 227,
   "metadata": {},
   "outputs": [],
   "source": [
    "# from sklearn.model_selection import train_test_split\n",
    "# X_train, X_test, y_train, y_test = train_test_split(x, y, train_size=0.7, test_size=0.3, random_state=100)\n",
    "from sklearn.model_selection import train_test_split\n",
    "X_train, X_test, y_train, y_test = train_test_split(x, y, train_size=0.7, test_size=0.3, stratify=y)"
   ]
  },
  {
   "cell_type": "markdown",
   "metadata": {},
   "source": [
    "### Implémentation du model : Random Forest"
   ]
  },
  {
   "cell_type": "markdown",
   "metadata": {},
   "source": [
    "Entrainement du modèle"
   ]
  },
  {
   "cell_type": "code",
   "execution_count": 228,
   "metadata": {},
   "outputs": [
    {
     "name": "stdout",
     "output_type": "stream",
     "text": [
      "Accuracy: 0.9863945578231292\n"
     ]
    }
   ],
   "source": [
    "from sklearn.ensemble import RandomForestClassifier\n",
    "from sklearn import metrics\n",
    "\n",
    "#Create a Gaussian Classifier\n",
    "clf=RandomForestClassifier(n_estimators=100)\n",
    "\n",
    "#Train the model using the training sets y_pred=clf.predict(X_test)\n",
    "clf.fit(X_train,y_train)\n",
    "\n",
    "# prediction on test set\n",
    "y_pred=clf.predict(X_test)\n",
    "\n",
    "print(\"Accuracy:\",metrics.accuracy_score(y_test, y_pred))\n"
   ]
  },
  {
   "cell_type": "markdown",
   "metadata": {},
   "source": [
    "#### Hiérarchisation des features"
   ]
  },
  {
   "cell_type": "code",
   "execution_count": 229,
   "metadata": {},
   "outputs": [
    {
     "data": {
      "text/plain": [
       "RandomForestClassifier(n_jobs=1)"
      ]
     },
     "execution_count": 229,
     "metadata": {},
     "output_type": "execute_result"
    }
   ],
   "source": [
    "RandomForestClassifier(bootstrap=True, class_weight=None, criterion='gini',\n",
    "                        max_depth=None, max_features='auto', max_leaf_nodes=None,\n",
    "                        min_impurity_decrease=0.0, min_impurity_split=None,\n",
    "                        min_samples_leaf=1, min_samples_split=2,\n",
    "                        min_weight_fraction_leaf=0.0, n_estimators=100, n_jobs=1,\n",
    "                        oob_score=False, random_state=None, verbose=0,\n",
    "                        warm_start=False)"
   ]
  },
  {
   "cell_type": "code",
   "execution_count": 230,
   "metadata": {},
   "outputs": [
    {
     "data": {
      "text/plain": [
       "Age                                  0.073660\n",
       "MonthlyIncome                        0.069685\n",
       "TotalWorkingYears                    0.069118\n",
       "hrs                                  0.058292\n",
       "YearsAtCompany                       0.051725\n",
       "DistanceFromHome                     0.049953\n",
       "PercentSalaryHike                    0.044493\n",
       "NumCompaniesWorked                   0.043202\n",
       "YearsWithCurrManager                 0.040905\n",
       "YearsSinceLastPromotion              0.037823\n",
       "EnvironmentSatisfaction              0.034257\n",
       "JobSatisfaction                      0.032279\n",
       "TrainingTimesLastYear                0.029444\n",
       "WorkLifeBalance                      0.027491\n",
       "JobLevel                             0.027358\n",
       "JobInvolvement                       0.025617\n",
       "Education                            0.023522\n",
       "StockOptionLevel                     0.022094\n",
       "MaritalStatus_Single                 0.021970\n",
       "BusinessTravel_Travel_Frequently     0.017121\n",
       "JobRole_Sales Executive              0.012876\n",
       "EducationField_Life Sciences         0.011272\n",
       "EducationField_Medical               0.010879\n",
       "MaritalStatus_Married                0.010569\n",
       "BusinessTravel_Travel_Rarely         0.010131\n",
       "Department_Research & Development    0.009987\n",
       "Department_Sales                     0.009869\n",
       "JobRole_Research Scientist           0.009512\n",
       "Gender_Male                          0.009456\n",
       "Department_Human Resources           0.009353\n",
       "MaritalStatus_Divorced               0.009110\n",
       "Gender_Female                        0.009051\n",
       "JobRole_Research Director            0.008860\n",
       "JobRole_Laboratory Technician        0.008476\n",
       "PerformanceRating                    0.007457\n",
       "JobRole_Healthcare Representative    0.006613\n",
       "EducationField_Human Resources       0.006087\n",
       "JobRole_Sales Representative         0.005964\n",
       "BusinessTravel_Non-Travel            0.005874\n",
       "JobRole_Manufacturing Director       0.005731\n",
       "EducationField_Marketing             0.005544\n",
       "JobRole_Manager                      0.005063\n",
       "JobRole_Human Resources              0.004726\n",
       "EducationField_Technical Degree      0.004090\n",
       "EducationField_Other                 0.003438\n",
       "dtype: float64"
      ]
     },
     "execution_count": 230,
     "metadata": {},
     "output_type": "execute_result"
    }
   ],
   "source": [
    "import pandas as pd\n",
    "feature_imp = pd.Series(clf.feature_importances_,index=X_train.columns).sort_values(ascending=False)\n",
    "feature_imp"
   ]
  },
  {
   "cell_type": "markdown",
   "metadata": {},
   "source": [
    "#### Visualisation de la hiérarchie"
   ]
  },
  {
   "cell_type": "code",
   "execution_count": 231,
   "metadata": {},
   "outputs": [
    {
     "name": "stderr",
     "output_type": "stream",
     "text": [
      "No handles with labels found to put in legend.\n"
     ]
    },
    {
     "data": {
      "image/png": "[encoded data removed]",
      "text/plain": [
       "<Figure size 864x720 with 1 Axes>"
      ]
     },
     "metadata": {
      "needs_background": "light"
     },
     "output_type": "display_data"
    }
   ],
   "source": [
    "import matplotlib.pyplot as plt\n",
    "import seaborn as sns\n",
    "%matplotlib inline\n",
    "# Creating a bar plot\n",
    "plt.figure(figsize=(12,10))\n",
    "sns.barplot(x=feature_imp, y=feature_imp.index)\n",
    "# Add labels to your graph\n",
    "plt.xlabel('Feature Importance Score')\n",
    "plt.ylabel('Features')\n",
    "plt.title(\"Visualizing Important Features\")\n",
    "plt.legend()\n",
    "plt.show()"
   ]
  },
  {
   "cell_type": "markdown",
   "metadata": {},
   "source": [
    "# Performance et validation\n",
    "### Cross validation et accuracy score"
   ]
  },
  {
   "cell_type": "code",
   "execution_count": 232,
   "metadata": {},
   "outputs": [
    {
     "name": "stdout",
     "output_type": "stream",
     "text": [
      "Accuracy: 0.9863945578231292\n"
     ]
    }
   ],
   "source": [
    "#Import scikit-learn metrics module for accuracy calculation\n",
    "from sklearn import metrics\n",
    "# Model Accuracy, how often is the classifier correct?\n",
    "print(\"Accuracy:\",metrics.accuracy_score(y_test, y_pred))"
   ]
  },
  {
   "cell_type": "code",
   "execution_count": 233,
   "metadata": {},
   "outputs": [
    {
     "data": {
      "text/plain": [
       "array([0., 0., 0., ..., 0., 0., 0.])"
      ]
     },
     "execution_count": 233,
     "metadata": {},
     "output_type": "execute_result"
    }
   ],
   "source": [
    "from sklearn.model_selection import cross_val_predict\n",
    "rf_pred = cross_val_predict(clf, X_train, y_train, cv=3)\n",
    "rf_pred"
   ]
  },
  {
   "cell_type": "code",
   "execution_count": 234,
   "metadata": {},
   "outputs": [
    {
     "data": {
      "text/plain": [
       "array([0.96209913, 0.96404276, 0.95136187])"
      ]
     },
     "execution_count": 234,
     "metadata": {},
     "output_type": "execute_result"
    }
   ],
   "source": [
    "from sklearn.model_selection import cross_val_score\n",
    "rf_score = cross_val_score(clf, X_train, y_train, cv=3, scoring=\"accuracy\")\n",
    "rf_score"
   ]
  },
  {
   "cell_type": "markdown",
   "metadata": {},
   "source": [
    "### Matrice de confusion"
   ]
  },
  {
   "cell_type": "code",
   "execution_count": 235,
   "metadata": {},
   "outputs": [
    {
     "data": {
      "text/plain": [
       "array([[1107,    3],\n",
       "       [  15,  198]], dtype=int64)"
      ]
     },
     "execution_count": 235,
     "metadata": {},
     "output_type": "execute_result"
    }
   ],
   "source": [
    "from sklearn.metrics import confusion_matrix\n",
    "confusion_matrix(y_test, y_pred)"
   ]
  },
  {
   "cell_type": "markdown",
   "metadata": {},
   "source": [
    "### Precision score"
   ]
  },
  {
   "cell_type": "code",
   "execution_count": 236,
   "metadata": {},
   "outputs": [
    {
     "data": {
      "text/plain": [
       "0.9850746268656716"
      ]
     },
     "execution_count": 236,
     "metadata": {},
     "output_type": "execute_result"
    }
   ],
   "source": [
    "from sklearn.metrics import precision_score, recall_score\n",
    "fpr = precision_score(y_test, y_pred)\n",
    "fpr"
   ]
  },
  {
   "cell_type": "markdown",
   "metadata": {},
   "source": [
    "### classification report"
   ]
  },
  {
   "cell_type": "code",
   "execution_count": 237,
   "metadata": {},
   "outputs": [
    {
     "name": "stdout",
     "output_type": "stream",
     "text": [
      "              precision    recall  f1-score   support\n",
      "\n",
      "         0.0       0.99      1.00      0.99      1110\n",
      "         1.0       0.99      0.93      0.96       213\n",
      "\n",
      "    accuracy                           0.99      1323\n",
      "   macro avg       0.99      0.96      0.97      1323\n",
      "weighted avg       0.99      0.99      0.99      1323\n",
      "\n"
     ]
    }
   ],
   "source": [
    "from sklearn.metrics import classification_report\n",
    "print(classification_report(y_test,y_pred))"
   ]
  },
  {
   "cell_type": "markdown",
   "metadata": {},
   "source": [
    "### Recall score"
   ]
  },
  {
   "cell_type": "code",
   "execution_count": 238,
   "metadata": {},
   "outputs": [
    {
     "data": {
      "text/plain": [
       "0.9295774647887324"
      ]
     },
     "execution_count": 238,
     "metadata": {},
     "output_type": "execute_result"
    }
   ],
   "source": [
    "tpr = recall_score(y_test, y_pred)\n",
    "tpr"
   ]
  },
  {
   "cell_type": "markdown",
   "metadata": {},
   "source": [
    "### F1 - score"
   ]
  },
  {
   "cell_type": "code",
   "execution_count": 239,
   "metadata": {},
   "outputs": [
    {
     "data": {
      "text/plain": [
       "0.9565217391304348"
      ]
     },
     "execution_count": 239,
     "metadata": {},
     "output_type": "execute_result"
    }
   ],
   "source": [
    "from sklearn.metrics import f1_score\n",
    "f1_score(y_test, y_pred)"
   ]
  },
  {
   "cell_type": "code",
   "execution_count": 240,
   "metadata": {},
   "outputs": [],
   "source": [
    "from sklearn.metrics import roc_curve\n",
    "\n",
    "fpr, tpr, thresholds = roc_curve(y_test, y_pred)"
   ]
  },
  {
   "cell_type": "code",
   "execution_count": 241,
   "metadata": {},
   "outputs": [
    {
     "data": {
      "image/png": "[encoded data removed]",
      "text/plain": [
       "<Figure size 576x432 with 1 Axes>"
      ]
     },
     "metadata": {
      "needs_background": "light"
     },
     "output_type": "display_data"
    }
   ],
   "source": [
    "def plot_roc_curve(fpr, tpr, label=None):\n",
    "    plt.plot(fpr, tpr, linewidth=2, label=label)\n",
    "    plt.plot([0, 1], [0, 1], 'k--')\n",
    "    plt.axis([0, 1, 0, 1])\n",
    "    plt.xlabel('False Positive Rate', fontsize=16)\n",
    "    plt.ylabel('True Positive Rate', fontsize=16)\n",
    "\n",
    "plt.figure(figsize=(8, 6))\n",
    "plot_roc_curve(fpr, tpr)\n",
    "# save_fig(\"roc_curve_plot\")\n",
    "plt.show()"
   ]
  },
  {
   "cell_type": "markdown",
   "metadata": {},
   "source": [
    "#### Creation de la courbre ROC\n",
    "\n",
    "La courbe ROC montre le rapport entre le taux de vrais positifs (TPR) du modèle et le taux de faux positifs (FPR). Le TPR est le taux auquel le classificateur prédit un résultat « positif » pour des observations qui sont « positives »."
   ]
  },
  {
   "cell_type": "code",
   "execution_count": 242,
   "metadata": {},
   "outputs": [
    {
     "data": {
      "image/png": "[encoded data removed]",
      "text/plain": [
       "<Figure size 792x360 with 1 Axes>"
      ]
     },
     "metadata": {
      "needs_background": "light"
     },
     "output_type": "display_data"
    }
   ],
   "source": [
    "from sklearn import metrics\n",
    "\n",
    "plt.figure(figsize=(11,5))\n",
    "\n",
    "lrprob = clf.predict_proba(X_test)\n",
    "lr_pred = lrprob[:,1]\n",
    "fpr, tpr, threshold = metrics.roc_curve(y_test, lr_pred)\n",
    "roc_auc = metrics.auc(fpr, tpr)\n",
    "\n",
    "plt.plot(fpr, tpr, 'b', label = 'AUC = %0.2f' % roc_auc)\n",
    "plt.plot([0, 1], [0, 1],'r--')\n",
    "plt.title('Random Forest ROC', fontsize=15)\n",
    "plt.ylabel('True Positive Rate', fontsize=15)\n",
    "plt.xlabel('False Positive Rate', fontsize=15)\n",
    "plt.legend(loc = 'lower right', prop={'size': 14})\n",
    "\n",
    "plt.show()"
   ]
  },
  {
   "cell_type": "markdown",
   "metadata": {},
   "source": [
    "#### Coubre de la relation entre la précision et le rappel"
   ]
  },
  {
   "cell_type": "code",
   "execution_count": 243,
   "metadata": {},
   "outputs": [],
   "source": [
    "from sklearn.metrics import precision_recall_curve\n",
    "precisions, recalls, thresholds = precision_recall_curve(y_test, y_pred)"
   ]
  },
  {
   "cell_type": "code",
   "execution_count": 244,
   "metadata": {},
   "outputs": [
    {
     "data": {
      "image/png": "[encoded data removed]",
      "text/plain": [
       "<Figure size 576x432 with 1 Axes>"
      ]
     },
     "metadata": {
      "needs_background": "light"
     },
     "output_type": "display_data"
    }
   ],
   "source": [
    "def plot_precision_vs_recall(precisions, recalls):\n",
    "    plt.plot(recalls, precisions, \"k-\", linewidth=1)\n",
    "    plt.xlabel(\"recall\", fontsize=16)\n",
    "    plt.ylabel(\"precision\", fontsize=16)\n",
    "    plt.axis([0, 1, 0, 1])\n",
    "\n",
    "plt.figure(figsize=(8, 6))\n",
    "plot_precision_vs_recall(precisions, recalls)\n",
    "# save_fig(\"precision_vs_recall_plot\")\n",
    "plt.show()"
   ]
  },
  {
   "cell_type": "code",
   "execution_count": null,
   "metadata": {},
   "outputs": [],
   "source": []
  }
 ],
 "metadata": {
  "interpreter": {
   "hash": "63fd5069d213b44bf678585dea6b12cceca9941eaf7f819626cde1f2670de90d"
  },
  "kernelspec": {
   "display_name": "Python 3.9.7 64-bit",
   "language": "python",
   "name": "python3"
  },
  "language_info": {
   "codemirror_mode": {
    "name": "ipython",
    "version": 3
   },
   "file_extension": ".py",
   "mimetype": "text/x-python",
   "name": "python",
   "nbconvert_exporter": "python",
   "pygments_lexer": "ipython3",
   "version": "3.9.7"
  },
  "orig_nbformat": 4
 },
 "nbformat": 4,
 "nbformat_minor": 2
}
